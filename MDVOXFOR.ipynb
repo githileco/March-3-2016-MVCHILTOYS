{
  "nbformat": 4,
  "nbformat_minor": 0,
  "metadata": {
    "colab": {
      "provenance": [],
      "authorship_tag": "ABX9TyPURsXzGrbFgL0fEyjZOsaO",
      "include_colab_link": true
    },
    "kernelspec": {
      "name": "python3",
      "display_name": "Python 3"
    },
    "language_info": {
      "name": "python"
    }
  },
  "cells": [
    {
      "cell_type": "markdown",
      "metadata": {
        "id": "view-in-github",
        "colab_type": "text"
      },
      "source": [
        "<a href=\"https://colab.research.google.com/github/githileco/March-3-2016-MVCHILTOYS/blob/master/MDVOXFOR.ipynb\" target=\"_parent\"><img src=\"https://colab.research.google.com/assets/colab-badge.svg\" alt=\"Open In Colab\"/></a>"
      ]
    },
    {
      "cell_type": "code",
      "execution_count": null,
      "metadata": {
        "colab": {
          "base_uri": "https://localhost:8080/",
          "height": 142
        },
        "id": "7NuUA90wx_FN",
        "outputId": "42c50a05-e650-4044-c373-1a80d9fb5fd3"
      },
      "outputs": [
        {
          "output_type": "error",
          "ename": "SyntaxError",
          "evalue": "ignored",
          "traceback": [
            "\u001b[0;36m  File \u001b[0;32m\"<ipython-input-1-f4c7887823e0>\"\u001b[0;36m, line \u001b[0;32m2\u001b[0m\n\u001b[0;31m    nspk_all=$(wc -l </content/speakers_all.txt)\u001b[0m\n\u001b[0m             ^\u001b[0m\n\u001b[0;31mSyntaxError\u001b[0m\u001b[0;31m:\u001b[0m invalid syntax\n"
          ]
        }
      ],
      "source": [
        "nspk_test=30\n",
        "nspk_all=$(wc -l </content/speakers_all.txt)\n",
        "if [ \"$nspk_test\" -ge \"$nspk_all\" ]; then\n",
        "  echo \"${nspk_test} test speakers requested, but there are only ${nspk_all} speakers in total!\"\n",
        "  exit 1;\n",
        "fi"
      ]
    },
    {
      "cell_type": "code",
      "source": [
        "nspk_test=30\n",
        "nspk_all=(wc -l </content/speakers_all.txt)\n",
        "if [ \"nspk_test\" -ge \"nspk_all\" ]; then\n",
        "  echo \"{nspk_test} test speakers requested, but there are only {nspk_all} speakers in total!\"\n",
        "  exit 1;\n",
        "fi"
      ],
      "metadata": {
        "colab": {
          "base_uri": "https://localhost:8080/",
          "height": 142
        },
        "id": "H3JH47z30F7a",
        "outputId": "16ef9eab-2601-4181-c4f9-0f67fa24bf06"
      },
      "execution_count": null,
      "outputs": [
        {
          "output_type": "error",
          "ename": "SyntaxError",
          "evalue": "ignored",
          "traceback": [
            "\u001b[0;36m  File \u001b[0;32m\"<ipython-input-2-b02b95a3515a>\"\u001b[0;36m, line \u001b[0;32m2\u001b[0m\n\u001b[0;31m    nspk_all=(wc -l </content/speakers_all.txt)\u001b[0m\n\u001b[0m                     ^\u001b[0m\n\u001b[0;31mSyntaxError\u001b[0m\u001b[0;31m:\u001b[0m invalid syntax\n"
          ]
        }
      ]
    },
    {
      "cell_type": "code",
      "source": [
        "nspk_all = wc -l < /content/speakers_all.txt"
      ],
      "metadata": {
        "colab": {
          "base_uri": "https://localhost:8080/",
          "height": 142
        },
        "id": "0IgRXrle0pqE",
        "outputId": "5af8913b-d967-4c1b-aeea-f220fe6bd4ac"
      },
      "execution_count": null,
      "outputs": [
        {
          "output_type": "error",
          "ename": "SyntaxError",
          "evalue": "ignored",
          "traceback": [
            "\u001b[0;36m  File \u001b[0;32m\"<ipython-input-3-3328cdfa3f5e>\"\u001b[0;36m, line \u001b[0;32m1\u001b[0m\n\u001b[0;31m    nspk_all = wc -l < /content/speakers_all.txt\u001b[0m\n\u001b[0m                       ^\u001b[0m\n\u001b[0;31mSyntaxError\u001b[0m\u001b[0;31m:\u001b[0m invalid syntax\n"
          ]
        }
      ]
    },
    {
      "cell_type": "code",
      "source": [
        "nspk_all = wc -l < content/speakers_all.txt"
      ],
      "metadata": {
        "colab": {
          "base_uri": "https://localhost:8080/",
          "height": 211
        },
        "id": "4P6cDFuz1CiZ",
        "outputId": "3b1833d8-c720-477b-cbce-723cc6475d31"
      },
      "execution_count": null,
      "outputs": [
        {
          "output_type": "error",
          "ename": "NameError",
          "evalue": "ignored",
          "traceback": [
            "\u001b[0;31m---------------------------------------------------------------------------\u001b[0m",
            "\u001b[0;31mNameError\u001b[0m                                 Traceback (most recent call last)",
            "\u001b[0;32m<ipython-input-4-95c421ee1e1c>\u001b[0m in \u001b[0;36m<cell line: 1>\u001b[0;34m()\u001b[0m\n\u001b[0;32m----> 1\u001b[0;31m \u001b[0mnspk_all\u001b[0m \u001b[0;34m=\u001b[0m \u001b[0mwc\u001b[0m \u001b[0;34m-\u001b[0m\u001b[0ml\u001b[0m \u001b[0;34m<\u001b[0m \u001b[0mcontent\u001b[0m\u001b[0;34m/\u001b[0m\u001b[0mspeakers_all\u001b[0m\u001b[0;34m.\u001b[0m\u001b[0mtxt\u001b[0m\u001b[0;34m\u001b[0m\u001b[0;34m\u001b[0m\u001b[0m\n\u001b[0m",
            "\u001b[0;31mNameError\u001b[0m: name 'wc' is not defined"
          ]
        }
      ]
    },
    {
      "cell_type": "code",
      "source": [
        "$string = \"[1, 2, 3]\";"
      ],
      "metadata": {
        "id": "wAwBvvZI2i6-"
      },
      "execution_count": null,
      "outputs": []
    },
    {
      "cell_type": "code",
      "source": [
        "nspk_all = wc -l content/speakers_all.txt"
      ],
      "metadata": {
        "colab": {
          "base_uri": "https://localhost:8080/",
          "height": 142
        },
        "id": "NTfFq9S45uQ_",
        "outputId": "fd606690-d54c-44e8-ddb2-88958deb2bd3"
      },
      "execution_count": null,
      "outputs": [
        {
          "output_type": "error",
          "ename": "SyntaxError",
          "evalue": "ignored",
          "traceback": [
            "\u001b[0;36m  File \u001b[0;32m\"<ipython-input-5-25e937906a7b>\"\u001b[0;36m, line \u001b[0;32m1\u001b[0m\n\u001b[0;31m    nspk_all = wc -l content/speakers_all.txt\u001b[0m\n\u001b[0m                     ^\u001b[0m\n\u001b[0;31mSyntaxError\u001b[0m\u001b[0;31m:\u001b[0m invalid syntax\n"
          ]
        }
      ]
    },
    {
      "cell_type": "code",
      "source": [
        "nspk_all = wc -l /content/speakers_all.txt"
      ],
      "metadata": {
        "colab": {
          "base_uri": "https://localhost:8080/",
          "height": 211
        },
        "id": "l9v86brY57Io",
        "outputId": "d39bb5d1-3a9a-44f3-a047-c81adc259af5"
      },
      "execution_count": null,
      "outputs": [
        {
          "output_type": "error",
          "ename": "NameError",
          "evalue": "ignored",
          "traceback": [
            "\u001b[0;31m---------------------------------------------------------------------------\u001b[0m",
            "\u001b[0;31mNameError\u001b[0m                                 Traceback (most recent call last)",
            "\u001b[0;32m<ipython-input-8-25ee47b1db40>\u001b[0m in \u001b[0;36m<cell line: 1>\u001b[0;34m()\u001b[0m\n\u001b[0;32m----> 1\u001b[0;31m \u001b[0mnspk_all\u001b[0m \u001b[0;34m=\u001b[0m \u001b[0mwc\u001b[0m \u001b[0;34m-\u001b[0m\u001b[0ml\u001b[0m \u001b[0;34m/\u001b[0m\u001b[0mcontent\u001b[0m\u001b[0;34m/\u001b[0m\u001b[0mspeakers_all\u001b[0m\u001b[0;34m.\u001b[0m\u001b[0mtxt\u001b[0m\u001b[0;34m\u001b[0m\u001b[0;34m\u001b[0m\u001b[0m\n\u001b[0m",
            "\u001b[0;31mNameError\u001b[0m: name 'wc' is not defined"
          ]
        }
      ]
    },
    {
      "cell_type": "code",
      "source": [
        "wc -l /content/speakers_all.txt"
      ],
      "metadata": {
        "colab": {
          "base_uri": "https://localhost:8080/",
          "height": 211
        },
        "id": "e72qE66S7laN",
        "outputId": "c1fca0c7-a3bc-4481-d160-0aea2cf7f0e4"
      },
      "execution_count": null,
      "outputs": [
        {
          "output_type": "error",
          "ename": "NameError",
          "evalue": "ignored",
          "traceback": [
            "\u001b[0;31m---------------------------------------------------------------------------\u001b[0m",
            "\u001b[0;31mNameError\u001b[0m                                 Traceback (most recent call last)",
            "\u001b[0;32m<ipython-input-9-906d07180ff7>\u001b[0m in \u001b[0;36m<cell line: 1>\u001b[0;34m()\u001b[0m\n\u001b[0;32m----> 1\u001b[0;31m \u001b[0mwc\u001b[0m \u001b[0;34m-\u001b[0m\u001b[0ml\u001b[0m \u001b[0;34m/\u001b[0m\u001b[0mcontent\u001b[0m\u001b[0;34m/\u001b[0m\u001b[0mspeakers_all\u001b[0m\u001b[0;34m.\u001b[0m\u001b[0mtxt\u001b[0m\u001b[0;34m\u001b[0m\u001b[0;34m\u001b[0m\u001b[0m\n\u001b[0m",
            "\u001b[0;31mNameError\u001b[0m: name 'wc' is not defined"
          ]
        }
      ]
    },
    {
      "cell_type": "code",
      "source": [
        "%apt-get install coreutils"
      ],
      "metadata": {
        "colab": {
          "base_uri": "https://localhost:8080/"
        },
        "id": "dnQud_CG793s",
        "outputId": "ff649b8b-5709-4780-f831-2ce761f3651e"
      },
      "execution_count": null,
      "outputs": [
        {
          "output_type": "stream",
          "name": "stderr",
          "text": [
            "UsageError: Line magic function `%apt-get` not found.\n"
          ]
        }
      ]
    },
    {
      "cell_type": "code",
      "source": [
        "!apt-get install coreutils"
      ],
      "metadata": {
        "colab": {
          "base_uri": "https://localhost:8080/"
        },
        "id": "WT0CgrTC8HRm",
        "outputId": "6d1c372c-1406-4e97-fa8f-d96dbaaaf270"
      },
      "execution_count": null,
      "outputs": [
        {
          "output_type": "stream",
          "name": "stdout",
          "text": [
            "Reading package lists... Done\n",
            "Building dependency tree... Done\n",
            "Reading state information... Done\n",
            "coreutils is already the newest version (8.32-4.1ubuntu1).\n",
            "0 upgraded, 0 newly installed, 0 to remove and 18 not upgraded.\n"
          ]
        }
      ]
    },
    {
      "cell_type": "code",
      "source": [
        "wc -m /content/speakers_all.txt"
      ],
      "metadata": {
        "colab": {
          "base_uri": "https://localhost:8080/",
          "height": 211
        },
        "id": "6QkQ27R-8hZx",
        "outputId": "64a430e2-1488-4b8c-980a-d5c50c044a9e"
      },
      "execution_count": null,
      "outputs": [
        {
          "output_type": "error",
          "ename": "NameError",
          "evalue": "ignored",
          "traceback": [
            "\u001b[0;31m---------------------------------------------------------------------------\u001b[0m",
            "\u001b[0;31mNameError\u001b[0m                                 Traceback (most recent call last)",
            "\u001b[0;32m<ipython-input-12-00d4be831c84>\u001b[0m in \u001b[0;36m<cell line: 1>\u001b[0;34m()\u001b[0m\n\u001b[0;32m----> 1\u001b[0;31m \u001b[0mwc\u001b[0m \u001b[0;34m-\u001b[0m\u001b[0mm\u001b[0m \u001b[0;34m/\u001b[0m\u001b[0mcontent\u001b[0m\u001b[0;34m/\u001b[0m\u001b[0mspeakers_all\u001b[0m\u001b[0;34m.\u001b[0m\u001b[0mtxt\u001b[0m\u001b[0;34m\u001b[0m\u001b[0;34m\u001b[0m\u001b[0m\n\u001b[0m",
            "\u001b[0;31mNameError\u001b[0m: name 'wc' is not defined"
          ]
        }
      ]
    },
    {
      "cell_type": "code",
      "source": [
        "ls -l | grep \"^d\" | wc -l"
      ],
      "metadata": {
        "colab": {
          "base_uri": "https://localhost:8080/"
        },
        "id": "-Qb_VJuK_e-n",
        "outputId": "02f6556b-3e06-4aa0-faa2-657e6861696d"
      },
      "execution_count": null,
      "outputs": [
        {
          "output_type": "stream",
          "name": "stdout",
          "text": [
            "1\n"
          ]
        }
      ]
    },
    {
      "cell_type": "code",
      "source": [
        "wc -m /content/speakers_all.txt"
      ],
      "metadata": {
        "colab": {
          "base_uri": "https://localhost:8080/",
          "height": 211
        },
        "id": "Wh107UR7_4wa",
        "outputId": "c3dc35c2-e919-4a94-e2e7-c6a64afd0619"
      },
      "execution_count": null,
      "outputs": [
        {
          "output_type": "error",
          "ename": "NameError",
          "evalue": "ignored",
          "traceback": [
            "\u001b[0;31m---------------------------------------------------------------------------\u001b[0m",
            "\u001b[0;31mNameError\u001b[0m                                 Traceback (most recent call last)",
            "\u001b[0;32m<ipython-input-14-00d4be831c84>\u001b[0m in \u001b[0;36m<cell line: 1>\u001b[0;34m()\u001b[0m\n\u001b[0;32m----> 1\u001b[0;31m \u001b[0mwc\u001b[0m \u001b[0;34m-\u001b[0m\u001b[0mm\u001b[0m \u001b[0;34m/\u001b[0m\u001b[0mcontent\u001b[0m\u001b[0;34m/\u001b[0m\u001b[0mspeakers_all\u001b[0m\u001b[0;34m.\u001b[0m\u001b[0mtxt\u001b[0m\u001b[0;34m\u001b[0m\u001b[0;34m\u001b[0m\u001b[0m\n\u001b[0m",
            "\u001b[0;31mNameError\u001b[0m: name 'wc' is not defined"
          ]
        }
      ]
    },
    {
      "cell_type": "code",
      "source": [
        "/content/speakers_all.txt | wc -l"
      ],
      "metadata": {
        "colab": {
          "base_uri": "https://localhost:8080/",
          "height": 142
        },
        "id": "I5HsRpTTAfL9",
        "outputId": "92ddd917-4aea-43b8-a726-0977f6f55371"
      },
      "execution_count": null,
      "outputs": [
        {
          "output_type": "error",
          "ename": "SyntaxError",
          "evalue": "ignored",
          "traceback": [
            "\u001b[0;36m  File \u001b[0;32m\"<ipython-input-15-95b61df46990>\"\u001b[0;36m, line \u001b[0;32m1\u001b[0m\n\u001b[0;31m    content/speakers_all.txt(|, wc, -l)\u001b[0m\n\u001b[0m                             ^\u001b[0m\n\u001b[0;31mSyntaxError\u001b[0m\u001b[0;31m:\u001b[0m invalid syntax\n"
          ]
        }
      ]
    },
    {
      "cell_type": "code",
      "source": [
        "/content/speakers_all.txt > wc -l"
      ],
      "metadata": {
        "colab": {
          "base_uri": "https://localhost:8080/",
          "height": 142
        },
        "id": "rce2c4CdA5Cs",
        "outputId": "54340c4f-4483-488a-c8bd-3bde581d8a0b"
      },
      "execution_count": null,
      "outputs": [
        {
          "output_type": "error",
          "ename": "SyntaxError",
          "evalue": "ignored",
          "traceback": [
            "\u001b[0;36m  File \u001b[0;32m\"<ipython-input-16-afa2fb7b5e6f>\"\u001b[0;36m, line \u001b[0;32m1\u001b[0m\n\u001b[0;31m    content/speakers_all.txt(>, wc, -l)\u001b[0m\n\u001b[0m                             ^\u001b[0m\n\u001b[0;31mSyntaxError\u001b[0m\u001b[0;31m:\u001b[0m invalid syntax\n"
          ]
        }
      ]
    },
    {
      "cell_type": "code",
      "source": [
        "wc -l < /content/speakers_all.txt"
      ],
      "metadata": {
        "colab": {
          "base_uri": "https://localhost:8080/",
          "height": 142
        },
        "id": "_Xt06p5aBRpe",
        "outputId": "339fce81-e1ff-4c93-8ae2-77b684877b6b"
      },
      "execution_count": null,
      "outputs": [
        {
          "output_type": "error",
          "ename": "SyntaxError",
          "evalue": "ignored",
          "traceback": [
            "\u001b[0;36m  File \u001b[0;32m\"<ipython-input-18-8e2b85d5b9c2>\"\u001b[0;36m, line \u001b[0;32m1\u001b[0m\n\u001b[0;31m    wc -l < /content/speakers_all.txt\u001b[0m\n\u001b[0m            ^\u001b[0m\n\u001b[0;31mSyntaxError\u001b[0m\u001b[0;31m:\u001b[0m invalid syntax\n"
          ]
        }
      ]
    },
    {
      "cell_type": "code",
      "source": [
        "(wc -l < content/speakers_all.txt"
      ],
      "metadata": {
        "id": "i1_P1SLKBjMQ"
      },
      "execution_count": null,
      "outputs": []
    },
    {
      "cell_type": "code",
      "source": [
        "wc -l < content/speakers_all.txt"
      ],
      "metadata": {
        "colab": {
          "base_uri": "https://localhost:8080/",
          "height": 211
        },
        "id": "Gs9muTJYBqyR",
        "outputId": "33fed25e-4a5a-4281-ec43-5df6b25ef8eb"
      },
      "execution_count": null,
      "outputs": [
        {
          "output_type": "error",
          "ename": "NameError",
          "evalue": "ignored",
          "traceback": [
            "\u001b[0;31m---------------------------------------------------------------------------\u001b[0m",
            "\u001b[0;31mNameError\u001b[0m                                 Traceback (most recent call last)",
            "\u001b[0;32m<ipython-input-19-4f15d64150f4>\u001b[0m in \u001b[0;36m<cell line: 1>\u001b[0;34m()\u001b[0m\n\u001b[0;32m----> 1\u001b[0;31m \u001b[0mwc\u001b[0m \u001b[0;34m-\u001b[0m\u001b[0ml\u001b[0m \u001b[0;34m<\u001b[0m \u001b[0mcontent\u001b[0m\u001b[0;34m/\u001b[0m\u001b[0mspeakers_all\u001b[0m\u001b[0;34m.\u001b[0m\u001b[0mtxt\u001b[0m\u001b[0;34m\u001b[0m\u001b[0;34m\u001b[0m\u001b[0m\n\u001b[0m",
            "\u001b[0;31mNameError\u001b[0m: name 'wc' is not defined"
          ]
        }
      ]
    },
    {
      "cell_type": "code",
      "source": [
        "ls -l"
      ],
      "metadata": {
        "colab": {
          "base_uri": "https://localhost:8080/"
        },
        "id": "YUsW_YWHB8Jk",
        "outputId": "85946d50-2cfa-467d-b2ed-80bd2da5c6e7"
      },
      "execution_count": null,
      "outputs": [
        {
          "output_type": "stream",
          "name": "stdout",
          "text": [
            "total 88\n",
            "drwxr-xr-x 1 root root  4096 Oct  9 17:50 \u001b[0m\u001b[01;34msample_data\u001b[0m/\n",
            "-rw-r--r-- 1 root root 74371 Oct 10 22:51 speakers_all.txt\n",
            "-rw-r--r-- 1 root root  6379 Oct 10 22:50 speakers_test.txt\n"
          ]
        }
      ]
    },
    {
      "cell_type": "code",
      "source": [
        "speakers_all.txt > wc -l"
      ],
      "metadata": {
        "colab": {
          "base_uri": "https://localhost:8080/",
          "height": 211
        },
        "id": "YTJDkSLLCVDu",
        "outputId": "caf8bebc-3dd6-453c-e351-621875477445"
      },
      "execution_count": null,
      "outputs": [
        {
          "output_type": "error",
          "ename": "NameError",
          "evalue": "ignored",
          "traceback": [
            "\u001b[0;31m---------------------------------------------------------------------------\u001b[0m",
            "\u001b[0;31mNameError\u001b[0m                                 Traceback (most recent call last)",
            "\u001b[0;32m<ipython-input-21-6d5afb6b9f30>\u001b[0m in \u001b[0;36m<cell line: 1>\u001b[0;34m()\u001b[0m\n\u001b[0;32m----> 1\u001b[0;31m \u001b[0mspeakers_all\u001b[0m\u001b[0;34m.\u001b[0m\u001b[0mtxt\u001b[0m \u001b[0;34m>\u001b[0m \u001b[0mwc\u001b[0m \u001b[0;34m-\u001b[0m\u001b[0ml\u001b[0m\u001b[0;34m\u001b[0m\u001b[0;34m\u001b[0m\u001b[0m\n\u001b[0m",
            "\u001b[0;31mNameError\u001b[0m: name 'speakers_all' is not defined"
          ]
        }
      ]
    },
    {
      "cell_type": "code",
      "source": [
        "/content/speakers_all.txt > wc -l"
      ],
      "metadata": {
        "colab": {
          "base_uri": "https://localhost:8080/",
          "height": 142
        },
        "id": "bMhVIgzKCn5C",
        "outputId": "aa1063d9-dd11-4928-c07d-d217c2d445f3"
      },
      "execution_count": null,
      "outputs": [
        {
          "output_type": "error",
          "ename": "SyntaxError",
          "evalue": "ignored",
          "traceback": [
            "\u001b[0;36m  File \u001b[0;32m\"<ipython-input-23-afa2fb7b5e6f>\"\u001b[0;36m, line \u001b[0;32m1\u001b[0m\n\u001b[0;31m    content/speakers_all.txt(>, wc, -l)\u001b[0m\n\u001b[0m                             ^\u001b[0m\n\u001b[0;31mSyntaxError\u001b[0m\u001b[0;31m:\u001b[0m invalid syntax\n"
          ]
        }
      ]
    },
    {
      "cell_type": "code",
      "source": [
        "\n",
        "$ ls -l | grep \"^-\""
      ],
      "metadata": {
        "colab": {
          "base_uri": "https://localhost:8080/",
          "height": 142
        },
        "id": "wzpJHt7OEGQw",
        "outputId": "98e3ea6a-cc22-4268-cd0d-2f5511648c1c"
      },
      "execution_count": null,
      "outputs": [
        {
          "output_type": "error",
          "ename": "SyntaxError",
          "evalue": "ignored",
          "traceback": [
            "\u001b[0;36m  File \u001b[0;32m\"<ipython-input-24-150e4d18119d>\"\u001b[0;36m, line \u001b[0;32m1\u001b[0m\n\u001b[0;31m    $ ls -l | grep \"^-\"\u001b[0m\n\u001b[0m    ^\u001b[0m\n\u001b[0;31mSyntaxError\u001b[0m\u001b[0;31m:\u001b[0m invalid syntax\n"
          ]
        }
      ]
    },
    {
      "cell_type": "code",
      "source": [
        "ls -l | grep \"^-\""
      ],
      "metadata": {
        "colab": {
          "base_uri": "https://localhost:8080/"
        },
        "id": "gBN6PPUrEQpF",
        "outputId": "c246a838-1b12-49ac-ae07-0125b820a641"
      },
      "execution_count": null,
      "outputs": [
        {
          "output_type": "stream",
          "name": "stdout",
          "text": [
            "-rw-r--r-- 1 root root 74371 Oct 10 22:51 speakers_all.txt\n",
            "-rw-r--r-- 1 root root  6379 Oct 10 22:50 speakers_test.txt\n"
          ]
        }
      ]
    },
    {
      "cell_type": "code",
      "source": [
        "ls -l | grep \"^-speakers_all\""
      ],
      "metadata": {
        "id": "HCqrcDMIEvj8"
      },
      "execution_count": null,
      "outputs": []
    },
    {
      "cell_type": "code",
      "source": [
        "ls -l | grep \"^-speakers_all\" | wc -l"
      ],
      "metadata": {
        "colab": {
          "base_uri": "https://localhost:8080/"
        },
        "id": "UUc3KgJCE-P9",
        "outputId": "4564cebb-f2bb-43af-8654-0befafdf1fa4"
      },
      "execution_count": null,
      "outputs": [
        {
          "output_type": "stream",
          "name": "stdout",
          "text": [
            "0\n"
          ]
        }
      ]
    },
    {
      "cell_type": "code",
      "source": [
        "ls -l | grep \"^-\" | wc -l"
      ],
      "metadata": {
        "colab": {
          "base_uri": "https://localhost:8080/"
        },
        "id": "W0jjxlfEFKdu",
        "outputId": "c0cdecfa-efc7-4e75-a8da-614b34c85560"
      },
      "execution_count": null,
      "outputs": [
        {
          "output_type": "stream",
          "name": "stdout",
          "text": [
            "2\n"
          ]
        }
      ]
    },
    {
      "cell_type": "code",
      "source": [
        "%wc -l content/speakers_all.txt"
      ],
      "metadata": {
        "colab": {
          "base_uri": "https://localhost:8080/"
        },
        "id": "3w0E2Se0FzF-",
        "outputId": "27389c80-0a07-4320-b68b-e3ec46954c0b"
      },
      "execution_count": null,
      "outputs": [
        {
          "output_type": "stream",
          "name": "stderr",
          "text": [
            "UsageError: Line magic function `%wc` not found.\n"
          ]
        }
      ]
    },
    {
      "cell_type": "code",
      "source": [
        "!WC"
      ],
      "metadata": {
        "id": "BTj2cQjEF4kG"
      },
      "execution_count": null,
      "outputs": []
    },
    {
      "cell_type": "code",
      "source": [
        "!wc -l content/speakers_all.txt"
      ],
      "metadata": {
        "colab": {
          "base_uri": "https://localhost:8080/"
        },
        "id": "76UEM4_RGFYE",
        "outputId": "a404f517-75ea-49a8-9bfe-7304803e35f3"
      },
      "execution_count": null,
      "outputs": [
        {
          "output_type": "stream",
          "name": "stdout",
          "text": [
            "wc: content/speakers_all.txt: No such file or directory\n"
          ]
        }
      ]
    },
    {
      "cell_type": "code",
      "source": [
        "!wc -l /content/speakers_all.txt"
      ],
      "metadata": {
        "colab": {
          "base_uri": "https://localhost:8080/"
        },
        "id": "mt0McfTuGO5S",
        "outputId": "251c31c5-3de4-43a5-ae3a-264beba79454"
      },
      "execution_count": null,
      "outputs": [
        {
          "output_type": "stream",
          "name": "stdout",
          "text": [
            "1366 /content/speakers_all.txt\n"
          ]
        }
      ]
    },
    {
      "cell_type": "code",
      "source": [
        "nspk_all= !wc -l < /content/speakers_all.txt"
      ],
      "metadata": {
        "id": "xBvKajTHGpSc"
      },
      "execution_count": null,
      "outputs": []
    },
    {
      "cell_type": "code",
      "source": [
        "nspk_all"
      ],
      "metadata": {
        "colab": {
          "base_uri": "https://localhost:8080/"
        },
        "id": "2H2fA8BBGxwI",
        "outputId": "d8a596f0-2c13-4668-e1a5-0f28fb713e98"
      },
      "execution_count": null,
      "outputs": [
        {
          "output_type": "execute_result",
          "data": {
            "text/plain": [
              "['1366']"
            ]
          },
          "metadata": {},
          "execution_count": 33
        }
      ]
    },
    {
      "cell_type": "code",
      "source": [
        "nspk_all=$(!wc -l < /content/speakers_all.txt)"
      ],
      "metadata": {
        "colab": {
          "base_uri": "https://localhost:8080/",
          "height": 142
        },
        "id": "H9fRnw8kHZz-",
        "outputId": "f5983af1-b3a4-4abf-f621-a044b0fe4867"
      },
      "execution_count": null,
      "outputs": [
        {
          "output_type": "error",
          "ename": "SyntaxError",
          "evalue": "ignored",
          "traceback": [
            "\u001b[0;36m  File \u001b[0;32m\"<ipython-input-34-615a17611e10>\"\u001b[0;36m, line \u001b[0;32m1\u001b[0m\n\u001b[0;31m    nspk_all=$(!wc -l < /content/speakers_all.txt)\u001b[0m\n\u001b[0m             ^\u001b[0m\n\u001b[0;31mSyntaxError\u001b[0m\u001b[0;31m:\u001b[0m invalid syntax\n"
          ]
        }
      ]
    },
    {
      "cell_type": "code",
      "source": [
        "nspk_all=(!wc -l < /content/speakers_all.txt)"
      ],
      "metadata": {
        "colab": {
          "base_uri": "https://localhost:8080/",
          "height": 142
        },
        "id": "7yxws2KOHnsI",
        "outputId": "e9141347-7cbc-4655-d286-a065ce385c8a"
      },
      "execution_count": null,
      "outputs": [
        {
          "output_type": "error",
          "ename": "SyntaxError",
          "evalue": "ignored",
          "traceback": [
            "\u001b[0;36m  File \u001b[0;32m\"<ipython-input-35-29ebb622ae5f>\"\u001b[0;36m, line \u001b[0;32m1\u001b[0m\n\u001b[0;31m    nspk_all=(!wc -l < /content/speakers_all.txt)\u001b[0m\n\u001b[0m              ^\u001b[0m\n\u001b[0;31mSyntaxError\u001b[0m\u001b[0;31m:\u001b[0m invalid syntax\n"
          ]
        }
      ]
    },
    {
      "cell_type": "code",
      "source": [
        "nspk_all=!wc -l < /content/speakers_all.txt"
      ],
      "metadata": {
        "id": "t-BJ7zkjHyEH"
      },
      "execution_count": null,
      "outputs": []
    },
    {
      "cell_type": "code",
      "source": [
        "nspk_test=30"
      ],
      "metadata": {
        "id": "u3Xoga-hIRg7"
      },
      "execution_count": null,
      "outputs": []
    },
    {
      "cell_type": "code",
      "source": [
        "echo \"{nspk_test} test speakers requested, but there are only {nspk_all} speakers in total!\""
      ],
      "metadata": {
        "colab": {
          "base_uri": "https://localhost:8080/",
          "height": 159
        },
        "id": "kMJdNjawIgSS",
        "outputId": "3fe18d38-4639-42ee-abfe-92bf82efe1dd"
      },
      "execution_count": null,
      "outputs": [
        {
          "output_type": "error",
          "ename": "SyntaxError",
          "evalue": "ignored",
          "traceback": [
            "\u001b[0;36m  File \u001b[0;32m\"<ipython-input-38-99f4f5d28a75>\"\u001b[0;36m, line \u001b[0;32m1\u001b[0m\n\u001b[0;31m    echo \"{nspk_test} test speakers requested, but there are only {nspk_all} speakers in total!\"\u001b[0m\n\u001b[0m         ^\u001b[0m\n\u001b[0;31mSyntaxError\u001b[0m\u001b[0;31m:\u001b[0m invalid syntax\n"
          ]
        }
      ]
    },
    {
      "cell_type": "code",
      "source": [
        "echo \"nspk_test test speakers requested, but there are only nspk_all speakers in total!\""
      ],
      "metadata": {
        "colab": {
          "base_uri": "https://localhost:8080/",
          "height": 159
        },
        "id": "ulsPfZfAI9oX",
        "outputId": "c43acba1-7d07-4704-85ec-b8f2648d2778"
      },
      "execution_count": null,
      "outputs": [
        {
          "output_type": "error",
          "ename": "SyntaxError",
          "evalue": "ignored",
          "traceback": [
            "\u001b[0;36m  File \u001b[0;32m\"<ipython-input-39-72ce3fbccbb2>\"\u001b[0;36m, line \u001b[0;32m1\u001b[0m\n\u001b[0;31m    echo \"nspk_test test speakers requested, but there are only nspk_all speakers in total!\"\u001b[0m\n\u001b[0m         ^\u001b[0m\n\u001b[0;31mSyntaxError\u001b[0m\u001b[0;31m:\u001b[0m invalid syntax\n"
          ]
        }
      ]
    },
    {
      "cell_type": "code",
      "source": [
        "if [ \"nspk_test\" -ge \"nspk_all\" ]; then\n",
        "  echo \"nspk_test test speakers requested, but there are only speakers in total!\"\n",
        "\n",
        "fi\n"
      ],
      "metadata": {
        "colab": {
          "base_uri": "https://localhost:8080/",
          "height": 142
        },
        "id": "bT5ZC-L9JdNc",
        "outputId": "4b65568f-83ed-48d1-efdd-99bd927b4036"
      },
      "execution_count": null,
      "outputs": [
        {
          "output_type": "error",
          "ename": "SyntaxError",
          "evalue": "ignored",
          "traceback": [
            "\u001b[0;36m  File \u001b[0;32m\"<ipython-input-40-5d7d419dea11>\"\u001b[0;36m, line \u001b[0;32m1\u001b[0m\n\u001b[0;31m    if [ \"nspk_test\" -ge \"nspk_all\" ]; then\u001b[0m\n\u001b[0m         ^\u001b[0m\n\u001b[0;31mSyntaxError\u001b[0m\u001b[0;31m:\u001b[0m invalid syntax. Perhaps you forgot a comma?\n"
          ]
        }
      ]
    },
    {
      "cell_type": "code",
      "source": [
        "if [nspk_test -ge nspk_all]; then\n",
        "  echo \"nspk_test test speakers requested, but there are only speakers in total!\"\n",
        "\n",
        "fi\n"
      ],
      "metadata": {
        "colab": {
          "base_uri": "https://localhost:8080/",
          "height": 142
        },
        "id": "4WQFCD8EJqIr",
        "outputId": "bbf1bd1b-560d-4ace-969b-31d592b88c60"
      },
      "execution_count": null,
      "outputs": [
        {
          "output_type": "error",
          "ename": "SyntaxError",
          "evalue": "ignored",
          "traceback": [
            "\u001b[0;36m  File \u001b[0;32m\"<ipython-input-43-0ad46e458d44>\"\u001b[0;36m, line \u001b[0;32m1\u001b[0m\n\u001b[0;31m    if [nspk_test -ge nspk_all]; then\u001b[0m\n\u001b[0m        ^\u001b[0m\n\u001b[0;31mSyntaxError\u001b[0m\u001b[0;31m:\u001b[0m invalid syntax. Perhaps you forgot a comma?\n"
          ]
        }
      ]
    },
    {
      "cell_type": "code",
      "source": [
        "awk 'NR==FNR{spk[$0]; next} !($0 in spk)' \\\n",
        "  /content/speakers_test.txt /content/speakers_all.txt |\\\n",
        "  sort -u > /content/speakers_train.txt\n"
      ],
      "metadata": {
        "colab": {
          "base_uri": "https://localhost:8080/",
          "height": 142
        },
        "id": "Af848EMHLDdg",
        "outputId": "d6122008-69bb-4a72-d141-6c2861bb6ef4"
      },
      "execution_count": null,
      "outputs": [
        {
          "output_type": "error",
          "ename": "SyntaxError",
          "evalue": "ignored",
          "traceback": [
            "\u001b[0;36m  File \u001b[0;32m\"<ipython-input-44-265ec73c215b>\"\u001b[0;36m, line \u001b[0;32m1\u001b[0m\n\u001b[0;31m    awk 'NR==FNR{spk[$0]; next} !($0 in spk)' \\\u001b[0m\n\u001b[0m        ^\u001b[0m\n\u001b[0;31mSyntaxError\u001b[0m\u001b[0;31m:\u001b[0m invalid syntax\n"
          ]
        }
      ]
    },
    {
      "cell_type": "code",
      "source": [
        "!awk 'NR==FNR{spk[$0]; next} !($0 in spk)' \\\n",
        "  /content/speakers_test.txt /content/speakers_allwaves.txt |\\\n",
        "  sort -u > /content/speakers_trainwaves.txt"
      ],
      "metadata": {
        "id": "co0RaYZh3vY3"
      },
      "execution_count": null,
      "outputs": []
    },
    {
      "cell_type": "code",
      "source": [
        "I'm!awk 'NR==FNR{spk[$0]; next} !($0 in spk)' \\\n",
        "  /content/speakers_allwaves.txt /content/speakers_test.txt |\\\n",
        "  sort -u > /content/speakers_trainwaves222.txt"
      ],
      "metadata": {
        "id": "ofmidel157UH"
      },
      "execution_count": null,
      "outputs": []
    },
    {
      "cell_type": "code",
      "source": [],
      "metadata": {
        "id": "IUd6CSaJOVcu"
      },
      "execution_count": null,
      "outputs": []
    },
    {
      "cell_type": "code",
      "source": [
        "for d in $(!find /content -mindepth 1 -maxdepth 1 -type l -or -type d); do\n",
        "  basename $d;\n",
        "done | !awk 'BEGIN {FS=\"-\"} NR==FNR{arr[$1]; next;} ($1 in arr)' \\\n",
        "  /content/speakers_train.txt - | sort > /content/dir_train.txt\n",
        "if [ ! -s /content/dir_test.txt ]; then\n",
        "  echo \"$0: file /content/dir_train.txt is empty\"\n",
        "\n",
        "fi\n"
      ],
      "metadata": {
        "colab": {
          "base_uri": "https://localhost:8080/",
          "height": 142
        },
        "id": "CjLreSF1OctB",
        "outputId": "404980c0-5a6f-4649-ab85-8187c5f2a047"
      },
      "execution_count": null,
      "outputs": [
        {
          "output_type": "error",
          "ename": "SyntaxError",
          "evalue": "ignored",
          "traceback": [
            "\u001b[0;36m  File \u001b[0;32m\"<ipython-input-1-a5830ed912ef>\"\u001b[0;36m, line \u001b[0;32m1\u001b[0m\n\u001b[0;31m    for d in $(!find /content -mindepth 1 -maxdepth 1 -type l -or -type d); do\u001b[0m\n\u001b[0m             ^\u001b[0m\n\u001b[0;31mSyntaxError\u001b[0m\u001b[0;31m:\u001b[0m invalid syntax\n"
          ]
        }
      ]
    },
    {
      "cell_type": "code",
      "source": [
        "for d in !find /content; do\n",
        "  basename d;\n",
        "done | !awk 'BEGIN {FS=\"-\"} NR==FNR{arr[$1]; next;} ($1 in arr)' \\\n",
        "  /content/speakers_train.txt - | sort > /content/dir_train.txt\n",
        "if [ ! -s /content/dir_test.txt ]; then\n",
        "  echo \"$0: file /content/dir_train.txt is empty\"\n",
        "\n",
        "fi"
      ],
      "metadata": {
        "colab": {
          "base_uri": "https://localhost:8080/",
          "height": 141
        },
        "id": "dbNFEI7MPGb_",
        "outputId": "c350ad5f-1ed2-4670-db35-a9265948675e"
      },
      "execution_count": null,
      "outputs": [
        {
          "output_type": "error",
          "ename": "SyntaxError",
          "evalue": "ignored",
          "traceback": [
            "\u001b[0;36m  File \u001b[0;32m\"<ipython-input-17-e077cf658604>\"\u001b[0;36m, line \u001b[0;32m1\u001b[0m\n\u001b[0;31m    for d in !find /content; do\u001b[0m\n\u001b[0m             ^\u001b[0m\n\u001b[0;31mSyntaxError\u001b[0m\u001b[0;31m:\u001b[0m invalid syntax\n"
          ]
        }
      ]
    },
    {
      "cell_type": "code",
      "source": [
        "xd"
      ],
      "metadata": {
        "colab": {
          "base_uri": "https://localhost:8080/"
        },
        "id": "ZogxUwBQRlbU",
        "outputId": "8974e11e-fcd3-4451-9bd7-42274bb31a1c"
      },
      "execution_count": null,
      "outputs": [
        {
          "output_type": "execute_result",
          "data": {
            "text/plain": [
              "['/bin/bash: line 1: find/content: No such file or directory']"
            ]
          },
          "metadata": {},
          "execution_count": 16
        }
      ]
    },
    {
      "cell_type": "code",
      "source": [],
      "metadata": {
        "id": "0kqBfbv0QYym"
      },
      "execution_count": null,
      "outputs": []
    },
    {
      "cell_type": "code",
      "source": [
        "xd = !find/content"
      ],
      "metadata": {
        "id": "8F8Pm4NdQZAx"
      },
      "execution_count": null,
      "outputs": []
    },
    {
      "cell_type": "code",
      "source": [
        "for d in (find /content -mindepth 1 -maxdepth 1 -type l -or -type d); do\n",
        "  basename d;\n",
        "done | !awk 'BEGIN {FS=\"-\"} NR==FNR{arr[$1]; next;} ($1 in arr)' \\\n",
        "  /content/speakers_train.txt - | sort > /content/dir_train.txt\n",
        "if [ ! -s /content/dir_test.txt ]; then\n",
        "  echo \"$0: file /content/dir_train.txt is empty\"\n",
        "\n",
        "fi"
      ],
      "metadata": {
        "colab": {
          "base_uri": "https://localhost:8080/",
          "height": 142
        },
        "id": "ILSUYPniPWTu",
        "outputId": "1a35c8c4-5355-4301-b26b-115eaf880946"
      },
      "execution_count": null,
      "outputs": [
        {
          "output_type": "error",
          "ename": "SyntaxError",
          "evalue": "ignored",
          "traceback": [
            "\u001b[0;36m  File \u001b[0;32m\"<ipython-input-3-7ccc9414f261>\"\u001b[0;36m, line \u001b[0;32m1\u001b[0m\n\u001b[0;31m    for d in (find /content -mindepth 1 -maxdepth 1 -type l -or -type d); do\u001b[0m\n\u001b[0m              ^\u001b[0m\n\u001b[0;31mSyntaxError\u001b[0m\u001b[0;31m:\u001b[0m invalid syntax. Perhaps you forgot a comma?\n"
          ]
        }
      ]
    },
    {
      "cell_type": "code",
      "source": [
        "!awk 'NR==FNR{spk[$0]; next} !($0 in spk)' \\\n",
        "  /content/speakers_test.txt /content/speakers_all.txt |\\\n",
        "  sort -u > /content/speakers_train.txt"
      ],
      "metadata": {
        "id": "xBpl0smGLRE1"
      },
      "execution_count": null,
      "outputs": []
    },
    {
      "cell_type": "code",
      "source": [
        "!install coreutils"
      ],
      "metadata": {
        "colab": {
          "base_uri": "https://localhost:8080/"
        },
        "id": "EwQbolY17EH8",
        "outputId": "282062cc-3838-46a3-c7b5-c856b224a35b"
      },
      "execution_count": null,
      "outputs": [
        {
          "output_type": "stream",
          "name": "stdout",
          "text": [
            "install: missing destination file operand after 'coreutils'\n",
            "Try 'install --help' for more information.\n"
          ]
        }
      ]
    },
    {
      "cell_type": "code",
      "source": [
        "for i in !find /content/speakers_train.txt\n",
        "do\n",
        "  echo i\n",
        "done"
      ],
      "metadata": {
        "colab": {
          "base_uri": "https://localhost:8080/",
          "height": 142
        },
        "id": "DOn9-ia7ZlzQ",
        "outputId": "d5d9bba9-0a45-4c72-8506-ec78eb566c8c"
      },
      "execution_count": null,
      "outputs": [
        {
          "output_type": "error",
          "ename": "SyntaxError",
          "evalue": "ignored",
          "traceback": [
            "\u001b[0;36m  File \u001b[0;32m\"<ipython-input-21-ef7137f53f6c>\"\u001b[0;36m, line \u001b[0;32m1\u001b[0m\n\u001b[0;31m    for i in !find /content/speakers_train.txt\u001b[0m\n\u001b[0m             ^\u001b[0m\n\u001b[0;31mSyntaxError\u001b[0m\u001b[0;31m:\u001b[0m invalid syntax\n"
          ]
        }
      ]
    },
    {
      "cell_type": "code",
      "source": [
        "!find . -type d"
      ],
      "metadata": {
        "colab": {
          "base_uri": "https://localhost:8080/"
        },
        "id": "iadVMejwal3i",
        "outputId": "46bd82f1-bba7-4d76-bf16-b6f62b2c2950"
      },
      "execution_count": null,
      "outputs": [
        {
          "output_type": "stream",
          "name": "stdout",
          "text": [
            ".\n",
            "./.config\n",
            "./.config/logs\n",
            "./.config/logs/2023.10.10\n",
            "./.config/configurations\n",
            "./sample_data\n"
          ]
        }
      ]
    },
    {
      "cell_type": "code",
      "source": [
        "!find /content -mindepth 1 -maxdepth 1 -type l -or -type d"
      ],
      "metadata": {
        "colab": {
          "base_uri": "https://localhost:8080/"
        },
        "id": "CjMLVcvCcZmE",
        "outputId": "ad173652-3c4a-4337-85e8-6238ed44cdd9"
      },
      "execution_count": null,
      "outputs": [
        {
          "output_type": "stream",
          "name": "stdout",
          "text": [
            "/content/.config\n",
            "/content/sample_data\n"
          ]
        }
      ]
    },
    {
      "cell_type": "code",
      "source": [
        "!awk 'BEGIN {FS=\"-\"} NR==FNR{arr[$1]; next;} ($1 in arr)' \\\n",
        "  /content/speakers_train.txt - | sort > /content/dir_train.txt"
      ],
      "metadata": {
        "colab": {
          "base_uri": "https://localhost:8080/"
        },
        "id": "dr9h-HshdIPF",
        "outputId": "97bc8b90-7a12-4e43-81ca-e19131e1ca6a"
      },
      "execution_count": null,
      "outputs": [
        {
          "output_type": "stream",
          "name": "stdout",
          "text": [
            "^C\n"
          ]
        }
      ]
    },
    {
      "cell_type": "code",
      "source": [
        "for d in (!find /content -mindepth 1 -maxdepth 1 -type l -or -type d); do\n",
        "  basename d;\n",
        "done | !awk 'BEGIN {FS=\"-\"} NR==FNR{arr[$1]; next;} ($1 in arr)' \\\n",
        "  /content/speakers_train.txt - | sort > /content/dir_train.txt"
      ],
      "metadata": {
        "colab": {
          "base_uri": "https://localhost:8080/",
          "height": 159
        },
        "id": "BVU6l7_xgZqC",
        "outputId": "233c016b-4554-4c47-e015-ab860421e7b0"
      },
      "execution_count": null,
      "outputs": [
        {
          "output_type": "error",
          "ename": "SyntaxError",
          "evalue": "ignored",
          "traceback": [
            "\u001b[0;36m  File \u001b[0;32m\"<ipython-input-26-a3b8151ca353>\"\u001b[0;36m, line \u001b[0;32m1\u001b[0m\n\u001b[0;31m    for d in (!find /content -mindepth 1 -maxdepth 1 -type l -or -type d); do\u001b[0m\n\u001b[0m              ^\u001b[0m\n\u001b[0;31mSyntaxError\u001b[0m\u001b[0;31m:\u001b[0m invalid syntax\n"
          ]
        }
      ]
    },
    {
      "cell_type": "code",
      "source": [
        "for d in !find /content -mindepth 1 -maxdepth 1 -type l -or -type d; do\n",
        "  basename d;\n",
        "done | !awk 'BEGIN {FS=\"-\"} NR==FNR{arr[$1]; next;} ($1 in arr)' \\\n",
        "  /content/speakers_train.txt - | sort > /content/dir_train.txt"
      ],
      "metadata": {
        "colab": {
          "base_uri": "https://localhost:8080/",
          "height": 159
        },
        "id": "mfXuaovFgyeq",
        "outputId": "fc3c096e-374c-4aab-de65-47b8232d3b5d"
      },
      "execution_count": null,
      "outputs": [
        {
          "output_type": "error",
          "ename": "SyntaxError",
          "evalue": "ignored",
          "traceback": [
            "\u001b[0;36m  File \u001b[0;32m\"<ipython-input-27-46ee2a339559>\"\u001b[0;36m, line \u001b[0;32m1\u001b[0m\n\u001b[0;31m    for d in !find /content -mindepth 1 -maxdepth 1 -type l -or -type d; do\u001b[0m\n\u001b[0m             ^\u001b[0m\n\u001b[0;31mSyntaxError\u001b[0m\u001b[0;31m:\u001b[0m invalid syntax\n"
          ]
        }
      ]
    },
    {
      "cell_type": "code",
      "source": [
        "!awk '{print $0}' /content/speakers_all.txt"
      ],
      "metadata": {
        "colab": {
          "base_uri": "https://localhost:8080/"
        },
        "id": "fufrY0Nzistr",
        "outputId": "1d0da9ff-ae6d-4fd6-a58f-1b5e4b095378"
      },
      "execution_count": null,
      "outputs": [
        {
          "output_type": "stream",
          "name": "stdout",
          "text": [
            "awk: cannot open /content/speakers_all.txt (No such file or directory)\n"
          ]
        }
      ]
    },
    {
      "cell_type": "code",
      "source": [
        "!awk '{print $0}' /content/speakers_train.txt"
      ],
      "metadata": {
        "colab": {
          "base_uri": "https://localhost:8080/"
        },
        "id": "QExPAeoTjGvr",
        "outputId": "7918b569-1d07-4c2e-b46b-b0e1e3a7a5ed"
      },
      "execution_count": null,
      "outputs": [
        {
          "output_type": "stream",
          "name": "stdout",
          "text": [
            "M078001_R78_1_01 Eam~a yatasaA^'aluwna\r\r\n",
            "M078001_R78_1_02 Eam~a yatasaA^'aluwna\r\r\n",
            "M078001_R78_1_03 Eam~a yatasaA^'aluwna\r\r\n",
            "M078001_R78_1_04 Eam~a yatasaA^'aluwna\r\r\n",
            "M078001_R78_1_05 Eam~a yatasaA^'aluwna\r\r\n",
            "M078001_R78_1_06 Eam~a yatasaA^'aluwna\r\r\n",
            "M078001_R78_1_08 Eam~a yatasaA^'aluwna\r\r\n",
            "M078001_R78_1_09 Eam~a yatasaA^'aluwna\r\r\n",
            "M078001_R78_1_10 Eam~a yatasaA^'aluwna\r\r\n",
            "M078001_R78_1_11 Eam~a yatasaA^'aluwna\r\r\n",
            "M078001_R78_1_12 Eam~a yatasaA^'aluwna\r\r\n",
            "M078001_R78_1_14 Eam~a yatasaA^'aluwna\r\r\n",
            "M078001_R78_1_15 Eam~a yatasaA^'aluwna\r\r\n",
            "M078001_R78_1_17 Eam~a yatasaA^'aluwna\r\r\n",
            "M078001_R78_1_18 Eam~a yatasaA^'aluwna\r\r\n",
            "M078001_R78_1_19 Eam~a yatasaA^'aluwna\r\r\n",
            "M078001_R78_1_20 Eam~a yatasaA^'aluwna\r\r\n",
            "M078001_R78_1_21 Eam~a yatasaA^'aluwna\r\r\n",
            "M078001_R78_1_22 Eam~a yatasaA^'aluwna\r\r\n",
            "M078001_R78_1_23 Eam~a yatasaA^'aluwna\r\r\n",
            "M078001_R78_1_24 Eam~a yatasaA^'aluwna\r\r\n",
            "M078001_R78_1_26 Eam~a yatasaA^'aluwna\r\r\n",
            "M078001_R78_1_27 Eam~a yatasaA^'aluwna\r\r\n",
            "M078001_R78_1_28 Eam~a yatasaA^'aluwna\r\r\n",
            "M078002_R78_2_01 Eani {ln~aba<i loEaZiymi\r\r\n",
            "M078002_R78_2_02 Eani {ln~aba<i loEaZiymi\r\r\n",
            "M078002_R78_2_03 Eani {ln~aba<i loEaZiymi\r\r\n",
            "M078002_R78_2_04 Eani {ln~aba<i loEaZiymi\r\r\n",
            "M078002_R78_2_05 Eani {ln~aba<i loEaZiymi\r\r\n",
            "M078002_R78_2_06 Eani {ln~aba<i loEaZiymi\r\r\n",
            "M078002_R78_2_08 Eani {ln~aba<i loEaZiymi\r\r\n",
            "M078002_R78_2_10 Eani {ln~aba<i loEaZiymi\r\r\n",
            "M078002_R78_2_11 Eani {ln~aba<i loEaZiymi\r\r\n",
            "M078002_R78_2_12 Eani {ln~aba<i loEaZiymi\r\r\n",
            "M078002_R78_2_13 Eani {ln~aba<i loEaZiymi\r\r\n",
            "M078002_R78_2_14 Eani {ln~aba<i loEaZiymi\r\r\n",
            "M078002_R78_2_15 Eani {ln~aba<i loEaZiymi\r\r\n",
            "M078002_R78_2_16 Eani {ln~aba<i loEaZiymi\r\r\n",
            "M078002_R78_2_17 Eani {ln~aba<i loEaZiymi\r\r\n",
            "M078002_R78_2_18 Eani {ln~aba<i loEaZiymi\r\r\n",
            "M078002_R78_2_20 Eani {ln~aba<i loEaZiymi\r\r\n",
            "M078002_R78_2_21 Eani {ln~aba<i loEaZiymi\r\r\n",
            "M078002_R78_2_22 Eani {ln~aba<i loEaZiymi\r\r\n",
            "M078002_R78_2_24 Eani {ln~aba<i loEaZiymi\r\r\n",
            "M078002_R78_2_26 Eani {ln~aba<i loEaZiymi\r\r\n",
            "M078002_R78_2_27 Eani {ln~aba<i loEaZiymi\r\r\n",
            "M078002_R78_2_28 Eani {ln~aba<i loEaZiymi\r\r\n",
            "M078002_R78_2_29 Eani {ln~aba<i loEaZiymi\r\r\n",
            "M078003_R78_3_01 {l~a*iY humo fiyhi muxotalifuwna\r\r\n",
            "M078003_R78_3_02 {l~a*iY humo fiyhi muxotalifuwna\r\r\n",
            "M078003_R78_3_03 {l~a*iY humo fiyhi muxotalifuwna\r\r\n",
            "M078003_R78_3_04 {l~a*iY humo fiyhi muxotalifuwna\r\r\n",
            "M078003_R78_3_05 {l~a*iY humo fiyhi muxotalifuwna\r\r\n",
            "M078003_R78_3_07 {l~a*iY humo fiyhi muxotalifuwna\r\r\n",
            "M078003_R78_3_08 {l~a*iY humo fiyhi muxotalifuwna\r\r\n",
            "M078003_R78_3_09 {l~a*iY humo fiyhi muxotalifuwna\r\r\n",
            "M078003_R78_3_11 {l~a*iY humo fiyhi muxotalifuwna\r\r\n",
            "M078003_R78_3_12 {l~a*iY humo fiyhi muxotalifuwna\r\r\n",
            "M078003_R78_3_13 {l~a*iY humo fiyhi muxotalifuwna\r\r\n",
            "M078003_R78_3_14 {l~a*iY humo fiyhi muxotalifuwna\r\r\n",
            "M078003_R78_3_15 {l~a*iY humo fiyhi muxotalifuwna\r\r\n",
            "M078003_R78_3_16 {l~a*iY humo fiyhi muxotalifuwna\r\r\n",
            "M078003_R78_3_17 {l~a*iY humo fiyhi muxotalifuwna\r\r\n",
            "M078003_R78_3_18 {l~a*iY humo fiyhi muxotalifuwna\r\r\n",
            "M078003_R78_3_19 {l~a*iY humo fiyhi muxotalifuwna\r\r\n",
            "M078003_R78_3_20 {l~a*iY humo fiyhi muxotalifuwna\r\r\n",
            "M078003_R78_3_21 {l~a*iY humo fiyhi muxotalifuwna\r\r\n",
            "M078003_R78_3_22 {l~a*iY humo fiyhi muxotalifuwna\r\r\n",
            "M078003_R78_3_23 {l~a*iY humo fiyhi muxotalifuwna\r\r\n",
            "M078003_R78_3_24 {l~a*iY humo fiyhi muxotalifuwna\r\r\n",
            "M078003_R78_3_25 {l~a*iY humo fiyhi muxotalifuwna\r\r\n",
            "M078003_R78_3_26 {l~a*iY humo fiyhi muxotalifuwna\r\r\n",
            "M078003_R78_3_27 {l~a*iY humo fiyhi muxotalifuwna\r\r\n",
            "M078003_R78_3_29 {l~a*iY humo fiyhi muxotalifuwna\r\r\n",
            "M078003_R78_3_30 {l~a*iY humo fiyhi muxotalifuwna\r\r\n",
            "M078004_R78_4_01 kal~aA sayaEolamuwna\r\r\n",
            "M078004_R78_4_02 kal~aA sayaEolamuwna\r\r\n",
            "M078004_R78_4_03 kal~aA sayaEolamuwna\r\r\n",
            "M078004_R78_4_04 kal~aA sayaEolamuwna\r\r\n",
            "M078004_R78_4_05 kal~aA sayaEolamuwna\r\r\n",
            "M078004_R78_4_06 kal~aA sayaEolamuwna\r\r\n",
            "M078004_R78_4_07 kal~aA sayaEolamuwna\r\r\n",
            "M078004_R78_4_08 kal~aA sayaEolamuwna\r\r\n",
            "M078004_R78_4_09 kal~aA sayaEolamuwna\r\r\n",
            "M078004_R78_4_10 kal~aA sayaEolamuwna\r\r\n",
            "M078004_R78_4_11 kal~aA sayaEolamuwna\r\r\n",
            "M078004_R78_4_12 kal~aA sayaEolamuwna\r\r\n",
            "M078004_R78_4_13 kal~aA sayaEolamuwna\r\r\n",
            "M078004_R78_4_14 kal~aA sayaEolamuwna\r\r\n",
            "M078004_R78_4_15 kal~aA sayaEolamuwna\r\r\n",
            "M078004_R78_4_16 kal~aA sayaEolamuwna\r\r\n",
            "M078004_R78_4_18 kal~aA sayaEolamuwna\r\r\n",
            "M078004_R78_4_19 kal~aA sayaEolamuwna\r\r\n",
            "M078004_R78_4_20 kal~aA sayaEolamuwna\r\r\n",
            "M078004_R78_4_21 kal~aA sayaEolamuwna\r\r\n",
            "M078004_R78_4_22 kal~aA sayaEolamuwna\r\r\n",
            "M078004_R78_4_23 kal~aA sayaEolamuwna\r\r\n",
            "M078004_R78_4_24 kal~aA sayaEolamuwna\r\r\n",
            "M078004_R78_4_25 kal~aA sayaEolamuwna\r\r\n",
            "M078004_R78_4_27 kal~aA sayaEolamuwna\r\r\n",
            "M078004_R78_4_28 kal~aA sayaEolamuwna\r\r\n",
            "M078004_R78_4_29 kal~aA sayaEolamuwna\r\r\n",
            "M078004_R78_4_30 kal~aA sayaEolamuwna\r\r\n",
            "M078005_R78_5_01 vum~a kal~aA sayaEolamuwna\r\r\n",
            "M078005_R78_5_02 vum~a kal~aA sayaEolamuwna\r\r\n",
            "M078005_R78_5_03 vum~a kal~aA sayaEolamuwna\r\r\n",
            "M078005_R78_5_04 vum~a kal~aA sayaEolamuwna\r\r\n",
            "M078005_R78_5_05 vum~a kal~aA sayaEolamuwna\r\r\n",
            "M078005_R78_5_06 vum~a kal~aA sayaEolamuwna\r\r\n",
            "M078005_R78_5_07 vum~a kal~aA sayaEolamuwna\r\r\n",
            "M078005_R78_5_08 vum~a kal~aA sayaEolamuwna\r\r\n",
            "M078005_R78_5_10 vum~a kal~aA sayaEolamuwna\r\r\n",
            "M078005_R78_5_11 vum~a kal~aA sayaEolamuwna\r\r\n",
            "M078005_R78_5_12 vum~a kal~aA sayaEolamuwna\r\r\n",
            "M078005_R78_5_13 vum~a kal~aA sayaEolamuwna\r\r\n",
            "M078005_R78_5_14 vum~a kal~aA sayaEolamuwna\r\r\n",
            "M078005_R78_5_15 vum~a kal~aA sayaEolamuwna\r\r\n",
            "M078005_R78_5_16 vum~a kal~aA sayaEolamuwna\r\r\n",
            "M078005_R78_5_17 vum~a kal~aA sayaEolamuwna\r\r\n",
            "M078005_R78_5_18 vum~a kal~aA sayaEolamuwna\r\r\n",
            "M078005_R78_5_19 vum~a kal~aA sayaEolamuwna\r\r\n",
            "M078005_R78_5_21 vum~a kal~aA sayaEolamuwna\r\r\n",
            "M078005_R78_5_22 vum~a kal~aA sayaEolamuwna\r\r\n",
            "M078005_R78_5_23 vum~a kal~aA sayaEolamuwna\r\r\n",
            "M078005_R78_5_24 vum~a kal~aA sayaEolamuwna\r\r\n",
            "M078005_R78_5_26 vum~a kal~aA sayaEolamuwna\r\r\n",
            "M078005_R78_5_27 vum~a kal~aA sayaEolamuwna\r\r\n",
            "M078005_R78_5_28 vum~a kal~aA sayaEolamuwna\r\r\n",
            "M078005_R78_5_29 vum~a kal~aA sayaEolamuwna\r\r\n",
            "M078005_R78_5_30 vum~a kal~aA sayaEolamuwna\r\r\n",
            "M078006_R78_6_01 >alamo najoEali {lo>aroDa miha`dFA\r\r\n",
            "M078006_R78_6_02 >alamo najoEali {lo>aroDa miha`dFA\r\r\n",
            "M078006_R78_6_03 >alamo najoEali {lo>aroDa miha`dFA\r\r\n",
            "M078006_R78_6_04 >alamo najoEali {lo>aroDa miha`dFA\r\r\n",
            "M078006_R78_6_05 >alamo najoEali {lo>aroDa miha`dFA\r\r\n",
            "M078006_R78_6_06 >alamo najoEali {lo>aroDa miha`dFA\r\r\n",
            "M078006_R78_6_07 >alamo najoEali {lo>aroDa miha`dFA\r\r\n",
            "M078006_R78_6_08 >alamo najoEali {lo>aroDa miha`dFA\r\r\n",
            "M078006_R78_6_09 >alamo najoEali {lo>aroDa miha`dFA\r\r\n",
            "M078006_R78_6_10 >alamo najoEali {lo>aroDa miha`dFA\r\r\n",
            "M078006_R78_6_11 >alamo najoEali {lo>aroDa miha`dFA\r\r\n",
            "M078006_R78_6_12 >alamo najoEali {lo>aroDa miha`dFA\r\r\n",
            "M078006_R78_6_13 >alamo najoEali {lo>aroDa miha`dFA\r\r\n",
            "M078006_R78_6_14 >alamo najoEali {lo>aroDa miha`dFA\r\r\n",
            "M078006_R78_6_15 >alamo najoEali {lo>aroDa miha`dFA\r\r\n",
            "M078006_R78_6_16 >alamo najoEali {lo>aroDa miha`dFA\r\r\n",
            "M078006_R78_6_17 >alamo najoEali {lo>aroDa miha`dFA\r\r\n",
            "M078006_R78_6_18 >alamo najoEali {lo>aroDa miha`dFA\r\r\n",
            "M078006_R78_6_19 >alamo najoEali {lo>aroDa miha`dFA\r\r\n",
            "M078006_R78_6_20 >alamo najoEali {lo>aroDa miha`dFA\r\r\n",
            "M078006_R78_6_22 >alamo najoEali {lo>aroDa miha`dFA\r\r\n",
            "M078006_R78_6_23 >alamo najoEali {lo>aroDa miha`dFA\r\r\n",
            "M078006_R78_6_24 >alamo najoEali {lo>aroDa miha`dFA\r\r\n",
            "M078006_R78_6_25 >alamo najoEali {lo>aroDa miha`dFA\r\r\n",
            "M078006_R78_6_26 >alamo najoEali {lo>aroDa miha`dFA\r\r\n",
            "M078006_R78_6_27 >alamo najoEali {lo>aroDa miha`dFA\r\r\n",
            "M078006_R78_6_28 >alamo najoEali {lo>aroDa miha`dFA\r\r\n",
            "M078006_R78_6_29 >alamo najoEali {lo>aroDa miha`dFA\r\r\n",
            "M078006_R78_6_30 >alamo najoEali {lo>aroDa miha`dFA\r\r\n",
            "M078007_R78_7_01 wa{lojibaAla >awotaAdFA\r\r\n",
            "M078007_R78_7_02 wa{lojibaAla >awotaAdFA\r\r\n",
            "M078007_R78_7_03 wa{lojibaAla >awotaAdFA\r\r\n",
            "M078007_R78_7_04 wa{lojibaAla >awotaAdFA\r\r\n",
            "M078007_R78_7_05 wa{lojibaAla >awotaAdFA\r\r\n",
            "M078007_R78_7_06 wa{lojibaAla >awotaAdFA\r\r\n",
            "M078007_R78_7_07 wa{lojibaAla >awotaAdFA\r\r\n",
            "M078007_R78_7_08 wa{lojibaAla >awotaAdFA\r\r\n",
            "M078007_R78_7_09 wa{lojibaAla >awotaAdFA\r\r\n",
            "M078007_R78_7_10 wa{lojibaAla >awotaAdFA\r\r\n",
            "M078007_R78_7_11 wa{lojibaAla >awotaAdFA\r\r\n",
            "M078007_R78_7_12 wa{lojibaAla >awotaAdFA\r\r\n",
            "M078007_R78_7_13 wa{lojibaAla >awotaAdFA\r\r\n",
            "M078007_R78_7_14 wa{lojibaAla >awotaAdFA\r\r\n",
            "M078007_R78_7_15 wa{lojibaAla >awotaAdFA\r\r\n",
            "M078007_R78_7_16 wa{lojibaAla >awotaAdFA\r\r\n",
            "M078007_R78_7_17 wa{lojibaAla >awotaAdFA\r\r\n",
            "M078007_R78_7_19 wa{lojibaAla >awotaAdFA\r\r\n",
            "M078007_R78_7_21 wa{lojibaAla >awotaAdFA\r\r\n",
            "M078007_R78_7_22 wa{lojibaAla >awotaAdFA\r\r\n",
            "M078007_R78_7_23 wa{lojibaAla >awotaAdFA\r\r\n",
            "M078007_R78_7_24 wa{lojibaAla >awotaAdFA\r\r\n",
            "M078007_R78_7_25 wa{lojibaAla >awotaAdFA\r\r\n",
            "M078007_R78_7_26 wa{lojibaAla >awotaAdFA\r\r\n",
            "M078007_R78_7_27 wa{lojibaAla >awotaAdFA\r\r\n",
            "M078007_R78_7_28 wa{lojibaAla >awotaAdFA\r\r\n",
            "M078007_R78_7_29 wa{lojibaAla >awotaAdFA\r\r\n",
            "M078007_R78_7_30 wa{lojibaAla >awotaAdFA\r\r\n",
            "M078008_R78_8_01 waxalaqona`kumo >azowa`jFA\r\r\n",
            "M078008_R78_8_02 waxalaqona`kumo >azowa`jFA\r\r\n",
            "M078008_R78_8_03 waxalaqona`kumo >azowa`jFA\r\r\n",
            "M078008_R78_8_04 waxalaqona`kumo >azowa`jFA\r\r\n",
            "M078008_R78_8_05 waxalaqona`kumo >azowa`jFA\r\r\n",
            "M078008_R78_8_06 waxalaqona`kumo >azowa`jFA\r\r\n",
            "M078008_R78_8_07 waxalaqona`kumo >azowa`jFA\r\r\n",
            "M078008_R78_8_08 waxalaqona`kumo >azowa`jFA\r\r\n",
            "M078008_R78_8_09 waxalaqona`kumo >azowa`jFA\r\r\n",
            "M078008_R78_8_10 waxalaqona`kumo >azowa`jFA\r\r\n",
            "M078008_R78_8_11 waxalaqona`kumo >azowa`jFA\r\r\n",
            "M078008_R78_8_12 waxalaqona`kumo >azowa`jFA\r\r\n",
            "M078008_R78_8_13 waxalaqona`kumo >azowa`jFA\r\r\n",
            "M078008_R78_8_14 waxalaqona`kumo >azowa`jFA\r\r\n",
            "M078008_R78_8_15 waxalaqona`kumo >azowa`jFA\r\r\n",
            "M078008_R78_8_16 waxalaqona`kumo >azowa`jFA\r\r\n",
            "M078008_R78_8_17 waxalaqona`kumo >azowa`jFA\r\r\n",
            "M078008_R78_8_18 waxalaqona`kumo >azowa`jFA\r\r\n",
            "M078008_R78_8_19 waxalaqona`kumo >azowa`jFA\r\r\n",
            "M078008_R78_8_20 waxalaqona`kumo >azowa`jFA\r\r\n",
            "M078008_R78_8_21 waxalaqona`kumo >azowa`jFA\r\r\n",
            "M078008_R78_8_22 waxalaqona`kumo >azowa`jFA\r\r\n",
            "M078008_R78_8_23 waxalaqona`kumo >azowa`jFA\r\r\n",
            "M078008_R78_8_24 waxalaqona`kumo >azowa`jFA\r\r\n",
            "M078008_R78_8_25 waxalaqona`kumo >azowa`jFA\r\r\n",
            "M078008_R78_8_26 waxalaqona`kumo >azowa`jFA\r\r\n",
            "M078008_R78_8_27 waxalaqona`kumo >azowa`jFA\r\r\n",
            "M078008_R78_8_28 waxalaqona`kumo >azowa`jFA\r\r\n",
            "M078008_R78_8_29 waxalaqona`kumo >azowa`jFA\r\r\n",
            "M078008_R78_8_30 waxalaqona`kumo >azowa`jFA\r\r\n",
            "M078009_R78_9_01 wajaEalonaA nawomakumo subaAtFA\r\r\n",
            "M078009_R78_9_02 wajaEalonaA nawomakumo subaAtFA\r\r\n",
            "M078009_R78_9_03 wajaEalonaA nawomakumo subaAtFA\r\r\n",
            "M078009_R78_9_04 wajaEalonaA nawomakumo subaAtFA\r\r\n",
            "M078009_R78_9_05 wajaEalonaA nawomakumo subaAtFA\r\r\n",
            "M078009_R78_9_06 wajaEalonaA nawomakumo subaAtFA\r\r\n",
            "M078009_R78_9_07 wajaEalonaA nawomakumo subaAtFA\r\r\n",
            "M078009_R78_9_08 wajaEalonaA nawomakumo subaAtFA\r\r\n",
            "M078009_R78_9_09 wajaEalonaA nawomakumo subaAtFA\r\r\n",
            "M078009_R78_9_10 wajaEalonaA nawomakumo subaAtFA\r\r\n",
            "M078009_R78_9_11 wajaEalonaA nawomakumo subaAtFA\r\r\n",
            "M078009_R78_9_12 wajaEalonaA nawomakumo subaAtFA\r\r\n",
            "M078009_R78_9_13 wajaEalonaA nawomakumo subaAtFA\r\r\n",
            "M078009_R78_9_14 wajaEalonaA nawomakumo subaAtFA\r\r\n",
            "M078009_R78_9_15 wajaEalonaA nawomakumo subaAtFA\r\r\n",
            "M078009_R78_9_16 wajaEalonaA nawomakumo subaAtFA\r\r\n",
            "M078009_R78_9_19 wajaEalonaA nawomakumo subaAtFA\r\r\n",
            "M078009_R78_9_20 wajaEalonaA nawomakumo subaAtFA\r\r\n",
            "M078009_R78_9_21 wajaEalonaA nawomakumo subaAtFA\r\r\n",
            "M078009_R78_9_22 wajaEalonaA nawomakumo subaAtFA\r\r\n",
            "M078009_R78_9_23 wajaEalonaA nawomakumo subaAtFA\r\r\n",
            "M078009_R78_9_25 wajaEalonaA nawomakumo subaAtFA\r\r\n",
            "M078009_R78_9_26 wajaEalonaA nawomakumo subaAtFA\r\r\n",
            "M078009_R78_9_27 wajaEalonaA nawomakumo subaAtFA\r\r\n",
            "M078009_R78_9_29 wajaEalonaA nawomakumo subaAtFA\r\r\n",
            "M078009_R78_9_30 wajaEalonaA nawomakumo subaAtFA\r\r\n",
            "M078010_R78_10_01 wajaEalonaA {l~ayola libaAsFA\r\r\n",
            "M078010_R78_10_02 wajaEalonaA {l~ayola libaAsFA\r\r\n",
            "M078010_R78_10_03 wajaEalonaA {l~ayola libaAsFA\r\r\n",
            "M078010_R78_10_05 wajaEalonaA {l~ayola libaAsFA\r\r\n",
            "M078010_R78_10_06 wajaEalonaA {l~ayola libaAsFA\r\r\n",
            "M078010_R78_10_07 wajaEalonaA {l~ayola libaAsFA\r\r\n",
            "M078010_R78_10_08 wajaEalonaA {l~ayola libaAsFA\r\r\n",
            "M078010_R78_10_10 wajaEalonaA {l~ayola libaAsFA\r\r\n",
            "M078010_R78_10_11 wajaEalonaA {l~ayola libaAsFA\r\r\n",
            "M078010_R78_10_12 wajaEalonaA {l~ayola libaAsFA\r\r\n",
            "M078010_R78_10_13 wajaEalonaA {l~ayola libaAsFA\r\r\n",
            "M078010_R78_10_14 wajaEalonaA {l~ayola libaAsFA\r\r\n",
            "M078010_R78_10_15 wajaEalonaA {l~ayola libaAsFA\r\r\n",
            "M078010_R78_10_16 wajaEalonaA {l~ayola libaAsFA\r\r\n",
            "M078010_R78_10_17 wajaEalonaA {l~ayola libaAsFA\r\r\n",
            "M078010_R78_10_18 wajaEalonaA {l~ayola libaAsFA\r\r\n",
            "M078010_R78_10_19 wajaEalonaA {l~ayola libaAsFA\r\r\n",
            "M078010_R78_10_20 wajaEalonaA {l~ayola libaAsFA\r\r\n",
            "M078010_R78_10_21 wajaEalonaA {l~ayola libaAsFA\r\r\n",
            "M078010_R78_10_22 wajaEalonaA {l~ayola libaAsFA\r\r\n",
            "M078010_R78_10_23 wajaEalonaA {l~ayola libaAsFA\r\r\n",
            "M078010_R78_10_25 wajaEalonaA {l~ayola libaAsFA\r\r\n",
            "M078010_R78_10_27 wajaEalonaA {l~ayola libaAsFA\r\r\n",
            "M078010_R78_10_28 wajaEalonaA {l~ayola libaAsFA\r\r\n",
            "M078010_R78_10_29 wajaEalonaA {l~ayola libaAsFA\r\r\n",
            "M078010_R78_10_30 wajaEalonaA {l~ayola libaAsFA\r\r\n",
            "M078011_R78_11_01 wajaEalonaA {ln~ahaAra maEaA$FA\r\r\n",
            "M078011_R78_11_02 wajaEalonaA {ln~ahaAra maEaA$FA\r\r\n",
            "M078011_R78_11_03 wajaEalonaA {ln~ahaAra maEaA$FA\r\r\n",
            "M078011_R78_11_04 wajaEalonaA {ln~ahaAra maEaA$FA\r\r\n",
            "M078011_R78_11_05 wajaEalonaA {ln~ahaAra maEaA$FA\r\r\n",
            "M078011_R78_11_06 wajaEalonaA {ln~ahaAra maEaA$FA\r\r\n",
            "M078011_R78_11_07 wajaEalonaA {ln~ahaAra maEaA$FA\r\r\n",
            "M078011_R78_11_08 wajaEalonaA {ln~ahaAra maEaA$FA\r\r\n",
            "M078011_R78_11_09 wajaEalonaA {ln~ahaAra maEaA$FA\r\r\n",
            "M078011_R78_11_10 wajaEalonaA {ln~ahaAra maEaA$FA\r\r\n",
            "M078011_R78_11_11 wajaEalonaA {ln~ahaAra maEaA$FA\r\r\n",
            "M078011_R78_11_12 wajaEalonaA {ln~ahaAra maEaA$FA\r\r\n",
            "M078011_R78_11_13 wajaEalonaA {ln~ahaAra maEaA$FA\r\r\n",
            "M078011_R78_11_15 wajaEalonaA {ln~ahaAra maEaA$FA\r\r\n",
            "M078011_R78_11_16 wajaEalonaA {ln~ahaAra maEaA$FA\r\r\n",
            "M078011_R78_11_17 wajaEalonaA {ln~ahaAra maEaA$FA\r\r\n",
            "M078011_R78_11_18 wajaEalonaA {ln~ahaAra maEaA$FA\r\r\n",
            "M078011_R78_11_19 wajaEalonaA {ln~ahaAra maEaA$FA\r\r\n",
            "M078011_R78_11_20 wajaEalonaA {ln~ahaAra maEaA$FA\r\r\n",
            "M078011_R78_11_21 wajaEalonaA {ln~ahaAra maEaA$FA\r\r\n",
            "M078011_R78_11_22 wajaEalonaA {ln~ahaAra maEaA$FA\r\r\n",
            "M078011_R78_11_24 wajaEalonaA {ln~ahaAra maEaA$FA\r\r\n",
            "M078011_R78_11_25 wajaEalonaA {ln~ahaAra maEaA$FA\r\r\n",
            "M078011_R78_11_26 wajaEalonaA {ln~ahaAra maEaA$FA\r\r\n",
            "M078011_R78_11_27 wajaEalonaA {ln~ahaAra maEaA$FA\r\r\n",
            "M078011_R78_11_28 wajaEalonaA {ln~ahaAra maEaA$FA\r\r\n",
            "M078012_R78_12_01 wabanayonaA fawoqakumo saboEFA $idaAdFA\r\r\n",
            "M078012_R78_12_02 wabanayonaA fawoqakumo saboEFA $idaAdFA\r\r\n",
            "M078012_R78_12_03 wabanayonaA fawoqakumo saboEFA $idaAdFA\r\r\n",
            "M078012_R78_12_04 wabanayonaA fawoqakumo saboEFA $idaAdFA\r\r\n",
            "M078012_R78_12_05 wabanayonaA fawoqakumo saboEFA $idaAdFA\r\r\n",
            "M078012_R78_12_06 wabanayonaA fawoqakumo saboEFA $idaAdFA\r\r\n",
            "M078012_R78_12_07 wabanayonaA fawoqakumo saboEFA $idaAdFA\r\r\n",
            "M078012_R78_12_08 wabanayonaA fawoqakumo saboEFA $idaAdFA\r\r\n",
            "M078012_R78_12_09 wabanayonaA fawoqakumo saboEFA $idaAdFA\r\r\n",
            "M078012_R78_12_10 wabanayonaA fawoqakumo saboEFA $idaAdFA\r\r\n",
            "M078012_R78_12_11 wabanayonaA fawoqakumo saboEFA $idaAdFA\r\r\n",
            "M078012_R78_12_12 wabanayonaA fawoqakumo saboEFA $idaAdFA\r\r\n",
            "M078012_R78_12_13 wabanayonaA fawoqakumo saboEFA $idaAdFA\r\r\n",
            "M078012_R78_12_14 wabanayonaA fawoqakumo saboEFA $idaAdFA\r\r\n",
            "M078012_R78_12_15 wabanayonaA fawoqakumo saboEFA $idaAdFA\r\r\n",
            "M078012_R78_12_16 wabanayonaA fawoqakumo saboEFA $idaAdFA\r\r\n",
            "M078012_R78_12_17 wabanayonaA fawoqakumo saboEFA $idaAdFA\r\r\n",
            "M078012_R78_12_18 wabanayonaA fawoqakumo saboEFA $idaAdFA\r\r\n",
            "M078012_R78_12_19 wabanayonaA fawoqakumo saboEFA $idaAdFA\r\r\n",
            "M078012_R78_12_20 wabanayonaA fawoqakumo saboEFA $idaAdFA\r\r\n",
            "M078012_R78_12_21 wabanayonaA fawoqakumo saboEFA $idaAdFA\r\r\n",
            "M078012_R78_12_22 wabanayonaA fawoqakumo saboEFA $idaAdFA\r\r\n",
            "M078012_R78_12_26 wabanayonaA fawoqakumo saboEFA $idaAdFA\r\r\n",
            "M078012_R78_12_27 wabanayonaA fawoqakumo saboEFA $idaAdFA\r\r\n",
            "M078012_R78_12_28 wabanayonaA fawoqakumo saboEFA $idaAdFA\r\r\n",
            "M078013_R78_13_01 wajaEalonaA siraAjFA wah~aAjFA\r\r\n",
            "M078013_R78_13_02 wajaEalonaA siraAjFA wah~aAjFA\r\r\n",
            "M078013_R78_13_03 wajaEalonaA siraAjFA wah~aAjFA\r\r\n",
            "M078013_R78_13_04 wajaEalonaA siraAjFA wah~aAjFA\r\r\n",
            "M078013_R78_13_05 wajaEalonaA siraAjFA wah~aAjFA\r\r\n",
            "M078013_R78_13_06 wajaEalonaA siraAjFA wah~aAjFA\r\r\n",
            "M078013_R78_13_10 wajaEalonaA siraAjFA wah~aAjFA\r\r\n",
            "M078013_R78_13_11 wajaEalonaA siraAjFA wah~aAjFA\r\r\n",
            "M078013_R78_13_12 wajaEalonaA siraAjFA wah~aAjFA\r\r\n",
            "M078013_R78_13_13 wajaEalonaA siraAjFA wah~aAjFA\r\r\n",
            "M078013_R78_13_14 wajaEalonaA siraAjFA wah~aAjFA\r\r\n",
            "M078013_R78_13_15 wajaEalonaA siraAjFA wah~aAjFA\r\r\n",
            "M078013_R78_13_16 wajaEalonaA siraAjFA wah~aAjFA\r\r\n",
            "M078013_R78_13_17 wajaEalonaA siraAjFA wah~aAjFA\r\r\n",
            "M078013_R78_13_18 wajaEalonaA siraAjFA wah~aAjFA\r\r\n",
            "M078013_R78_13_19 wajaEalonaA siraAjFA wah~aAjFA\r\r\n",
            "M078013_R78_13_20 wajaEalonaA siraAjFA wah~aAjFA\r\r\n",
            "M078013_R78_13_21 wajaEalonaA siraAjFA wah~aAjFA\r\r\n",
            "M078013_R78_13_22 wajaEalonaA siraAjFA wah~aAjFA\r\r\n",
            "M078013_R78_13_23 wajaEalonaA siraAjFA wah~aAjFA\r\r\n",
            "M078013_R78_13_24 wajaEalonaA siraAjFA wah~aAjFA\r\r\n",
            "M078013_R78_13_25 wajaEalonaA siraAjFA wah~aAjFA\r\r\n",
            "M078013_R78_13_26 wajaEalonaA siraAjFA wah~aAjFA\r\r\n",
            "M078013_R78_13_27 wajaEalonaA siraAjFA wah~aAjFA\r\r\n",
            "M078013_R78_13_28 wajaEalonaA siraAjFA wah~aAjFA\r\r\n",
            "M078013_R78_13_29 wajaEalonaA siraAjFA wah~aAjFA\r\r\n",
            "M078013_R78_13_30 wajaEalonaA siraAjFA wah~aAjFA\r\r\n",
            "M078014_R78_14_01 wa>anzalonaA mina {lomuEoSira`ti maA^'F vaj~aAjFA\r\r\n",
            "M078014_R78_14_02 wa>anzalonaA mina {lomuEoSira`ti maA^'F vaj~aAjFA\r\r\n",
            "M078014_R78_14_03 wa>anzalonaA mina {lomuEoSira`ti maA^'F vaj~aAjFA\r\r\n",
            "M078014_R78_14_04 wa>anzalonaA mina {lomuEoSira`ti maA^'F vaj~aAjFA\r\r\n",
            "M078014_R78_14_05 wa>anzalonaA mina {lomuEoSira`ti maA^'F vaj~aAjFA\r\r\n",
            "M078014_R78_14_06 wa>anzalonaA mina {lomuEoSira`ti maA^'F vaj~aAjFA\r\r\n",
            "M078014_R78_14_07 wa>anzalonaA mina {lomuEoSira`ti maA^'F vaj~aAjFA\r\r\n",
            "M078014_R78_14_08 wa>anzalonaA mina {lomuEoSira`ti maA^'F vaj~aAjFA\r\r\n",
            "M078014_R78_14_09 wa>anzalonaA mina {lomuEoSira`ti maA^'F vaj~aAjFA\r\r\n",
            "M078014_R78_14_10 wa>anzalonaA mina {lomuEoSira`ti maA^'F vaj~aAjFA\r\r\n",
            "M078014_R78_14_11 wa>anzalonaA mina {lomuEoSira`ti maA^'F vaj~aAjFA\r\r\n",
            "M078014_R78_14_12 wa>anzalonaA mina {lomuEoSira`ti maA^'F vaj~aAjFA\r\r\n",
            "M078014_R78_14_13 wa>anzalonaA mina {lomuEoSira`ti maA^'F vaj~aAjFA\r\r\n",
            "M078014_R78_14_14 wa>anzalonaA mina {lomuEoSira`ti maA^'F vaj~aAjFA\r\r\n",
            "M078014_R78_14_15 wa>anzalonaA mina {lomuEoSira`ti maA^'F vaj~aAjFA\r\r\n",
            "M078014_R78_14_16 wa>anzalonaA mina {lomuEoSira`ti maA^'F vaj~aAjFA\r\r\n",
            "M078014_R78_14_17 wa>anzalonaA mina {lomuEoSira`ti maA^'F vaj~aAjFA\r\r\n",
            "M078014_R78_14_18 wa>anzalonaA mina {lomuEoSira`ti maA^'F vaj~aAjFA\r\r\n",
            "M078014_R78_14_19 wa>anzalonaA mina {lomuEoSira`ti maA^'F vaj~aAjFA\r\r\n",
            "M078014_R78_14_20 wa>anzalonaA mina {lomuEoSira`ti maA^'F vaj~aAjFA\r\r\n",
            "M078014_R78_14_21 wa>anzalonaA mina {lomuEoSira`ti maA^'F vaj~aAjFA\r\r\n",
            "M078014_R78_14_22 wa>anzalonaA mina {lomuEoSira`ti maA^'F vaj~aAjFA\r\r\n",
            "M078014_R78_14_23 wa>anzalonaA mina {lomuEoSira`ti maA^'F vaj~aAjFA\r\r\n",
            "M078014_R78_14_24 wa>anzalonaA mina {lomuEoSira`ti maA^'F vaj~aAjFA\r\r\n",
            "M078014_R78_14_26 wa>anzalonaA mina {lomuEoSira`ti maA^'F vaj~aAjFA\r\r\n",
            "M078014_R78_14_27 wa>anzalonaA mina {lomuEoSira`ti maA^'F vaj~aAjFA\r\r\n",
            "M078014_R78_14_28 wa>anzalonaA mina {lomuEoSira`ti maA^'F vaj~aAjFA\r\r\n",
            "M078014_R78_14_29 wa>anzalonaA mina {lomuEoSira`ti maA^'F vaj~aAjFA\r\r\n",
            "M078014_R78_14_30 wa>anzalonaA mina {lomuEoSira`ti maA^'F vaj~aAjFA\r\r\n",
            "M078015_R78_15_02 l~inuxorija bihi. Hab~FA wanabaAtFA\r\r\n",
            "M078015_R78_15_03 l~inuxorija bihi. Hab~FA wanabaAtFA\r\r\n",
            "M078015_R78_15_04 l~inuxorija bihi. Hab~FA wanabaAtFA\r\r\n",
            "M078015_R78_15_05 l~inuxorija bihi. Hab~FA wanabaAtFA\r\r\n",
            "M078015_R78_15_07 l~inuxorija bihi. Hab~FA wanabaAtFA\r\r\n",
            "M078015_R78_15_08 l~inuxorija bihi. Hab~FA wanabaAtFA\r\r\n",
            "M078015_R78_15_09 l~inuxorija bihi. Hab~FA wanabaAtFA\r\r\n",
            "M078015_R78_15_11 l~inuxorija bihi. Hab~FA wanabaAtFA\r\r\n",
            "M078015_R78_15_12 l~inuxorija bihi. Hab~FA wanabaAtFA\r\r\n",
            "M078015_R78_15_13 l~inuxorija bihi. Hab~FA wanabaAtFA\r\r\n",
            "M078015_R78_15_14 l~inuxorija bihi. Hab~FA wanabaAtFA\r\r\n",
            "M078015_R78_15_15 l~inuxorija bihi. Hab~FA wanabaAtFA\r\r\n",
            "M078015_R78_15_16 l~inuxorija bihi. Hab~FA wanabaAtFA\r\r\n",
            "M078015_R78_15_20 l~inuxorija bihi. Hab~FA wanabaAtFA\r\r\n",
            "M078015_R78_15_21 l~inuxorija bihi. Hab~FA wanabaAtFA\r\r\n",
            "M078015_R78_15_22 l~inuxorija bihi. Hab~FA wanabaAtFA\r\r\n",
            "M078015_R78_15_23 l~inuxorija bihi. Hab~FA wanabaAtFA\r\r\n",
            "M078015_R78_15_24 l~inuxorija bihi. Hab~FA wanabaAtFA\r\r\n",
            "M078015_R78_15_25 l~inuxorija bihi. Hab~FA wanabaAtFA\r\r\n",
            "M078015_R78_15_26 l~inuxorija bihi. Hab~FA wanabaAtFA\r\r\n",
            "M078015_R78_15_27 l~inuxorija bihi. Hab~FA wanabaAtFA\r\r\n",
            "M078015_R78_15_28 l~inuxorija bihi. Hab~FA wanabaAtFA\r\r\n",
            "M078015_R78_15_29 l~inuxorija bihi. Hab~FA wanabaAtFA\r\r\n",
            "M078015_R78_15_30 l~inuxorija bihi. Hab~FA wanabaAtFA\r\r\n",
            "M078016_R78_16_01 wajan~a`tK >alofaAfFA\r\r\n",
            "M078016_R78_16_03 wajan~a`tK >alofaAfFA\r\r\n",
            "M078016_R78_16_04 wajan~a`tK >alofaAfFA\r\r\n",
            "M078016_R78_16_05 wajan~a`tK >alofaAfFA\r\r\n",
            "M078016_R78_16_06 wajan~a`tK >alofaAfFA\r\r\n",
            "M078016_R78_16_07 wajan~a`tK >alofaAfFA\r\r\n",
            "M078016_R78_16_08 wajan~a`tK >alofaAfFA\r\r\n",
            "M078016_R78_16_09 wajan~a`tK >alofaAfFA\r\r\n",
            "M078016_R78_16_10 wajan~a`tK >alofaAfFA\r\r\n",
            "M078016_R78_16_11 wajan~a`tK >alofaAfFA\r\r\n",
            "M078016_R78_16_12 wajan~a`tK >alofaAfFA\r\r\n",
            "M078016_R78_16_13 wajan~a`tK >alofaAfFA\r\r\n",
            "M078016_R78_16_14 wajan~a`tK >alofaAfFA\r\r\n",
            "M078016_R78_16_15 wajan~a`tK >alofaAfFA\r\r\n",
            "M078016_R78_16_16 wajan~a`tK >alofaAfFA\r\r\n",
            "M078016_R78_16_17 wajan~a`tK >alofaAfFA\r\r\n",
            "M078016_R78_16_18 wajan~a`tK >alofaAfFA\r\r\n",
            "M078016_R78_16_19 wajan~a`tK >alofaAfFA\r\r\n",
            "M078016_R78_16_20 wajan~a`tK >alofaAfFA\r\r\n",
            "M078016_R78_16_21 wajan~a`tK >alofaAfFA\r\r\n",
            "M078016_R78_16_23 wajan~a`tK >alofaAfFA\r\r\n",
            "M078016_R78_16_24 wajan~a`tK >alofaAfFA\r\r\n",
            "M078016_R78_16_25 wajan~a`tK >alofaAfFA\r\r\n",
            "M078016_R78_16_26 wajan~a`tK >alofaAfFA\r\r\n",
            "M078016_R78_16_27 wajan~a`tK >alofaAfFA\r\r\n",
            "M078016_R78_16_28 wajan~a`tK >alofaAfFA\r\r\n",
            "M078016_R78_16_29 wajan~a`tK >alofaAfFA\r\r\n",
            "M078016_R78_16_30 wajan~a`tK >alofaAfFA\r\r\n",
            "M078017_R78_17_01 <in~a yawoma {lofaSoli kaAna miyqa`tFA\r\r\n",
            "M078017_R78_17_02 <in~a yawoma {lofaSoli kaAna miyqa`tFA\r\r\n",
            "M078017_R78_17_03 <in~a yawoma {lofaSoli kaAna miyqa`tFA\r\r\n",
            "M078017_R78_17_04 <in~a yawoma {lofaSoli kaAna miyqa`tFA\r\r\n",
            "M078017_R78_17_06 <in~a yawoma {lofaSoli kaAna miyqa`tFA\r\r\n",
            "M078017_R78_17_07 <in~a yawoma {lofaSoli kaAna miyqa`tFA\r\r\n",
            "M078017_R78_17_08 <in~a yawoma {lofaSoli kaAna miyqa`tFA\r\r\n",
            "M078017_R78_17_09 <in~a yawoma {lofaSoli kaAna miyqa`tFA\r\r\n",
            "M078017_R78_17_10 <in~a yawoma {lofaSoli kaAna miyqa`tFA\r\r\n",
            "M078017_R78_17_11 <in~a yawoma {lofaSoli kaAna miyqa`tFA\r\r\n",
            "M078017_R78_17_12 <in~a yawoma {lofaSoli kaAna miyqa`tFA\r\r\n",
            "M078017_R78_17_13 <in~a yawoma {lofaSoli kaAna miyqa`tFA\r\r\n",
            "M078017_R78_17_14 <in~a yawoma {lofaSoli kaAna miyqa`tFA\r\r\n",
            "M078017_R78_17_15 <in~a yawoma {lofaSoli kaAna miyqa`tFA\r\r\n",
            "M078017_R78_17_16 <in~a yawoma {lofaSoli kaAna miyqa`tFA\r\r\n",
            "M078017_R78_17_17 <in~a yawoma {lofaSoli kaAna miyqa`tFA\r\r\n",
            "M078017_R78_17_18 <in~a yawoma {lofaSoli kaAna miyqa`tFA\r\r\n",
            "M078017_R78_17_19 <in~a yawoma {lofaSoli kaAna miyqa`tFA\r\r\n",
            "M078017_R78_17_20 <in~a yawoma {lofaSoli kaAna miyqa`tFA\r\r\n",
            "M078017_R78_17_21 <in~a yawoma {lofaSoli kaAna miyqa`tFA\r\r\n",
            "M078017_R78_17_22 <in~a yawoma {lofaSoli kaAna miyqa`tFA\r\r\n",
            "M078017_R78_17_23 <in~a yawoma {lofaSoli kaAna miyqa`tFA\r\r\n",
            "M078017_R78_17_25 <in~a yawoma {lofaSoli kaAna miyqa`tFA\r\r\n",
            "M078017_R78_17_26 <in~a yawoma {lofaSoli kaAna miyqa`tFA\r\r\n",
            "M078017_R78_17_27 <in~a yawoma {lofaSoli kaAna miyqa`tFA\r\r\n",
            "M078017_R78_17_28 <in~a yawoma {lofaSoli kaAna miyqa`tFA\r\r\n",
            "M078017_R78_17_29 <in~a yawoma {lofaSoli kaAna miyqa`tFA\r\r\n",
            "M078017_R78_17_30 <in~a yawoma {lofaSoli kaAna miyqa`tFA\r\r\n",
            "M078018_R78_18_01 yawoma yunfaxu fiY {lS~uwri fata>otuwna >afowaAjFA\r\r\n",
            "M078018_R78_18_02 yawoma yunfaxu fiY {lS~uwri fata>otuwna >afowaAjFA\r\r\n",
            "M078018_R78_18_03 yawoma yunfaxu fiY {lS~uwri fata>otuwna >afowaAjFA\r\r\n",
            "M078018_R78_18_04 yawoma yunfaxu fiY {lS~uwri fata>otuwna >afowaAjFA\r\r\n",
            "M078018_R78_18_05 yawoma yunfaxu fiY {lS~uwri fata>otuwna >afowaAjFA\r\r\n",
            "M078018_R78_18_06 yawoma yunfaxu fiY {lS~uwri fata>otuwna >afowaAjFA\r\r\n",
            "M078018_R78_18_07 yawoma yunfaxu fiY {lS~uwri fata>otuwna >afowaAjFA\r\r\n",
            "M078018_R78_18_09 yawoma yunfaxu fiY {lS~uwri fata>otuwna >afowaAjFA\r\r\n",
            "M078018_R78_18_10 yawoma yunfaxu fiY {lS~uwri fata>otuwna >afowaAjFA\r\r\n",
            "M078018_R78_18_11 yawoma yunfaxu fiY {lS~uwri fata>otuwna >afowaAjFA\r\r\n",
            "M078018_R78_18_12 yawoma yunfaxu fiY {lS~uwri fata>otuwna >afowaAjFA\r\r\n",
            "M078018_R78_18_13 yawoma yunfaxu fiY {lS~uwri fata>otuwna >afowaAjFA\r\r\n",
            "M078018_R78_18_14 yawoma yunfaxu fiY {lS~uwri fata>otuwna >afowaAjFA\r\r\n",
            "M078018_R78_18_15 yawoma yunfaxu fiY {lS~uwri fata>otuwna >afowaAjFA\r\r\n",
            "M078018_R78_18_16 yawoma yunfaxu fiY {lS~uwri fata>otuwna >afowaAjFA\r\r\n",
            "M078018_R78_18_17 yawoma yunfaxu fiY {lS~uwri fata>otuwna >afowaAjFA\r\r\n",
            "M078018_R78_18_18 yawoma yunfaxu fiY {lS~uwri fata>otuwna >afowaAjFA\r\r\n",
            "M078018_R78_18_19 yawoma yunfaxu fiY {lS~uwri fata>otuwna >afowaAjFA\r\r\n",
            "M078018_R78_18_20 yawoma yunfaxu fiY {lS~uwri fata>otuwna >afowaAjFA\r\r\n",
            "M078018_R78_18_21 yawoma yunfaxu fiY {lS~uwri fata>otuwna >afowaAjFA\r\r\n",
            "M078018_R78_18_22 yawoma yunfaxu fiY {lS~uwri fata>otuwna >afowaAjFA\r\r\n",
            "M078018_R78_18_23 yawoma yunfaxu fiY {lS~uwri fata>otuwna >afowaAjFA\r\r\n",
            "M078018_R78_18_24 yawoma yunfaxu fiY {lS~uwri fata>otuwna >afowaAjFA\r\r\n",
            "M078018_R78_18_26 yawoma yunfaxu fiY {lS~uwri fata>otuwna >afowaAjFA\r\r\n",
            "M078018_R78_18_27 yawoma yunfaxu fiY {lS~uwri fata>otuwna >afowaAjFA\r\r\n",
            "M078018_R78_18_28 yawoma yunfaxu fiY {lS~uwri fata>otuwna >afowaAjFA\r\r\n",
            "M078018_R78_18_29 yawoma yunfaxu fiY {lS~uwri fata>otuwna >afowaAjFA\r\r\n",
            "M078018_R78_18_30 yawoma yunfaxu fiY {lS~uwri fata>otuwna >afowaAjFA\r\r\n",
            "M078019_R78_19_01 wafutiHati {ls~amaA^'u fakaAnato >abowa`bFA\r\r\n",
            "M078019_R78_19_02 wafutiHati {ls~amaA^'u fakaAnato >abowa`bFA\r\r\n",
            "M078019_R78_19_03 wafutiHati {ls~amaA^'u fakaAnato >abowa`bFA\r\r\n",
            "M078019_R78_19_04 wafutiHati {ls~amaA^'u fakaAnato >abowa`bFA\r\r\n",
            "M078019_R78_19_05 wafutiHati {ls~amaA^'u fakaAnato >abowa`bFA\r\r\n",
            "M078019_R78_19_07 wafutiHati {ls~amaA^'u fakaAnato >abowa`bFA\r\r\n",
            "M078019_R78_19_08 wafutiHati {ls~amaA^'u fakaAnato >abowa`bFA\r\r\n",
            "M078019_R78_19_09 wafutiHati {ls~amaA^'u fakaAnato >abowa`bFA\r\r\n",
            "M078019_R78_19_10 wafutiHati {ls~amaA^'u fakaAnato >abowa`bFA\r\r\n",
            "M078019_R78_19_11 wafutiHati {ls~amaA^'u fakaAnato >abowa`bFA\r\r\n",
            "M078019_R78_19_12 wafutiHati {ls~amaA^'u fakaAnato >abowa`bFA\r\r\n",
            "M078019_R78_19_13 wafutiHati {ls~amaA^'u fakaAnato >abowa`bFA\r\r\n",
            "M078019_R78_19_14 wafutiHati {ls~amaA^'u fakaAnato >abowa`bFA\r\r\n",
            "M078019_R78_19_15 wafutiHati {ls~amaA^'u fakaAnato >abowa`bFA\r\r\n",
            "M078019_R78_19_16 wafutiHati {ls~amaA^'u fakaAnato >abowa`bFA\r\r\n",
            "M078019_R78_19_17 wafutiHati {ls~amaA^'u fakaAnato >abowa`bFA\r\r\n",
            "M078019_R78_19_18 wafutiHati {ls~amaA^'u fakaAnato >abowa`bFA\r\r\n",
            "M078019_R78_19_19 wafutiHati {ls~amaA^'u fakaAnato >abowa`bFA\r\r\n",
            "M078019_R78_19_21 wafutiHati {ls~amaA^'u fakaAnato >abowa`bFA\r\r\n",
            "M078019_R78_19_22 wafutiHati {ls~amaA^'u fakaAnato >abowa`bFA\r\r\n",
            "M078019_R78_19_23 wafutiHati {ls~amaA^'u fakaAnato >abowa`bFA\r\r\n",
            "M078019_R78_19_24 wafutiHati {ls~amaA^'u fakaAnato >abowa`bFA\r\r\n",
            "M078019_R78_19_25 wafutiHati {ls~amaA^'u fakaAnato >abowa`bFA\r\r\n",
            "M078019_R78_19_26 wafutiHati {ls~amaA^'u fakaAnato >abowa`bFA\r\r\n",
            "M078019_R78_19_27 wafutiHati {ls~amaA^'u fakaAnato >abowa`bFA\r\r\n",
            "M078019_R78_19_28 wafutiHati {ls~amaA^'u fakaAnato >abowa`bFA\r\r\n",
            "M078019_R78_19_29 wafutiHati {ls~amaA^'u fakaAnato >abowa`bFA\r\r\n",
            "M078020_R78_20_01 wasuy~irati {lojibaAlu fakaAnato saraAbFA\r\r\n",
            "M078020_R78_20_02 wasuy~irati {lojibaAlu fakaAnato saraAbFA\r\r\n",
            "M078020_R78_20_03 wasuy~irati {lojibaAlu fakaAnato saraAbFA\r\r\n",
            "M078020_R78_20_04 wasuy~irati {lojibaAlu fakaAnato saraAbFA\r\r\n",
            "M078020_R78_20_05 wasuy~irati {lojibaAlu fakaAnato saraAbFA\r\r\n",
            "M078020_R78_20_06 wasuy~irati {lojibaAlu fakaAnato saraAbFA\r\r\n",
            "M078020_R78_20_07 wasuy~irati {lojibaAlu fakaAnato saraAbFA\r\r\n",
            "M078020_R78_20_08 wasuy~irati {lojibaAlu fakaAnato saraAbFA\r\r\n",
            "M078020_R78_20_09 wasuy~irati {lojibaAlu fakaAnato saraAbFA\r\r\n",
            "M078020_R78_20_10 wasuy~irati {lojibaAlu fakaAnato saraAbFA\r\r\n",
            "M078020_R78_20_11 wasuy~irati {lojibaAlu fakaAnato saraAbFA\r\r\n",
            "M078020_R78_20_14 wasuy~irati {lojibaAlu fakaAnato saraAbFA\r\r\n",
            "M078020_R78_20_15 wasuy~irati {lojibaAlu fakaAnato saraAbFA\r\r\n",
            "M078020_R78_20_16 wasuy~irati {lojibaAlu fakaAnato saraAbFA\r\r\n",
            "M078020_R78_20_17 wasuy~irati {lojibaAlu fakaAnato saraAbFA\r\r\n",
            "M078020_R78_20_18 wasuy~irati {lojibaAlu fakaAnato saraAbFA\r\r\n",
            "M078020_R78_20_19 wasuy~irati {lojibaAlu fakaAnato saraAbFA\r\r\n",
            "M078020_R78_20_20 wasuy~irati {lojibaAlu fakaAnato saraAbFA\r\r\n",
            "M078020_R78_20_21 wasuy~irati {lojibaAlu fakaAnato saraAbFA\r\r\n",
            "M078020_R78_20_22 wasuy~irati {lojibaAlu fakaAnato saraAbFA\r\r\n",
            "M078020_R78_20_23 wasuy~irati {lojibaAlu fakaAnato saraAbFA\r\r\n",
            "M078020_R78_20_24 wasuy~irati {lojibaAlu fakaAnato saraAbFA\r\r\n",
            "M078020_R78_20_25 wasuy~irati {lojibaAlu fakaAnato saraAbFA\r\r\n",
            "M078020_R78_20_26 wasuy~irati {lojibaAlu fakaAnato saraAbFA\r\r\n",
            "M078020_R78_20_27 wasuy~irati {lojibaAlu fakaAnato saraAbFA\r\r\n",
            "M078020_R78_20_28 wasuy~irati {lojibaAlu fakaAnato saraAbFA\r\r\n",
            "M078020_R78_20_30 wasuy~irati {lojibaAlu fakaAnato saraAbFA\r\r\n",
            "M078021_R78_21_01 <in~a jahan~ama kaAnato miroSaAdFA\r\r\n",
            "M078021_R78_21_02 <in~a jahan~ama kaAnato miroSaAdFA\r\r\n",
            "M078021_R78_21_03 <in~a jahan~ama kaAnato miroSaAdFA\r\r\n",
            "M078021_R78_21_04 <in~a jahan~ama kaAnato miroSaAdFA\r\r\n",
            "M078021_R78_21_06 <in~a jahan~ama kaAnato miroSaAdFA\r\r\n",
            "M078021_R78_21_07 <in~a jahan~ama kaAnato miroSaAdFA\r\r\n",
            "M078021_R78_21_08 <in~a jahan~ama kaAnato miroSaAdFA\r\r\n",
            "M078021_R78_21_09 <in~a jahan~ama kaAnato miroSaAdFA\r\r\n",
            "M078021_R78_21_10 <in~a jahan~ama kaAnato miroSaAdFA\r\r\n",
            "M078021_R78_21_11 <in~a jahan~ama kaAnato miroSaAdFA\r\r\n",
            "M078021_R78_21_13 <in~a jahan~ama kaAnato miroSaAdFA\r\r\n",
            "M078021_R78_21_15 <in~a jahan~ama kaAnato miroSaAdFA\r\r\n",
            "M078021_R78_21_16 <in~a jahan~ama kaAnato miroSaAdFA\r\r\n",
            "M078021_R78_21_17 <in~a jahan~ama kaAnato miroSaAdFA\r\r\n",
            "M078021_R78_21_18 <in~a jahan~ama kaAnato miroSaAdFA\r\r\n",
            "M078021_R78_21_19 <in~a jahan~ama kaAnato miroSaAdFA\r\r\n",
            "M078021_R78_21_20 <in~a jahan~ama kaAnato miroSaAdFA\r\r\n",
            "M078021_R78_21_21 <in~a jahan~ama kaAnato miroSaAdFA\r\r\n",
            "M078021_R78_21_22 <in~a jahan~ama kaAnato miroSaAdFA\r\r\n",
            "M078021_R78_21_23 <in~a jahan~ama kaAnato miroSaAdFA\r\r\n",
            "M078021_R78_21_24 <in~a jahan~ama kaAnato miroSaAdFA\r\r\n",
            "M078021_R78_21_26 <in~a jahan~ama kaAnato miroSaAdFA\r\r\n",
            "M078021_R78_21_27 <in~a jahan~ama kaAnato miroSaAdFA\r\r\n",
            "M078021_R78_21_28 <in~a jahan~ama kaAnato miroSaAdFA\r\r\n",
            "M078021_R78_21_29 <in~a jahan~ama kaAnato miroSaAdFA\r\r\n",
            "M078021_R78_21_30 <in~a jahan~ama kaAnato miroSaAdFA\r\r\n",
            "M078022_R78_22_01 l~ilT~a`giyna ma_#aAbFA\r\r\n",
            "M078022_R78_22_02 l~ilT~a`giyna ma_#aAbFA\r\r\n",
            "M078022_R78_22_03 l~ilT~a`giyna ma_#aAbFA\r\r\n",
            "M078022_R78_22_04 l~ilT~a`giyna ma_#aAbFA\r\r\n",
            "M078022_R78_22_05 l~ilT~a`giyna ma_#aAbFA\r\r\n",
            "M078022_R78_22_06 l~ilT~a`giyna ma_#aAbFA\r\r\n",
            "M078022_R78_22_07 l~ilT~a`giyna ma_#aAbFA\r\r\n",
            "M078022_R78_22_08 l~ilT~a`giyna ma_#aAbFA\r\r\n",
            "M078022_R78_22_09 l~ilT~a`giyna ma_#aAbFA\r\r\n",
            "M078022_R78_22_10 l~ilT~a`giyna ma_#aAbFA\r\r\n",
            "M078022_R78_22_11 l~ilT~a`giyna ma_#aAbFA\r\r\n",
            "M078022_R78_22_13 l~ilT~a`giyna ma_#aAbFA\r\r\n",
            "M078022_R78_22_14 l~ilT~a`giyna ma_#aAbFA\r\r\n",
            "M078022_R78_22_15 l~ilT~a`giyna ma_#aAbFA\r\r\n",
            "M078022_R78_22_16 l~ilT~a`giyna ma_#aAbFA\r\r\n",
            "M078022_R78_22_17 l~ilT~a`giyna ma_#aAbFA\r\r\n",
            "M078022_R78_22_18 l~ilT~a`giyna ma_#aAbFA\r\r\n",
            "M078022_R78_22_19 l~ilT~a`giyna ma_#aAbFA\r\r\n",
            "M078022_R78_22_20 l~ilT~a`giyna ma_#aAbFA\r\r\n",
            "M078022_R78_22_21 l~ilT~a`giyna ma_#aAbFA\r\r\n",
            "M078022_R78_22_22 l~ilT~a`giyna ma_#aAbFA\r\r\n",
            "M078022_R78_22_23 l~ilT~a`giyna ma_#aAbFA\r\r\n",
            "M078022_R78_22_24 l~ilT~a`giyna ma_#aAbFA\r\r\n",
            "M078022_R78_22_25 l~ilT~a`giyna ma_#aAbFA\r\r\n",
            "M078022_R78_22_26 l~ilT~a`giyna ma_#aAbFA\r\r\n",
            "M078022_R78_22_27 l~ilT~a`giyna ma_#aAbFA\r\r\n",
            "M078022_R78_22_28 l~ilT~a`giyna ma_#aAbFA\r\r\n",
            "M078022_R78_22_29 l~ilT~a`giyna ma_#aAbFA\r\r\n",
            "M078022_R78_22_30 l~ilT~a`giyna ma_#aAbFA\r\r\n",
            "M078023_R78_23_01 l~a`biviyna fiyhaA^ >aHoqaAbFA\r\r\n",
            "M078023_R78_23_02 l~a`biviyna fiyhaA^ >aHoqaAbFA\r\r\n",
            "M078023_R78_23_03 l~a`biviyna fiyhaA^ >aHoqaAbFA\r\r\n",
            "M078023_R78_23_05 l~a`biviyna fiyhaA^ >aHoqaAbFA\r\r\n",
            "M078023_R78_23_06 l~a`biviyna fiyhaA^ >aHoqaAbFA\r\r\n",
            "M078023_R78_23_07 l~a`biviyna fiyhaA^ >aHoqaAbFA\r\r\n",
            "M078023_R78_23_08 l~a`biviyna fiyhaA^ >aHoqaAbFA\r\r\n",
            "M078023_R78_23_09 l~a`biviyna fiyhaA^ >aHoqaAbFA\r\r\n",
            "M078023_R78_23_10 l~a`biviyna fiyhaA^ >aHoqaAbFA\r\r\n",
            "M078023_R78_23_11 l~a`biviyna fiyhaA^ >aHoqaAbFA\r\r\n",
            "M078023_R78_23_13 l~a`biviyna fiyhaA^ >aHoqaAbFA\r\r\n",
            "M078023_R78_23_14 l~a`biviyna fiyhaA^ >aHoqaAbFA\r\r\n",
            "M078023_R78_23_15 l~a`biviyna fiyhaA^ >aHoqaAbFA\r\r\n",
            "M078023_R78_23_16 l~a`biviyna fiyhaA^ >aHoqaAbFA\r\r\n",
            "M078023_R78_23_17 l~a`biviyna fiyhaA^ >aHoqaAbFA\r\r\n",
            "M078023_R78_23_18 l~a`biviyna fiyhaA^ >aHoqaAbFA\r\r\n",
            "M078023_R78_23_19 l~a`biviyna fiyhaA^ >aHoqaAbFA\r\r\n",
            "M078023_R78_23_20 l~a`biviyna fiyhaA^ >aHoqaAbFA\r\r\n",
            "M078023_R78_23_21 l~a`biviyna fiyhaA^ >aHoqaAbFA\r\r\n",
            "M078023_R78_23_22 l~a`biviyna fiyhaA^ >aHoqaAbFA\r\r\n",
            "M078023_R78_23_23 l~a`biviyna fiyhaA^ >aHoqaAbFA\r\r\n",
            "M078023_R78_23_24 l~a`biviyna fiyhaA^ >aHoqaAbFA\r\r\n",
            "M078023_R78_23_25 l~a`biviyna fiyhaA^ >aHoqaAbFA\r\r\n",
            "M078023_R78_23_26 l~a`biviyna fiyhaA^ >aHoqaAbFA\r\r\n",
            "M078023_R78_23_27 l~a`biviyna fiyhaA^ >aHoqaAbFA\r\r\n",
            "M078023_R78_23_28 l~a`biviyna fiyhaA^ >aHoqaAbFA\r\r\n",
            "M078023_R78_23_29 l~a`biviyna fiyhaA^ >aHoqaAbFA\r\r\n",
            "M078023_R78_23_30 l~a`biviyna fiyhaA^ >aHoqaAbFA\r\r\n",
            "M078024_R78_24_01 l~aA ya*uwquwna fiyhaA barodFA walaA $araAbFA\r\r\n",
            "M078024_R78_24_02 l~aA ya*uwquwna fiyhaA barodFA walaA $araAbFA\r\r\n",
            "M078024_R78_24_03 l~aA ya*uwquwna fiyhaA barodFA walaA $araAbFA\r\r\n",
            "M078024_R78_24_04 l~aA ya*uwquwna fiyhaA barodFA walaA $araAbFA\r\r\n",
            "M078024_R78_24_05 l~aA ya*uwquwna fiyhaA barodFA walaA $araAbFA\r\r\n",
            "M078024_R78_24_07 l~aA ya*uwquwna fiyhaA barodFA walaA $araAbFA\r\r\n",
            "M078024_R78_24_08 l~aA ya*uwquwna fiyhaA barodFA walaA $araAbFA\r\r\n",
            "M078024_R78_24_09 l~aA ya*uwquwna fiyhaA barodFA walaA $araAbFA\r\r\n",
            "M078024_R78_24_10 l~aA ya*uwquwna fiyhaA barodFA walaA $araAbFA\r\r\n",
            "M078024_R78_24_11 l~aA ya*uwquwna fiyhaA barodFA walaA $araAbFA\r\r\n",
            "M078024_R78_24_12 l~aA ya*uwquwna fiyhaA barodFA walaA $araAbFA\r\r\n",
            "M078024_R78_24_13 l~aA ya*uwquwna fiyhaA barodFA walaA $araAbFA\r\r\n",
            "M078024_R78_24_14 l~aA ya*uwquwna fiyhaA barodFA walaA $araAbFA\r\r\n",
            "M078024_R78_24_15 l~aA ya*uwquwna fiyhaA barodFA walaA $araAbFA\r\r\n",
            "M078024_R78_24_16 l~aA ya*uwquwna fiyhaA barodFA walaA $araAbFA\r\r\n",
            "M078024_R78_24_17 l~aA ya*uwquwna fiyhaA barodFA walaA $araAbFA\r\r\n",
            "M078024_R78_24_18 l~aA ya*uwquwna fiyhaA barodFA walaA $araAbFA\r\r\n",
            "M078024_R78_24_19 l~aA ya*uwquwna fiyhaA barodFA walaA $araAbFA\r\r\n",
            "M078024_R78_24_20 l~aA ya*uwquwna fiyhaA barodFA walaA $araAbFA\r\r\n",
            "M078024_R78_24_21 l~aA ya*uwquwna fiyhaA barodFA walaA $araAbFA\r\r\n",
            "M078024_R78_24_22 l~aA ya*uwquwna fiyhaA barodFA walaA $araAbFA\r\r\n",
            "M078024_R78_24_23 l~aA ya*uwquwna fiyhaA barodFA walaA $araAbFA\r\r\n",
            "M078024_R78_24_24 l~aA ya*uwquwna fiyhaA barodFA walaA $araAbFA\r\r\n",
            "M078024_R78_24_25 l~aA ya*uwquwna fiyhaA barodFA walaA $araAbFA\r\r\n",
            "M078024_R78_24_27 l~aA ya*uwquwna fiyhaA barodFA walaA $araAbFA\r\r\n",
            "M078024_R78_24_28 l~aA ya*uwquwna fiyhaA barodFA walaA $araAbFA\r\r\n",
            "M078024_R78_24_29 l~aA ya*uwquwna fiyhaA barodFA walaA $araAbFA\r\r\n",
            "M078024_R78_24_30 l~aA ya*uwquwna fiyhaA barodFA walaA $araAbFA\r\r\n",
            "M078025_R78_25_01 <il~aA HamiymFA wagas~aAqFA\r\r\n",
            "M078025_R78_25_02 <il~aA HamiymFA wagas~aAqFA\r\r\n",
            "M078025_R78_25_03 <il~aA HamiymFA wagas~aAqFA\r\r\n",
            "M078025_R78_25_04 <il~aA HamiymFA wagas~aAqFA\r\r\n",
            "M078025_R78_25_06 <il~aA HamiymFA wagas~aAqFA\r\r\n",
            "M078025_R78_25_08 <il~aA HamiymFA wagas~aAqFA\r\r\n",
            "M078025_R78_25_09 <il~aA HamiymFA wagas~aAqFA\r\r\n",
            "M078025_R78_25_11 <il~aA HamiymFA wagas~aAqFA\r\r\n",
            "M078025_R78_25_12 <il~aA HamiymFA wagas~aAqFA\r\r\n",
            "M078025_R78_25_13 <il~aA HamiymFA wagas~aAqFA\r\r\n",
            "M078025_R78_25_14 <il~aA HamiymFA wagas~aAqFA\r\r\n",
            "M078025_R78_25_15 <il~aA HamiymFA wagas~aAqFA\r\r\n",
            "M078025_R78_25_16 <il~aA HamiymFA wagas~aAqFA\r\r\n",
            "M078025_R78_25_17 <il~aA HamiymFA wagas~aAqFA\r\r\n",
            "M078025_R78_25_18 <il~aA HamiymFA wagas~aAqFA\r\r\n",
            "M078025_R78_25_19 <il~aA HamiymFA wagas~aAqFA\r\r\n",
            "M078025_R78_25_20 <il~aA HamiymFA wagas~aAqFA\r\r\n",
            "M078025_R78_25_21 <il~aA HamiymFA wagas~aAqFA\r\r\n",
            "M078025_R78_25_22 <il~aA HamiymFA wagas~aAqFA\r\r\n",
            "M078025_R78_25_23 <il~aA HamiymFA wagas~aAqFA\r\r\n",
            "M078025_R78_25_25 <il~aA HamiymFA wagas~aAqFA\r\r\n",
            "M078025_R78_25_26 <il~aA HamiymFA wagas~aAqFA\r\r\n",
            "M078025_R78_25_27 <il~aA HamiymFA wagas~aAqFA\r\r\n",
            "M078025_R78_25_28 <il~aA HamiymFA wagas~aAqFA\r\r\n",
            "M078025_R78_25_29 <il~aA HamiymFA wagas~aAqFA\r\r\n",
            "M078026_R78_26_01 jazaA^'F wifaAqFA\r\r\n",
            "M078026_R78_26_02 jazaA^'F wifaAqFA\r\r\n",
            "M078026_R78_26_03 jazaA^'F wifaAqFA\r\r\n",
            "M078026_R78_26_04 jazaA^'F wifaAqFA\r\r\n",
            "M078026_R78_26_05 jazaA^'F wifaAqFA\r\r\n",
            "M078026_R78_26_07 jazaA^'F wifaAqFA\r\r\n",
            "M078026_R78_26_08 jazaA^'F wifaAqFA\r\r\n",
            "M078026_R78_26_09 jazaA^'F wifaAqFA\r\r\n",
            "M078026_R78_26_10 jazaA^'F wifaAqFA\r\r\n",
            "M078026_R78_26_11 jazaA^'F wifaAqFA\r\r\n",
            "M078026_R78_26_12 jazaA^'F wifaAqFA\r\r\n",
            "M078026_R78_26_13 jazaA^'F wifaAqFA\r\r\n",
            "M078026_R78_26_14 jazaA^'F wifaAqFA\r\r\n",
            "M078026_R78_26_15 jazaA^'F wifaAqFA\r\r\n",
            "M078026_R78_26_16 jazaA^'F wifaAqFA\r\r\n",
            "M078026_R78_26_17 jazaA^'F wifaAqFA\r\r\n",
            "M078026_R78_26_18 jazaA^'F wifaAqFA\r\r\n",
            "M078026_R78_26_19 jazaA^'F wifaAqFA\r\r\n",
            "M078026_R78_26_20 jazaA^'F wifaAqFA\r\r\n",
            "M078026_R78_26_21 jazaA^'F wifaAqFA\r\r\n",
            "M078026_R78_26_22 jazaA^'F wifaAqFA\r\r\n",
            "M078026_R78_26_23 jazaA^'F wifaAqFA\r\r\n",
            "M078026_R78_26_24 jazaA^'F wifaAqFA\r\r\n",
            "M078026_R78_26_25 jazaA^'F wifaAqFA\r\r\n",
            "M078026_R78_26_27 jazaA^'F wifaAqFA\r\r\n",
            "M078026_R78_26_28 jazaA^'F wifaAqFA\r\r\n",
            "M078026_R78_26_29 jazaA^'F wifaAqFA\r\r\n",
            "M078026_R78_26_30 jazaA^'F wifaAqFA\r\r\n",
            "M078027_R78_27_01 <in~ahumo kaAnuwA@ laA yarojuwna HisaAbFA\r\r\n",
            "M078027_R78_27_02 <in~ahumo kaAnuwA@ laA yarojuwna HisaAbFA\r\r\n",
            "M078027_R78_27_03 <in~ahumo kaAnuwA@ laA yarojuwna HisaAbFA\r\r\n",
            "M078027_R78_27_04 <in~ahumo kaAnuwA@ laA yarojuwna HisaAbFA\r\r\n",
            "M078027_R78_27_05 <in~ahumo kaAnuwA@ laA yarojuwna HisaAbFA\r\r\n",
            "M078027_R78_27_06 <in~ahumo kaAnuwA@ laA yarojuwna HisaAbFA\r\r\n",
            "M078027_R78_27_07 <in~ahumo kaAnuwA@ laA yarojuwna HisaAbFA\r\r\n",
            "M078027_R78_27_08 <in~ahumo kaAnuwA@ laA yarojuwna HisaAbFA\r\r\n",
            "M078027_R78_27_09 <in~ahumo kaAnuwA@ laA yarojuwna HisaAbFA\r\r\n",
            "M078027_R78_27_10 <in~ahumo kaAnuwA@ laA yarojuwna HisaAbFA\r\r\n",
            "M078027_R78_27_11 <in~ahumo kaAnuwA@ laA yarojuwna HisaAbFA\r\r\n",
            "M078027_R78_27_12 <in~ahumo kaAnuwA@ laA yarojuwna HisaAbFA\r\r\n",
            "M078027_R78_27_13 <in~ahumo kaAnuwA@ laA yarojuwna HisaAbFA\r\r\n",
            "M078027_R78_27_14 <in~ahumo kaAnuwA@ laA yarojuwna HisaAbFA\r\r\n",
            "M078027_R78_27_15 <in~ahumo kaAnuwA@ laA yarojuwna HisaAbFA\r\r\n",
            "M078027_R78_27_16 <in~ahumo kaAnuwA@ laA yarojuwna HisaAbFA\r\r\n",
            "M078027_R78_27_17 <in~ahumo kaAnuwA@ laA yarojuwna HisaAbFA\r\r\n",
            "M078027_R78_27_18 <in~ahumo kaAnuwA@ laA yarojuwna HisaAbFA\r\r\n",
            "M078027_R78_27_19 <in~ahumo kaAnuwA@ laA yarojuwna HisaAbFA\r\r\n",
            "M078027_R78_27_20 <in~ahumo kaAnuwA@ laA yarojuwna HisaAbFA\r\r\n",
            "M078027_R78_27_21 <in~ahumo kaAnuwA@ laA yarojuwna HisaAbFA\r\r\n",
            "M078027_R78_27_22 <in~ahumo kaAnuwA@ laA yarojuwna HisaAbFA\r\r\n",
            "M078027_R78_27_23 <in~ahumo kaAnuwA@ laA yarojuwna HisaAbFA\r\r\n",
            "M078027_R78_27_24 <in~ahumo kaAnuwA@ laA yarojuwna HisaAbFA\r\r\n",
            "M078027_R78_27_25 <in~ahumo kaAnuwA@ laA yarojuwna HisaAbFA\r\r\n",
            "M078027_R78_27_26 <in~ahumo kaAnuwA@ laA yarojuwna HisaAbFA\r\r\n",
            "M078027_R78_27_28 <in~ahumo kaAnuwA@ laA yarojuwna HisaAbFA\r\r\n",
            "M078027_R78_27_29 <in~ahumo kaAnuwA@ laA yarojuwna HisaAbFA\r\r\n",
            "M078027_R78_27_30 <in~ahumo kaAnuwA@ laA yarojuwna HisaAbFA\r\r\n",
            "M078028_R78_28_01 waka*~abuwA@ bi_#aAya`tinaA ki*~aAbFA\r\r\n",
            "M078028_R78_28_02 waka*~abuwA@ bi_#aAya`tinaA ki*~aAbFA\r\r\n",
            "M078028_R78_28_03 waka*~abuwA@ bi_#aAya`tinaA ki*~aAbFA\r\r\n",
            "M078028_R78_28_04 waka*~abuwA@ bi_#aAya`tinaA ki*~aAbFA\r\r\n",
            "M078028_R78_28_05 waka*~abuwA@ bi_#aAya`tinaA ki*~aAbFA\r\r\n",
            "M078028_R78_28_06 waka*~abuwA@ bi_#aAya`tinaA ki*~aAbFA\r\r\n",
            "M078028_R78_28_07 waka*~abuwA@ bi_#aAya`tinaA ki*~aAbFA\r\r\n",
            "M078028_R78_28_08 waka*~abuwA@ bi_#aAya`tinaA ki*~aAbFA\r\r\n",
            "M078028_R78_28_09 waka*~abuwA@ bi_#aAya`tinaA ki*~aAbFA\r\r\n",
            "M078028_R78_28_10 waka*~abuwA@ bi_#aAya`tinaA ki*~aAbFA\r\r\n",
            "M078028_R78_28_11 waka*~abuwA@ bi_#aAya`tinaA ki*~aAbFA\r\r\n",
            "M078028_R78_28_12 waka*~abuwA@ bi_#aAya`tinaA ki*~aAbFA\r\r\n",
            "M078028_R78_28_13 waka*~abuwA@ bi_#aAya`tinaA ki*~aAbFA\r\r\n",
            "M078028_R78_28_14 waka*~abuwA@ bi_#aAya`tinaA ki*~aAbFA\r\r\n",
            "M078028_R78_28_15 waka*~abuwA@ bi_#aAya`tinaA ki*~aAbFA\r\r\n",
            "M078028_R78_28_16 waka*~abuwA@ bi_#aAya`tinaA ki*~aAbFA\r\r\n",
            "M078028_R78_28_17 waka*~abuwA@ bi_#aAya`tinaA ki*~aAbFA\r\r\n",
            "M078028_R78_28_18 waka*~abuwA@ bi_#aAya`tinaA ki*~aAbFA\r\r\n",
            "M078028_R78_28_19 waka*~abuwA@ bi_#aAya`tinaA ki*~aAbFA\r\r\n",
            "M078028_R78_28_20 waka*~abuwA@ bi_#aAya`tinaA ki*~aAbFA\r\r\n",
            "M078028_R78_28_21 waka*~abuwA@ bi_#aAya`tinaA ki*~aAbFA\r\r\n",
            "M078028_R78_28_22 waka*~abuwA@ bi_#aAya`tinaA ki*~aAbFA\r\r\n",
            "M078028_R78_28_23 waka*~abuwA@ bi_#aAya`tinaA ki*~aAbFA\r\r\n",
            "M078028_R78_28_24 waka*~abuwA@ bi_#aAya`tinaA ki*~aAbFA\r\r\n",
            "M078028_R78_28_25 waka*~abuwA@ bi_#aAya`tinaA ki*~aAbFA\r\r\n",
            "M078028_R78_28_26 waka*~abuwA@ bi_#aAya`tinaA ki*~aAbFA\r\r\n",
            "M078028_R78_28_27 waka*~abuwA@ bi_#aAya`tinaA ki*~aAbFA\r\r\n",
            "M078028_R78_28_28 waka*~abuwA@ bi_#aAya`tinaA ki*~aAbFA\r\r\n",
            "M078028_R78_28_29 waka*~abuwA@ bi_#aAya`tinaA ki*~aAbFA\r\r\n",
            "M078028_R78_28_30 waka*~abuwA@ bi_#aAya`tinaA ki*~aAbFA\r\r\n",
            "M078029_R78_29_01 wakul~a $aYo'K >aHoSayona`hu kita`bFA\r\r\n",
            "M078029_R78_29_02 wakul~a $aYo'K >aHoSayona`hu kita`bFA\r\r\n",
            "M078029_R78_29_03 wakul~a $aYo'K >aHoSayona`hu kita`bFA\r\r\n",
            "M078029_R78_29_04 wakul~a $aYo'K >aHoSayona`hu kita`bFA\r\r\n",
            "M078029_R78_29_05 wakul~a $aYo'K >aHoSayona`hu kita`bFA\r\r\n",
            "M078029_R78_29_06 wakul~a $aYo'K >aHoSayona`hu kita`bFA\r\r\n",
            "M078029_R78_29_07 wakul~a $aYo'K >aHoSayona`hu kita`bFA\r\r\n",
            "M078029_R78_29_08 wakul~a $aYo'K >aHoSayona`hu kita`bFA\r\r\n",
            "M078029_R78_29_09 wakul~a $aYo'K >aHoSayona`hu kita`bFA\r\r\n",
            "M078029_R78_29_10 wakul~a $aYo'K >aHoSayona`hu kita`bFA\r\r\n",
            "M078029_R78_29_11 wakul~a $aYo'K >aHoSayona`hu kita`bFA\r\r\n",
            "M078029_R78_29_12 wakul~a $aYo'K >aHoSayona`hu kita`bFA\r\r\n",
            "M078029_R78_29_13 wakul~a $aYo'K >aHoSayona`hu kita`bFA\r\r\n",
            "M078029_R78_29_14 wakul~a $aYo'K >aHoSayona`hu kita`bFA\r\r\n",
            "M078029_R78_29_15 wakul~a $aYo'K >aHoSayona`hu kita`bFA\r\r\n",
            "M078029_R78_29_16 wakul~a $aYo'K >aHoSayona`hu kita`bFA\r\r\n",
            "M078029_R78_29_17 wakul~a $aYo'K >aHoSayona`hu kita`bFA\r\r\n",
            "M078029_R78_29_18 wakul~a $aYo'K >aHoSayona`hu kita`bFA\r\r\n",
            "M078029_R78_29_19 wakul~a $aYo'K >aHoSayona`hu kita`bFA\r\r\n",
            "M078029_R78_29_20 wakul~a $aYo'K >aHoSayona`hu kita`bFA\r\r\n",
            "M078029_R78_29_21 wakul~a $aYo'K >aHoSayona`hu kita`bFA\r\r\n",
            "M078029_R78_29_22 wakul~a $aYo'K >aHoSayona`hu kita`bFA\r\r\n",
            "M078029_R78_29_23 wakul~a $aYo'K >aHoSayona`hu kita`bFA\r\r\n",
            "M078029_R78_29_25 wakul~a $aYo'K >aHoSayona`hu kita`bFA\r\r\n",
            "M078029_R78_29_26 wakul~a $aYo'K >aHoSayona`hu kita`bFA\r\r\n",
            "M078029_R78_29_27 wakul~a $aYo'K >aHoSayona`hu kita`bFA\r\r\n",
            "M078029_R78_29_28 wakul~a $aYo'K >aHoSayona`hu kita`bFA\r\r\n",
            "M078029_R78_29_29 wakul~a $aYo'K >aHoSayona`hu kita`bFA\r\r\n",
            "M078030_R78_30_01 fa*uwquwA falan n~aziydakumo <il~aA Ea*aAbFA\r\r\n",
            "M078030_R78_30_02 fa*uwquwA falan n~aziydakumo <il~aA Ea*aAbFA\r\r\n",
            "M078030_R78_30_03 fa*uwquwA falan n~aziydakumo <il~aA Ea*aAbFA\r\r\n",
            "M078030_R78_30_04 fa*uwquwA falan n~aziydakumo <il~aA Ea*aAbFA\r\r\n",
            "M078030_R78_30_05 fa*uwquwA falan n~aziydakumo <il~aA Ea*aAbFA\r\r\n",
            "M078030_R78_30_06 fa*uwquwA falan n~aziydakumo <il~aA Ea*aAbFA\r\r\n",
            "M078030_R78_30_07 fa*uwquwA falan n~aziydakumo <il~aA Ea*aAbFA\r\r\n",
            "M078030_R78_30_08 fa*uwquwA falan n~aziydakumo <il~aA Ea*aAbFA\r\r\n",
            "M078030_R78_30_09 fa*uwquwA falan n~aziydakumo <il~aA Ea*aAbFA\r\r\n",
            "M078030_R78_30_10 fa*uwquwA falan n~aziydakumo <il~aA Ea*aAbFA\r\r\n",
            "M078030_R78_30_11 fa*uwquwA falan n~aziydakumo <il~aA Ea*aAbFA\r\r\n",
            "M078030_R78_30_13 fa*uwquwA falan n~aziydakumo <il~aA Ea*aAbFA\r\r\n",
            "M078030_R78_30_14 fa*uwquwA falan n~aziydakumo <il~aA Ea*aAbFA\r\r\n",
            "M078030_R78_30_15 fa*uwquwA falan n~aziydakumo <il~aA Ea*aAbFA\r\r\n",
            "M078030_R78_30_16 fa*uwquwA falan n~aziydakumo <il~aA Ea*aAbFA\r\r\n",
            "M078030_R78_30_17 fa*uwquwA falan n~aziydakumo <il~aA Ea*aAbFA\r\r\n",
            "M078030_R78_30_18 fa*uwquwA falan n~aziydakumo <il~aA Ea*aAbFA\r\r\n",
            "M078030_R78_30_21 fa*uwquwA falan n~aziydakumo <il~aA Ea*aAbFA\r\r\n",
            "M078030_R78_30_22 fa*uwquwA falan n~aziydakumo <il~aA Ea*aAbFA\r\r\n",
            "M078030_R78_30_24 fa*uwquwA falan n~aziydakumo <il~aA Ea*aAbFA\r\r\n",
            "M078030_R78_30_25 fa*uwquwA falan n~aziydakumo <il~aA Ea*aAbFA\r\r\n",
            "M078030_R78_30_26 fa*uwquwA falan n~aziydakumo <il~aA Ea*aAbFA\r\r\n",
            "M078030_R78_30_27 fa*uwquwA falan n~aziydakumo <il~aA Ea*aAbFA\r\r\n",
            "M078030_R78_30_28 fa*uwquwA falan n~aziydakumo <il~aA Ea*aAbFA\r\r\n",
            "M078030_R78_30_29 fa*uwquwA falan n~aziydakumo <il~aA Ea*aAbFA\r\r\n",
            "M078030_R78_30_30 fa*uwquwA falan n~aziydakumo <il~aA Ea*aAbFA\r\r\n",
            "M078031_R78_31_01 <in~a lilomut~aqiyna mafaAzFA\r\r\n",
            "M078031_R78_31_03 <in~a lilomut~aqiyna mafaAzFA\r\r\n",
            "M078031_R78_31_04 <in~a lilomut~aqiyna mafaAzFA\r\r\n",
            "M078031_R78_31_05 <in~a lilomut~aqiyna mafaAzFA\r\r\n",
            "M078031_R78_31_06 <in~a lilomut~aqiyna mafaAzFA\r\r\n",
            "M078031_R78_31_07 <in~a lilomut~aqiyna mafaAzFA\r\r\n",
            "M078031_R78_31_08 <in~a lilomut~aqiyna mafaAzFA\r\r\n",
            "M078031_R78_31_09 <in~a lilomut~aqiyna mafaAzFA\r\r\n",
            "M078031_R78_31_11 <in~a lilomut~aqiyna mafaAzFA\r\r\n",
            "M078031_R78_31_12 <in~a lilomut~aqiyna mafaAzFA\r\r\n",
            "M078031_R78_31_13 <in~a lilomut~aqiyna mafaAzFA\r\r\n",
            "M078031_R78_31_14 <in~a lilomut~aqiyna mafaAzFA\r\r\n",
            "M078031_R78_31_15 <in~a lilomut~aqiyna mafaAzFA\r\r\n",
            "M078031_R78_31_16 <in~a lilomut~aqiyna mafaAzFA\r\r\n",
            "M078031_R78_31_17 <in~a lilomut~aqiyna mafaAzFA\r\r\n",
            "M078031_R78_31_18 <in~a lilomut~aqiyna mafaAzFA\r\r\n",
            "M078031_R78_31_19 <in~a lilomut~aqiyna mafaAzFA\r\r\n",
            "M078031_R78_31_20 <in~a lilomut~aqiyna mafaAzFA\r\r\n",
            "M078031_R78_31_21 <in~a lilomut~aqiyna mafaAzFA\r\r\n",
            "M078031_R78_31_22 <in~a lilomut~aqiyna mafaAzFA\r\r\n",
            "M078031_R78_31_23 <in~a lilomut~aqiyna mafaAzFA\r\r\n",
            "M078031_R78_31_24 <in~a lilomut~aqiyna mafaAzFA\r\r\n",
            "M078031_R78_31_25 <in~a lilomut~aqiyna mafaAzFA\r\r\n",
            "M078031_R78_31_26 <in~a lilomut~aqiyna mafaAzFA\r\r\n",
            "M078031_R78_31_27 <in~a lilomut~aqiyna mafaAzFA\r\r\n",
            "M078031_R78_31_28 <in~a lilomut~aqiyna mafaAzFA\r\r\n",
            "M078031_R78_31_29 <in~a lilomut~aqiyna mafaAzFA\r\r\n",
            "M078031_R78_31_30 <in~a lilomut~aqiyna mafaAzFA\r\r\n",
            "M078032_R78_32_01 HadaA^}iqa wa>aEona`bFA\r\r\n",
            "M078032_R78_32_02 HadaA^}iqa wa>aEona`bFA\r\r\n",
            "M078032_R78_32_03 HadaA^}iqa wa>aEona`bFA\r\r\n",
            "M078032_R78_32_04 HadaA^}iqa wa>aEona`bFA\r\r\n",
            "M078032_R78_32_06 HadaA^}iqa wa>aEona`bFA\r\r\n",
            "M078032_R78_32_07 HadaA^}iqa wa>aEona`bFA\r\r\n",
            "M078032_R78_32_08 HadaA^}iqa wa>aEona`bFA\r\r\n",
            "M078032_R78_32_09 HadaA^}iqa wa>aEona`bFA\r\r\n",
            "M078032_R78_32_10 HadaA^}iqa wa>aEona`bFA\r\r\n",
            "M078032_R78_32_11 HadaA^}iqa wa>aEona`bFA\r\r\n",
            "M078032_R78_32_12 HadaA^}iqa wa>aEona`bFA\r\r\n",
            "M078032_R78_32_13 HadaA^}iqa wa>aEona`bFA\r\r\n",
            "M078032_R78_32_14 HadaA^}iqa wa>aEona`bFA\r\r\n",
            "M078032_R78_32_15 HadaA^}iqa wa>aEona`bFA\r\r\n",
            "M078032_R78_32_16 HadaA^}iqa wa>aEona`bFA\r\r\n",
            "M078032_R78_32_18 HadaA^}iqa wa>aEona`bFA\r\r\n",
            "M078032_R78_32_19 HadaA^}iqa wa>aEona`bFA\r\r\n",
            "M078032_R78_32_21 HadaA^}iqa wa>aEona`bFA\r\r\n",
            "M078032_R78_32_22 HadaA^}iqa wa>aEona`bFA\r\r\n",
            "M078032_R78_32_23 HadaA^}iqa wa>aEona`bFA\r\r\n",
            "M078032_R78_32_24 HadaA^}iqa wa>aEona`bFA\r\r\n",
            "M078032_R78_32_25 HadaA^}iqa wa>aEona`bFA\r\r\n",
            "M078032_R78_32_26 HadaA^}iqa wa>aEona`bFA\r\r\n",
            "M078032_R78_32_27 HadaA^}iqa wa>aEona`bFA\r\r\n",
            "M078032_R78_32_28 HadaA^}iqa wa>aEona`bFA\r\r\n",
            "M078032_R78_32_29 HadaA^}iqa wa>aEona`bFA\r\r\n",
            "M078032_R78_32_30 HadaA^}iqa wa>aEona`bFA\r\r\n",
            "M078033_R78_33_02 wakawaAEiba >atoraAbFA\r\r\n",
            "M078033_R78_33_03 wakawaAEiba >atoraAbFA\r\r\n",
            "M078033_R78_33_04 wakawaAEiba >atoraAbFA\r\r\n",
            "M078033_R78_33_05 wakawaAEiba >atoraAbFA\r\r\n",
            "M078033_R78_33_06 wakawaAEiba >atoraAbFA\r\r\n",
            "M078033_R78_33_07 wakawaAEiba >atoraAbFA\r\r\n",
            "M078033_R78_33_08 wakawaAEiba >atoraAbFA\r\r\n",
            "M078033_R78_33_09 wakawaAEiba >atoraAbFA\r\r\n",
            "M078033_R78_33_10 wakawaAEiba >atoraAbFA\r\r\n",
            "M078033_R78_33_11 wakawaAEiba >atoraAbFA\r\r\n",
            "M078033_R78_33_12 wakawaAEiba >atoraAbFA\r\r\n",
            "M078033_R78_33_13 wakawaAEiba >atoraAbFA\r\r\n",
            "M078033_R78_33_14 wakawaAEiba >atoraAbFA\r\r\n",
            "M078033_R78_33_15 wakawaAEiba >atoraAbFA\r\r\n",
            "M078033_R78_33_16 wakawaAEiba >atoraAbFA\r\r\n",
            "M078033_R78_33_17 wakawaAEiba >atoraAbFA\r\r\n",
            "M078033_R78_33_19 wakawaAEiba >atoraAbFA\r\r\n",
            "M078033_R78_33_20 wakawaAEiba >atoraAbFA\r\r\n",
            "M078033_R78_33_21 wakawaAEiba >atoraAbFA\r\r\n",
            "M078033_R78_33_23 wakawaAEiba >atoraAbFA\r\r\n",
            "M078033_R78_33_24 wakawaAEiba >atoraAbFA\r\r\n",
            "M078033_R78_33_25 wakawaAEiba >atoraAbFA\r\r\n",
            "M078033_R78_33_26 wakawaAEiba >atoraAbFA\r\r\n",
            "M078033_R78_33_27 wakawaAEiba >atoraAbFA\r\r\n",
            "M078033_R78_33_28 wakawaAEiba >atoraAbFA\r\r\n",
            "M078033_R78_33_29 wakawaAEiba >atoraAbFA\r\r\n",
            "M078033_R78_33_30 wakawaAEiba >atoraAbFA\r\r\n",
            "M078034_R78_34_01 waka>osFA dihaAqFA\r\r\n",
            "M078034_R78_34_02 waka>osFA dihaAqFA\r\r\n",
            "M078034_R78_34_03 waka>osFA dihaAqFA\r\r\n",
            "M078034_R78_34_04 waka>osFA dihaAqFA\r\r\n",
            "M078034_R78_34_05 waka>osFA dihaAqFA\r\r\n",
            "M078034_R78_34_06 waka>osFA dihaAqFA\r\r\n",
            "M078034_R78_34_07 waka>osFA dihaAqFA\r\r\n",
            "M078034_R78_34_08 waka>osFA dihaAqFA\r\r\n",
            "M078034_R78_34_09 waka>osFA dihaAqFA\r\r\n",
            "M078034_R78_34_10 waka>osFA dihaAqFA\r\r\n",
            "M078034_R78_34_11 waka>osFA dihaAqFA\r\r\n",
            "M078034_R78_34_12 waka>osFA dihaAqFA\r\r\n",
            "M078034_R78_34_13 waka>osFA dihaAqFA\r\r\n",
            "M078034_R78_34_14 waka>osFA dihaAqFA\r\r\n",
            "M078034_R78_34_15 waka>osFA dihaAqFA\r\r\n",
            "M078034_R78_34_17 waka>osFA dihaAqFA\r\r\n",
            "M078034_R78_34_18 waka>osFA dihaAqFA\r\r\n",
            "M078034_R78_34_19 waka>osFA dihaAqFA\r\r\n",
            "M078034_R78_34_20 waka>osFA dihaAqFA\r\r\n",
            "M078034_R78_34_21 waka>osFA dihaAqFA\r\r\n",
            "M078034_R78_34_22 waka>osFA dihaAqFA\r\r\n",
            "M078034_R78_34_23 waka>osFA dihaAqFA\r\r\n",
            "M078034_R78_34_24 waka>osFA dihaAqFA\r\r\n",
            "M078034_R78_34_26 waka>osFA dihaAqFA\r\r\n",
            "M078034_R78_34_27 waka>osFA dihaAqFA\r\r\n",
            "M078034_R78_34_29 waka>osFA dihaAqFA\r\r\n",
            "M078034_R78_34_30 waka>osFA dihaAqFA\r\r\n",
            "M078035_R78_35_01 l~aA yasomaEuwna fiyhaA lagowFA walaA ki*~a`bFA\r\r\n",
            "M078035_R78_35_02 l~aA yasomaEuwna fiyhaA lagowFA walaA ki*~a`bFA\r\r\n",
            "M078035_R78_35_04 l~aA yasomaEuwna fiyhaA lagowFA walaA ki*~a`bFA\r\r\n",
            "M078035_R78_35_05 l~aA yasomaEuwna fiyhaA lagowFA walaA ki*~a`bFA\r\r\n",
            "M078035_R78_35_06 l~aA yasomaEuwna fiyhaA lagowFA walaA ki*~a`bFA\r\r\n",
            "M078035_R78_35_07 l~aA yasomaEuwna fiyhaA lagowFA walaA ki*~a`bFA\r\r\n",
            "M078035_R78_35_08 l~aA yasomaEuwna fiyhaA lagowFA walaA ki*~a`bFA\r\r\n",
            "M078035_R78_35_09 l~aA yasomaEuwna fiyhaA lagowFA walaA ki*~a`bFA\r\r\n",
            "M078035_R78_35_10 l~aA yasomaEuwna fiyhaA lagowFA walaA ki*~a`bFA\r\r\n",
            "M078035_R78_35_11 l~aA yasomaEuwna fiyhaA lagowFA walaA ki*~a`bFA\r\r\n",
            "M078035_R78_35_12 l~aA yasomaEuwna fiyhaA lagowFA walaA ki*~a`bFA\r\r\n",
            "M078035_R78_35_13 l~aA yasomaEuwna fiyhaA lagowFA walaA ki*~a`bFA\r\r\n",
            "M078035_R78_35_14 l~aA yasomaEuwna fiyhaA lagowFA walaA ki*~a`bFA\r\r\n",
            "M078035_R78_35_15 l~aA yasomaEuwna fiyhaA lagowFA walaA ki*~a`bFA\r\r\n",
            "M078035_R78_35_16 l~aA yasomaEuwna fiyhaA lagowFA walaA ki*~a`bFA\r\r\n",
            "M078035_R78_35_17 l~aA yasomaEuwna fiyhaA lagowFA walaA ki*~a`bFA\r\r\n",
            "M078035_R78_35_18 l~aA yasomaEuwna fiyhaA lagowFA walaA ki*~a`bFA\r\r\n",
            "M078035_R78_35_19 l~aA yasomaEuwna fiyhaA lagowFA walaA ki*~a`bFA\r\r\n",
            "M078035_R78_35_20 l~aA yasomaEuwna fiyhaA lagowFA walaA ki*~a`bFA\r\r\n",
            "M078035_R78_35_21 l~aA yasomaEuwna fiyhaA lagowFA walaA ki*~a`bFA\r\r\n",
            "M078035_R78_35_22 l~aA yasomaEuwna fiyhaA lagowFA walaA ki*~a`bFA\r\r\n",
            "M078035_R78_35_23 l~aA yasomaEuwna fiyhaA lagowFA walaA ki*~a`bFA\r\r\n",
            "M078035_R78_35_24 l~aA yasomaEuwna fiyhaA lagowFA walaA ki*~a`bFA\r\r\n",
            "M078035_R78_35_25 l~aA yasomaEuwna fiyhaA lagowFA walaA ki*~a`bFA\r\r\n",
            "M078035_R78_35_26 l~aA yasomaEuwna fiyhaA lagowFA walaA ki*~a`bFA\r\r\n",
            "M078035_R78_35_27 l~aA yasomaEuwna fiyhaA lagowFA walaA ki*~a`bFA\r\r\n",
            "M078035_R78_35_28 l~aA yasomaEuwna fiyhaA lagowFA walaA ki*~a`bFA\r\r\n",
            "M078035_R78_35_29 l~aA yasomaEuwna fiyhaA lagowFA walaA ki*~a`bFA\r\r\n",
            "M078035_R78_35_30 l~aA yasomaEuwna fiyhaA lagowFA walaA ki*~a`bFA\r\r\n",
            "M078036_R78_36_01 jazaA^'F m~in r~ab~ika EaTaA^'F HisaAbFA HisaAbFA\r\r\n",
            "M078036_R78_36_02 jazaA^'F m~in r~ab~ika EaTaA^'F HisaAbFA HisaAbFA\r\r\n",
            "M078036_R78_36_04 jazaA^'F m~in r~ab~ika EaTaA^'F HisaAbFA HisaAbFA\r\r\n",
            "M078036_R78_36_05 jazaA^'F m~in r~ab~ika EaTaA^'F HisaAbFA HisaAbFA\r\r\n",
            "M078036_R78_36_06 jazaA^'F m~in r~ab~ika EaTaA^'F HisaAbFA HisaAbFA\r\r\n",
            "M078036_R78_36_07 jazaA^'F m~in r~ab~ika EaTaA^'F HisaAbFA HisaAbFA\r\r\n",
            "M078036_R78_36_08 jazaA^'F m~in r~ab~ika EaTaA^'F HisaAbFA HisaAbFA\r\r\n",
            "M078036_R78_36_09 jazaA^'F m~in r~ab~ika EaTaA^'F HisaAbFA HisaAbFA\r\r\n",
            "M078036_R78_36_10 jazaA^'F m~in r~ab~ika EaTaA^'F HisaAbFA HisaAbFA\r\r\n",
            "M078036_R78_36_11 jazaA^'F m~in r~ab~ika EaTaA^'F HisaAbFA HisaAbFA\r\r\n",
            "M078036_R78_36_12 jazaA^'F m~in r~ab~ika EaTaA^'F HisaAbFA HisaAbFA\r\r\n",
            "M078036_R78_36_13 jazaA^'F m~in r~ab~ika EaTaA^'F HisaAbFA HisaAbFA\r\r\n",
            "M078036_R78_36_14 jazaA^'F m~in r~ab~ika EaTaA^'F HisaAbFA HisaAbFA\r\r\n",
            "M078036_R78_36_15 jazaA^'F m~in r~ab~ika EaTaA^'F HisaAbFA HisaAbFA\r\r\n",
            "M078036_R78_36_16 jazaA^'F m~in r~ab~ika EaTaA^'F HisaAbFA HisaAbFA\r\r\n",
            "M078036_R78_36_17 jazaA^'F m~in r~ab~ika EaTaA^'F HisaAbFA HisaAbFA\r\r\n",
            "M078036_R78_36_18 jazaA^'F m~in r~ab~ika EaTaA^'F HisaAbFA HisaAbFA\r\r\n",
            "M078036_R78_36_19 jazaA^'F m~in r~ab~ika EaTaA^'F HisaAbFA HisaAbFA\r\r\n",
            "M078036_R78_36_20 jazaA^'F m~in r~ab~ika EaTaA^'F HisaAbFA HisaAbFA\r\r\n",
            "M078036_R78_36_21 jazaA^'F m~in r~ab~ika EaTaA^'F HisaAbFA HisaAbFA\r\r\n",
            "M078036_R78_36_22 jazaA^'F m~in r~ab~ika EaTaA^'F HisaAbFA HisaAbFA\r\r\n",
            "M078036_R78_36_23 jazaA^'F m~in r~ab~ika EaTaA^'F HisaAbFA HisaAbFA\r\r\n",
            "M078036_R78_36_24 jazaA^'F m~in r~ab~ika EaTaA^'F HisaAbFA HisaAbFA\r\r\n",
            "M078036_R78_36_25 jazaA^'F m~in r~ab~ika EaTaA^'F HisaAbFA HisaAbFA\r\r\n",
            "M078036_R78_36_26 jazaA^'F m~in r~ab~ika EaTaA^'F HisaAbFA HisaAbFA\r\r\n",
            "M078036_R78_36_27 jazaA^'F m~in r~ab~ika EaTaA^'F HisaAbFA HisaAbFA\r\r\n",
            "M078036_R78_36_28 jazaA^'F m~in r~ab~ika EaTaA^'F HisaAbFA HisaAbFA\r\r\n",
            "M078036_R78_36_29 jazaA^'F m~in r~ab~ika EaTaA^'F HisaAbFA HisaAbFA\r\r\n",
            "M078036_R78_36_30 jazaA^'F m~in r~ab~ika EaTaA^'F HisaAbFA HisaAbFA\r\r\n",
            "M078037_R78_37_03 r~ab~i {ls~ama`wa`ti wa{lo>aroDi wamaA bayonahumaA {lr~aHoma`ni laA yamolikuwna minohu xiTaAbFA\r\r\n",
            "M078037_R78_37_04 r~ab~i {ls~ama`wa`ti wa{lo>aroDi wamaA bayonahumaA {lr~aHoma`ni laA yamolikuwna minohu xiTaAbFA\r\r\n",
            "M078037_R78_37_07 r~ab~i {ls~ama`wa`ti wa{lo>aroDi wamaA bayonahumaA {lr~aHoma`ni laA yamolikuwna minohu xiTaAbFA\r\r\n",
            "M078037_R78_37_08 r~ab~i {ls~ama`wa`ti wa{lo>aroDi wamaA bayonahumaA {lr~aHoma`ni laA yamolikuwna minohu xiTaAbFA\r\r\n",
            "M078037_R78_37_09 r~ab~i {ls~ama`wa`ti wa{lo>aroDi wamaA bayonahumaA {lr~aHoma`ni laA yamolikuwna minohu xiTaAbFA\r\r\n",
            "M078037_R78_37_10 r~ab~i {ls~ama`wa`ti wa{lo>aroDi wamaA bayonahumaA {lr~aHoma`ni laA yamolikuwna minohu xiTaAbFA\r\r\n",
            "M078037_R78_37_11 r~ab~i {ls~ama`wa`ti wa{lo>aroDi wamaA bayonahumaA {lr~aHoma`ni laA yamolikuwna minohu xiTaAbFA\r\r\n",
            "M078037_R78_37_12 r~ab~i {ls~ama`wa`ti wa{lo>aroDi wamaA bayonahumaA {lr~aHoma`ni laA yamolikuwna minohu xiTaAbFA\r\r\n",
            "M078037_R78_37_13 r~ab~i {ls~ama`wa`ti wa{lo>aroDi wamaA bayonahumaA {lr~aHoma`ni laA yamolikuwna minohu xiTaAbFA\r\r\n",
            "M078037_R78_37_14 r~ab~i {ls~ama`wa`ti wa{lo>aroDi wamaA bayonahumaA {lr~aHoma`ni laA yamolikuwna minohu xiTaAbFA\r\r\n",
            "M078037_R78_37_15 r~ab~i {ls~ama`wa`ti wa{lo>aroDi wamaA bayonahumaA {lr~aHoma`ni laA yamolikuwna minohu xiTaAbFA\r\r\n",
            "M078037_R78_37_16 r~ab~i {ls~ama`wa`ti wa{lo>aroDi wamaA bayonahumaA {lr~aHoma`ni laA yamolikuwna minohu xiTaAbFA\r\r\n",
            "M078037_R78_37_17 r~ab~i {ls~ama`wa`ti wa{lo>aroDi wamaA bayonahumaA {lr~aHoma`ni laA yamolikuwna minohu xiTaAbFA\r\r\n",
            "M078037_R78_37_18 r~ab~i {ls~ama`wa`ti wa{lo>aroDi wamaA bayonahumaA {lr~aHoma`ni laA yamolikuwna minohu xiTaAbFA\r\r\n",
            "M078037_R78_37_19 r~ab~i {ls~ama`wa`ti wa{lo>aroDi wamaA bayonahumaA {lr~aHoma`ni laA yamolikuwna minohu xiTaAbFA\r\r\n",
            "M078037_R78_37_20 r~ab~i {ls~ama`wa`ti wa{lo>aroDi wamaA bayonahumaA {lr~aHoma`ni laA yamolikuwna minohu xiTaAbFA\r\r\n",
            "M078037_R78_37_21 r~ab~i {ls~ama`wa`ti wa{lo>aroDi wamaA bayonahumaA {lr~aHoma`ni laA yamolikuwna minohu xiTaAbFA\r\r\n",
            "M078037_R78_37_22 r~ab~i {ls~ama`wa`ti wa{lo>aroDi wamaA bayonahumaA {lr~aHoma`ni laA yamolikuwna minohu xiTaAbFA\r\r\n",
            "M078037_R78_37_23 r~ab~i {ls~ama`wa`ti wa{lo>aroDi wamaA bayonahumaA {lr~aHoma`ni laA yamolikuwna minohu xiTaAbFA\r\r\n",
            "M078037_R78_37_24 r~ab~i {ls~ama`wa`ti wa{lo>aroDi wamaA bayonahumaA {lr~aHoma`ni laA yamolikuwna minohu xiTaAbFA\r\r\n",
            "M078037_R78_37_25 r~ab~i {ls~ama`wa`ti wa{lo>aroDi wamaA bayonahumaA {lr~aHoma`ni laA yamolikuwna minohu xiTaAbFA\r\r\n",
            "M078037_R78_37_26 r~ab~i {ls~ama`wa`ti wa{lo>aroDi wamaA bayonahumaA {lr~aHoma`ni laA yamolikuwna minohu xiTaAbFA\r\r\n",
            "M078037_R78_37_27 r~ab~i {ls~ama`wa`ti wa{lo>aroDi wamaA bayonahumaA {lr~aHoma`ni laA yamolikuwna minohu xiTaAbFA\r\r\n",
            "M078037_R78_37_28 r~ab~i {ls~ama`wa`ti wa{lo>aroDi wamaA bayonahumaA {lr~aHoma`ni laA yamolikuwna minohu xiTaAbFA\r\r\n",
            "M078037_R78_37_29 r~ab~i {ls~ama`wa`ti wa{lo>aroDi wamaA bayonahumaA {lr~aHoma`ni laA yamolikuwna minohu xiTaAbFA\r\r\n",
            "M078037_R78_37_30 r~ab~i {ls~ama`wa`ti wa{lo>aroDi wamaA bayonahumaA {lr~aHoma`ni laA yamolikuwna minohu xiTaAbFA\r\r\n",
            "M078038_R78_38_01 yawoma yaquwmu {lr~uwHu wa{lomala`^}ikapu Saf~FA l~aA yatakal~amuwna <il~aA mano >a*ina lahu {lr~aHoma`nu waqaAla SawaAbFA\r\r\n",
            "M078038_R78_38_02 yawoma yaquwmu {lr~uwHu wa{lomala`^}ikapu Saf~FA l~aA yatakal~amuwna <il~aA mano >a*ina lahu {lr~aHoma`nu waqaAla SawaAbFA\r\r\n",
            "M078038_R78_38_03 yawoma yaquwmu {lr~uwHu wa{lomala`^}ikapu Saf~FA l~aA yatakal~amuwna <il~aA mano >a*ina lahu {lr~aHoma`nu waqaAla SawaAbFA\r\r\n",
            "M078038_R78_38_04 yawoma yaquwmu {lr~uwHu wa{lomala`^}ikapu Saf~FA l~aA yatakal~amuwna <il~aA mano >a*ina lahu {lr~aHoma`nu waqaAla SawaAbFA\r\r\n",
            "M078038_R78_38_05 yawoma yaquwmu {lr~uwHu wa{lomala`^}ikapu Saf~FA l~aA yatakal~amuwna <il~aA mano >a*ina lahu {lr~aHoma`nu waqaAla SawaAbFA\r\r\n",
            "M078038_R78_38_06 yawoma yaquwmu {lr~uwHu wa{lomala`^}ikapu Saf~FA l~aA yatakal~amuwna <il~aA mano >a*ina lahu {lr~aHoma`nu waqaAla SawaAbFA\r\r\n",
            "M078038_R78_38_07 yawoma yaquwmu {lr~uwHu wa{lomala`^}ikapu Saf~FA l~aA yatakal~amuwna <il~aA mano >a*ina lahu {lr~aHoma`nu waqaAla SawaAbFA\r\r\n",
            "M078038_R78_38_08 yawoma yaquwmu {lr~uwHu wa{lomala`^}ikapu Saf~FA l~aA yatakal~amuwna <il~aA mano >a*ina lahu {lr~aHoma`nu waqaAla SawaAbFA\r\r\n",
            "M078038_R78_38_09 yawoma yaquwmu {lr~uwHu wa{lomala`^}ikapu Saf~FA l~aA yatakal~amuwna <il~aA mano >a*ina lahu {lr~aHoma`nu waqaAla SawaAbFA\r\r\n",
            "M078038_R78_38_10 yawoma yaquwmu {lr~uwHu wa{lomala`^}ikapu Saf~FA l~aA yatakal~amuwna <il~aA mano >a*ina lahu {lr~aHoma`nu waqaAla SawaAbFA\r\r\n",
            "M078038_R78_38_11 yawoma yaquwmu {lr~uwHu wa{lomala`^}ikapu Saf~FA l~aA yatakal~amuwna <il~aA mano >a*ina lahu {lr~aHoma`nu waqaAla SawaAbFA\r\r\n",
            "M078038_R78_38_12 yawoma yaquwmu {lr~uwHu wa{lomala`^}ikapu Saf~FA l~aA yatakal~amuwna <il~aA mano >a*ina lahu {lr~aHoma`nu waqaAla SawaAbFA\r\r\n",
            "M078038_R78_38_13 yawoma yaquwmu {lr~uwHu wa{lomala`^}ikapu Saf~FA l~aA yatakal~amuwna <il~aA mano >a*ina lahu {lr~aHoma`nu waqaAla SawaAbFA\r\r\n",
            "M078038_R78_38_14 yawoma yaquwmu {lr~uwHu wa{lomala`^}ikapu Saf~FA l~aA yatakal~amuwna <il~aA mano >a*ina lahu {lr~aHoma`nu waqaAla SawaAbFA\r\r\n",
            "M078038_R78_38_16 yawoma yaquwmu {lr~uwHu wa{lomala`^}ikapu Saf~FA l~aA yatakal~amuwna <il~aA mano >a*ina lahu {lr~aHoma`nu waqaAla SawaAbFA\r\r\n",
            "M078038_R78_38_17 yawoma yaquwmu {lr~uwHu wa{lomala`^}ikapu Saf~FA l~aA yatakal~amuwna <il~aA mano >a*ina lahu {lr~aHoma`nu waqaAla SawaAbFA\r\r\n",
            "M078038_R78_38_18 yawoma yaquwmu {lr~uwHu wa{lomala`^}ikapu Saf~FA l~aA yatakal~amuwna <il~aA mano >a*ina lahu {lr~aHoma`nu waqaAla SawaAbFA\r\r\n",
            "M078038_R78_38_19 yawoma yaquwmu {lr~uwHu wa{lomala`^}ikapu Saf~FA l~aA yatakal~amuwna <il~aA mano >a*ina lahu {lr~aHoma`nu waqaAla SawaAbFA\r\r\n",
            "M078038_R78_38_20 yawoma yaquwmu {lr~uwHu wa{lomala`^}ikapu Saf~FA l~aA yatakal~amuwna <il~aA mano >a*ina lahu {lr~aHoma`nu waqaAla SawaAbFA\r\r\n",
            "M078038_R78_38_21 yawoma yaquwmu {lr~uwHu wa{lomala`^}ikapu Saf~FA l~aA yatakal~amuwna <il~aA mano >a*ina lahu {lr~aHoma`nu waqaAla SawaAbFA\r\r\n",
            "M078038_R78_38_22 yawoma yaquwmu {lr~uwHu wa{lomala`^}ikapu Saf~FA l~aA yatakal~amuwna <il~aA mano >a*ina lahu {lr~aHoma`nu waqaAla SawaAbFA\r\r\n",
            "M078038_R78_38_23 yawoma yaquwmu {lr~uwHu wa{lomala`^}ikapu Saf~FA l~aA yatakal~amuwna <il~aA mano >a*ina lahu {lr~aHoma`nu waqaAla SawaAbFA\r\r\n",
            "M078038_R78_38_24 yawoma yaquwmu {lr~uwHu wa{lomala`^}ikapu Saf~FA l~aA yatakal~amuwna <il~aA mano >a*ina lahu {lr~aHoma`nu waqaAla SawaAbFA\r\r\n",
            "M078038_R78_38_26 yawoma yaquwmu {lr~uwHu wa{lomala`^}ikapu Saf~FA l~aA yatakal~amuwna <il~aA mano >a*ina lahu {lr~aHoma`nu waqaAla SawaAbFA\r\r\n",
            "M078038_R78_38_27 yawoma yaquwmu {lr~uwHu wa{lomala`^}ikapu Saf~FA l~aA yatakal~amuwna <il~aA mano >a*ina lahu {lr~aHoma`nu waqaAla SawaAbFA\r\r\n",
            "M078038_R78_38_28 yawoma yaquwmu {lr~uwHu wa{lomala`^}ikapu Saf~FA l~aA yatakal~amuwna <il~aA mano >a*ina lahu {lr~aHoma`nu waqaAla SawaAbFA\r\r\n",
            "M078038_R78_38_29 yawoma yaquwmu {lr~uwHu wa{lomala`^}ikapu Saf~FA l~aA yatakal~amuwna <il~aA mano >a*ina lahu {lr~aHoma`nu waqaAla SawaAbFA\r\r\n",
            "M078038_R78_38_30 yawoma yaquwmu {lr~uwHu wa{lomala`^}ikapu Saf~FA l~aA yatakal~amuwna <il~aA mano >a*ina lahu {lr~aHoma`nu waqaAla SawaAbFA\r\r\n",
            "M094001_R94_1_01 >alamo na$oraHo laka Sadoraka\r\r\n",
            "M094001_R94_1_02 >alamo na$oraHo laka Sadoraka\r\r\n",
            "M094001_R94_1_03 >alamo na$oraHo laka Sadoraka\r\r\n",
            "M094001_R94_1_05 >alamo na$oraHo laka Sadoraka\r\r\n",
            "M094001_R94_1_06 >alamo na$oraHo laka Sadoraka\r\r\n",
            "M094001_R94_1_07 >alamo na$oraHo laka Sadoraka\r\r\n",
            "M094001_R94_1_08 >alamo na$oraHo laka Sadoraka\r\r\n",
            "M094001_R94_1_09 >alamo na$oraHo laka Sadoraka\r\r\n",
            "M094001_R94_1_10 >alamo na$oraHo laka Sadoraka\r\r\n",
            "M094001_R94_1_11 >alamo na$oraHo laka Sadoraka\r\r\n",
            "M094001_R94_1_12 >alamo na$oraHo laka Sadoraka\r\r\n",
            "M094001_R94_1_13 >alamo na$oraHo laka Sadoraka\r\r\n",
            "M094001_R94_1_14 >alamo na$oraHo laka Sadoraka\r\r\n",
            "M094001_R94_1_15 >alamo na$oraHo laka Sadoraka\r\r\n",
            "M094001_R94_1_16 >alamo na$oraHo laka Sadoraka\r\r\n",
            "M094001_R94_1_17 >alamo na$oraHo laka Sadoraka\r\r\n",
            "M094001_R94_1_18 >alamo na$oraHo laka Sadoraka\r\r\n",
            "M094001_R94_1_19 >alamo na$oraHo laka Sadoraka\r\r\n",
            "M094001_R94_1_20 >alamo na$oraHo laka Sadoraka\r\r\n",
            "M094001_R94_1_21 >alamo na$oraHo laka Sadoraka\r\r\n",
            "M094001_R94_1_22 >alamo na$oraHo laka Sadoraka\r\r\n",
            "M094001_R94_1_23 >alamo na$oraHo laka Sadoraka\r\r\n",
            "M094001_R94_1_24 >alamo na$oraHo laka Sadoraka\r\r\n",
            "M094001_R94_1_25 >alamo na$oraHo laka Sadoraka\r\r\n",
            "M094001_R94_1_26 >alamo na$oraHo laka Sadoraka\r\r\n",
            "M094001_R94_1_27 >alamo na$oraHo laka Sadoraka\r\r\n",
            "M094001_R94_1_28 >alamo na$oraHo laka Sadoraka\r\r\n",
            "M094001_R94_1_30 >alamo na$oraHo laka Sadoraka\r\r\n",
            "M094002_R94_2_01 wawaDaEonaA Eanka wizoraka\r\r\n",
            "M094002_R94_2_02 wawaDaEonaA Eanka wizoraka\r\r\n",
            "M094002_R94_2_03 wawaDaEonaA Eanka wizoraka\r\r\n",
            "M094002_R94_2_04 wawaDaEonaA Eanka wizoraka\r\r\n",
            "M094002_R94_2_05 wawaDaEonaA Eanka wizoraka\r\r\n",
            "M094002_R94_2_06 wawaDaEonaA Eanka wizoraka\r\r\n",
            "M094002_R94_2_07 wawaDaEonaA Eanka wizoraka\r\r\n",
            "M094002_R94_2_08 wawaDaEonaA Eanka wizoraka\r\r\n",
            "M094002_R94_2_09 wawaDaEonaA Eanka wizoraka\r\r\n",
            "M094002_R94_2_10 wawaDaEonaA Eanka wizoraka\r\r\n",
            "M094002_R94_2_11 wawaDaEonaA Eanka wizoraka\r\r\n",
            "M094002_R94_2_12 wawaDaEonaA Eanka wizoraka\r\r\n",
            "M094002_R94_2_13 wawaDaEonaA Eanka wizoraka\r\r\n",
            "M094002_R94_2_14 wawaDaEonaA Eanka wizoraka\r\r\n",
            "M094002_R94_2_15 wawaDaEonaA Eanka wizoraka\r\r\n",
            "M094002_R94_2_17 wawaDaEonaA Eanka wizoraka\r\r\n",
            "M094002_R94_2_18 wawaDaEonaA Eanka wizoraka\r\r\n",
            "M094002_R94_2_20 wawaDaEonaA Eanka wizoraka\r\r\n",
            "M094002_R94_2_21 wawaDaEonaA Eanka wizoraka\r\r\n",
            "M094002_R94_2_23 wawaDaEonaA Eanka wizoraka\r\r\n",
            "M094002_R94_2_25 wawaDaEonaA Eanka wizoraka\r\r\n",
            "M094002_R94_2_26 wawaDaEonaA Eanka wizoraka\r\r\n",
            "M094002_R94_2_27 wawaDaEonaA Eanka wizoraka\r\r\n",
            "M094002_R94_2_28 wawaDaEonaA Eanka wizoraka\r\r\n",
            "M094002_R94_2_29 wawaDaEonaA Eanka wizoraka\r\r\n",
            "M094002_R94_2_30 wawaDaEonaA Eanka wizoraka\r\r\n",
            "M094003_R94_3_01 {l~a*iY^3 >anqaDa Zahoraka\r\r\n",
            "M094003_R94_3_03 {l~a*iY^3 >anqaDa Zahoraka\r\r\n",
            "M094003_R94_3_04 {l~a*iY^3 >anqaDa Zahoraka\r\r\n",
            "M094003_R94_3_05 {l~a*iY^3 >anqaDa Zahoraka\r\r\n",
            "M094003_R94_3_06 {l~a*iY^3 >anqaDa Zahoraka\r\r\n",
            "M094003_R94_3_07 {l~a*iY^3 >anqaDa Zahoraka\r\r\n",
            "M094003_R94_3_08 {l~a*iY^3 >anqaDa Zahoraka\r\r\n",
            "M094003_R94_3_09 {l~a*iY^3 >anqaDa Zahoraka\r\r\n",
            "M094003_R94_3_11 {l~a*iY^3 >anqaDa Zahoraka\r\r\n",
            "M094003_R94_3_12 {l~a*iY^3 >anqaDa Zahoraka\r\r\n",
            "M094003_R94_3_13 {l~a*iY^3 >anqaDa Zahoraka\r\r\n",
            "M094003_R94_3_14 {l~a*iY^3 >anqaDa Zahoraka\r\r\n",
            "M094003_R94_3_15 {l~a*iY^3 >anqaDa Zahoraka\r\r\n",
            "M094003_R94_3_17 {l~a*iY^3 >anqaDa Zahoraka\r\r\n",
            "M094003_R94_3_18 {l~a*iY^3 >anqaDa Zahoraka\r\r\n",
            "M094003_R94_3_19 {l~a*iY^3 >anqaDa Zahoraka\r\r\n",
            "M094003_R94_3_20 {l~a*iY^3 >anqaDa Zahoraka\r\r\n",
            "M094003_R94_3_21 {l~a*iY^3 >anqaDa Zahoraka\r\r\n",
            "M094003_R94_3_22 {l~a*iY^3 >anqaDa Zahoraka\r\r\n",
            "M094003_R94_3_23 {l~a*iY^3 >anqaDa Zahoraka\r\r\n",
            "M094003_R94_3_24 {l~a*iY^3 >anqaDa Zahoraka\r\r\n",
            "M094003_R94_3_25 {l~a*iY^3 >anqaDa Zahoraka\r\r\n",
            "M094003_R94_3_26 {l~a*iY^3 >anqaDa Zahoraka\r\r\n",
            "M094003_R94_3_27 {l~a*iY^3 >anqaDa Zahoraka\r\r\n",
            "M094003_R94_3_28 {l~a*iY^3 >anqaDa Zahoraka\r\r\n",
            "M094003_R94_3_29 {l~a*iY^3 >anqaDa Zahoraka\r\r\n",
            "M094003_R94_3_30 {l~a*iY^3 >anqaDa Zahoraka\r\r\n",
            "M094004_R94_4_01 warafaEonaA laka *ikoraka\r\r\n",
            "M094004_R94_4_02 warafaEonaA laka *ikoraka\r\r\n",
            "M094004_R94_4_03 warafaEonaA laka *ikoraka\r\r\n",
            "M094004_R94_4_04 warafaEonaA laka *ikoraka\r\r\n",
            "M094004_R94_4_05 warafaEonaA laka *ikoraka\r\r\n",
            "M094004_R94_4_06 warafaEonaA laka *ikoraka\r\r\n",
            "M094004_R94_4_07 warafaEonaA laka *ikoraka\r\r\n",
            "M094004_R94_4_08 warafaEonaA laka *ikoraka\r\r\n",
            "M094004_R94_4_09 warafaEonaA laka *ikoraka\r\r\n",
            "M094004_R94_4_10 warafaEonaA laka *ikoraka\r\r\n",
            "M094004_R94_4_11 warafaEonaA laka *ikoraka\r\r\n",
            "M094004_R94_4_12 warafaEonaA laka *ikoraka\r\r\n",
            "M094004_R94_4_13 warafaEonaA laka *ikoraka\r\r\n",
            "M094004_R94_4_14 warafaEonaA laka *ikoraka\r\r\n",
            "M094004_R94_4_15 warafaEonaA laka *ikoraka\r\r\n",
            "M094004_R94_4_16 warafaEonaA laka *ikoraka\r\r\n",
            "M094004_R94_4_17 warafaEonaA laka *ikoraka\r\r\n",
            "M094004_R94_4_18 warafaEonaA laka *ikoraka\r\r\n",
            "M094004_R94_4_21 warafaEonaA laka *ikoraka\r\r\n",
            "M094004_R94_4_22 warafaEonaA laka *ikoraka\r\r\n",
            "M094004_R94_4_23 warafaEonaA laka *ikoraka\r\r\n",
            "M094004_R94_4_24 warafaEonaA laka *ikoraka\r\r\n",
            "M094004_R94_4_25 warafaEonaA laka *ikoraka\r\r\n",
            "M094004_R94_4_26 warafaEonaA laka *ikoraka\r\r\n",
            "M094004_R94_4_28 warafaEonaA laka *ikoraka\r\r\n",
            "M094004_R94_4_29 warafaEonaA laka *ikoraka\r\r\n",
            "M094004_R94_4_30 warafaEonaA laka *ikoraka\r\r\n",
            "M094005_R94_5_01 fa<in~a maEa {loEusori yusorFA\r\r\n",
            "M094005_R94_5_03 fa<in~a maEa {loEusori yusorFA\r\r\n",
            "M094005_R94_5_04 fa<in~a maEa {loEusori yusorFA\r\r\n",
            "M094005_R94_5_05 fa<in~a maEa {loEusori yusorFA\r\r\n",
            "M094005_R94_5_06 fa<in~a maEa {loEusori yusorFA\r\r\n",
            "M094005_R94_5_07 fa<in~a maEa {loEusori yusorFA\r\r\n",
            "M094005_R94_5_08 fa<in~a maEa {loEusori yusorFA\r\r\n",
            "M094005_R94_5_09 fa<in~a maEa {loEusori yusorFA\r\r\n",
            "M094005_R94_5_10 fa<in~a maEa {loEusori yusorFA\r\r\n",
            "M094005_R94_5_12 fa<in~a maEa {loEusori yusorFA\r\r\n",
            "M094005_R94_5_14 fa<in~a maEa {loEusori yusorFA\r\r\n",
            "M094005_R94_5_15 fa<in~a maEa {loEusori yusorFA\r\r\n",
            "M094005_R94_5_16 fa<in~a maEa {loEusori yusorFA\r\r\n",
            "M094005_R94_5_17 fa<in~a maEa {loEusori yusorFA\r\r\n",
            "M094005_R94_5_18 fa<in~a maEa {loEusori yusorFA\r\r\n",
            "M094005_R94_5_19 fa<in~a maEa {loEusori yusorFA\r\r\n",
            "M094005_R94_5_20 fa<in~a maEa {loEusori yusorFA\r\r\n",
            "M094005_R94_5_21 fa<in~a maEa {loEusori yusorFA\r\r\n",
            "M094005_R94_5_22 fa<in~a maEa {loEusori yusorFA\r\r\n",
            "M094005_R94_5_23 fa<in~a maEa {loEusori yusorFA\r\r\n",
            "M094005_R94_5_24 fa<in~a maEa {loEusori yusorFA\r\r\n",
            "M094005_R94_5_25 fa<in~a maEa {loEusori yusorFA\r\r\n",
            "M094005_R94_5_26 fa<in~a maEa {loEusori yusorFA\r\r\n",
            "M094005_R94_5_27 fa<in~a maEa {loEusori yusorFA\r\r\n",
            "M094005_R94_5_28 fa<in~a maEa {loEusori yusorFA\r\r\n",
            "M094005_R94_5_29 fa<in~a maEa {loEusori yusorFA\r\r\n",
            "M094005_R94_5_30 fa<in~a maEa {loEusori yusorFA\r\r\n",
            "M094006_R94_6_01 <in~a maEa {loEusori yusorFA\r\r\n",
            "M094006_R94_6_02 <in~a maEa {loEusori yusorFA\r\r\n",
            "M094006_R94_6_03 <in~a maEa {loEusori yusorFA\r\r\n",
            "M094006_R94_6_04 <in~a maEa {loEusori yusorFA\r\r\n",
            "M094006_R94_6_05 <in~a maEa {loEusori yusorFA\r\r\n",
            "M094006_R94_6_06 <in~a maEa {loEusori yusorFA\r\r\n",
            "M094006_R94_6_07 <in~a maEa {loEusori yusorFA\r\r\n",
            "M094006_R94_6_08 <in~a maEa {loEusori yusorFA\r\r\n",
            "M094006_R94_6_09 <in~a maEa {loEusori yusorFA\r\r\n",
            "M094006_R94_6_10 <in~a maEa {loEusori yusorFA\r\r\n",
            "M094006_R94_6_11 <in~a maEa {loEusori yusorFA\r\r\n",
            "M094006_R94_6_12 <in~a maEa {loEusori yusorFA\r\r\n",
            "M094006_R94_6_13 <in~a maEa {loEusori yusorFA\r\r\n",
            "M094006_R94_6_14 <in~a maEa {loEusori yusorFA\r\r\n",
            "M094006_R94_6_15 <in~a maEa {loEusori yusorFA\r\r\n",
            "M094006_R94_6_16 <in~a maEa {loEusori yusorFA\r\r\n",
            "M094006_R94_6_17 <in~a maEa {loEusori yusorFA\r\r\n",
            "M094006_R94_6_18 <in~a maEa {loEusori yusorFA\r\r\n",
            "M094006_R94_6_19 <in~a maEa {loEusori yusorFA\r\r\n",
            "M094006_R94_6_20 <in~a maEa {loEusori yusorFA\r\r\n",
            "M094006_R94_6_21 <in~a maEa {loEusori yusorFA\r\r\n",
            "M094006_R94_6_23 <in~a maEa {loEusori yusorFA\r\r\n",
            "M094006_R94_6_24 <in~a maEa {loEusori yusorFA\r\r\n",
            "M094006_R94_6_25 <in~a maEa {loEusori yusorFA\r\r\n",
            "M094006_R94_6_26 <in~a maEa {loEusori yusorFA\r\r\n",
            "M094006_R94_6_27 <in~a maEa {loEusori yusorFA\r\r\n",
            "M094006_R94_6_28 <in~a maEa {loEusori yusorFA\r\r\n",
            "M094006_R94_6_29 <in~a maEa {loEusori yusorFA\r\r\n",
            "M094006_R94_6_30 <in~a maEa {loEusori yusorFA\r\r\n",
            "M094007_R94_7_01 fa<i*aA faragota fa{nSabo\r\r\n",
            "M094007_R94_7_02 fa<i*aA faragota fa{nSabo\r\r\n",
            "M094007_R94_7_03 fa<i*aA faragota fa{nSabo\r\r\n",
            "M094007_R94_7_04 fa<i*aA faragota fa{nSabo\r\r\n",
            "M094007_R94_7_05 fa<i*aA faragota fa{nSabo\r\r\n",
            "M094007_R94_7_06 fa<i*aA faragota fa{nSabo\r\r\n",
            "M094007_R94_7_07 fa<i*aA faragota fa{nSabo\r\r\n",
            "M094007_R94_7_08 fa<i*aA faragota fa{nSabo\r\r\n",
            "M094007_R94_7_09 fa<i*aA faragota fa{nSabo\r\r\n",
            "M094007_R94_7_10 fa<i*aA faragota fa{nSabo\r\r\n",
            "M094007_R94_7_11 fa<i*aA faragota fa{nSabo\r\r\n",
            "M094007_R94_7_12 fa<i*aA faragota fa{nSabo\r\r\n",
            "M094007_R94_7_13 fa<i*aA faragota fa{nSabo\r\r\n",
            "M094007_R94_7_14 fa<i*aA faragota fa{nSabo\r\r\n",
            "M094007_R94_7_15 fa<i*aA faragota fa{nSabo\r\r\n",
            "M094007_R94_7_16 fa<i*aA faragota fa{nSabo\r\r\n",
            "M094007_R94_7_17 fa<i*aA faragota fa{nSabo\r\r\n",
            "M094007_R94_7_18 fa<i*aA faragota fa{nSabo\r\r\n",
            "M094007_R94_7_19 fa<i*aA faragota fa{nSabo\r\r\n",
            "M094007_R94_7_20 fa<i*aA faragota fa{nSabo\r\r\n",
            "M094007_R94_7_21 fa<i*aA faragota fa{nSabo\r\r\n",
            "M094007_R94_7_22 fa<i*aA faragota fa{nSabo\r\r\n",
            "M094007_R94_7_23 fa<i*aA faragota fa{nSabo\r\r\n",
            "M094007_R94_7_25 fa<i*aA faragota fa{nSabo\r\r\n",
            "M094007_R94_7_27 fa<i*aA faragota fa{nSabo\r\r\n",
            "M094007_R94_7_28 fa<i*aA faragota fa{nSabo\r\r\n",
            "M094007_R94_7_29 fa<i*aA faragota fa{nSabo\r\r\n",
            "R94_7_07 fa<i*aA faragota fa{nSabo\r\n"
          ]
        }
      ]
    },
    {
      "cell_type": "code",
      "source": [
        "!awk '{print $1}' /content/speakers_train.txt"
      ],
      "metadata": {
        "colab": {
          "base_uri": "https://localhost:8080/"
        },
        "id": "nAjQ8O4GjiaA",
        "outputId": "f52bf701-4c59-4bcc-9a1f-e78ac844884a"
      },
      "execution_count": null,
      "outputs": [
        {
          "output_type": "stream",
          "name": "stdout",
          "text": [
            "M078001_R78_1_01\n",
            "M078001_R78_1_02\n",
            "M078001_R78_1_03\n",
            "M078001_R78_1_04\n",
            "M078001_R78_1_05\n",
            "M078001_R78_1_06\n",
            "M078001_R78_1_08\n",
            "M078001_R78_1_09\n",
            "M078001_R78_1_10\n",
            "M078001_R78_1_11\n",
            "M078001_R78_1_12\n",
            "M078001_R78_1_14\n",
            "M078001_R78_1_15\n",
            "M078001_R78_1_17\n",
            "M078001_R78_1_18\n",
            "M078001_R78_1_19\n",
            "M078001_R78_1_20\n",
            "M078001_R78_1_21\n",
            "M078001_R78_1_22\n",
            "M078001_R78_1_23\n",
            "M078001_R78_1_24\n",
            "M078001_R78_1_26\n",
            "M078001_R78_1_27\n",
            "M078001_R78_1_28\n",
            "M078002_R78_2_01\n",
            "M078002_R78_2_02\n",
            "M078002_R78_2_03\n",
            "M078002_R78_2_04\n",
            "M078002_R78_2_05\n",
            "M078002_R78_2_06\n",
            "M078002_R78_2_08\n",
            "M078002_R78_2_10\n",
            "M078002_R78_2_11\n",
            "M078002_R78_2_12\n",
            "M078002_R78_2_13\n",
            "M078002_R78_2_14\n",
            "M078002_R78_2_15\n",
            "M078002_R78_2_16\n",
            "M078002_R78_2_17\n",
            "M078002_R78_2_18\n",
            "M078002_R78_2_20\n",
            "M078002_R78_2_21\n",
            "M078002_R78_2_22\n",
            "M078002_R78_2_24\n",
            "M078002_R78_2_26\n",
            "M078002_R78_2_27\n",
            "M078002_R78_2_28\n",
            "M078002_R78_2_29\n",
            "M078003_R78_3_01\n",
            "M078003_R78_3_02\n",
            "M078003_R78_3_03\n",
            "M078003_R78_3_04\n",
            "M078003_R78_3_05\n",
            "M078003_R78_3_07\n",
            "M078003_R78_3_08\n",
            "M078003_R78_3_09\n",
            "M078003_R78_3_11\n",
            "M078003_R78_3_12\n",
            "M078003_R78_3_13\n",
            "M078003_R78_3_14\n",
            "M078003_R78_3_15\n",
            "M078003_R78_3_16\n",
            "M078003_R78_3_17\n",
            "M078003_R78_3_18\n",
            "M078003_R78_3_19\n",
            "M078003_R78_3_20\n",
            "M078003_R78_3_21\n",
            "M078003_R78_3_22\n",
            "M078003_R78_3_23\n",
            "M078003_R78_3_24\n",
            "M078003_R78_3_25\n",
            "M078003_R78_3_26\n",
            "M078003_R78_3_27\n",
            "M078003_R78_3_29\n",
            "M078003_R78_3_30\n",
            "M078004_R78_4_01\n",
            "M078004_R78_4_02\n",
            "M078004_R78_4_03\n",
            "M078004_R78_4_04\n",
            "M078004_R78_4_05\n",
            "M078004_R78_4_06\n",
            "M078004_R78_4_07\n",
            "M078004_R78_4_08\n",
            "M078004_R78_4_09\n",
            "M078004_R78_4_10\n",
            "M078004_R78_4_11\n",
            "M078004_R78_4_12\n",
            "M078004_R78_4_13\n",
            "M078004_R78_4_14\n",
            "M078004_R78_4_15\n",
            "M078004_R78_4_16\n",
            "M078004_R78_4_18\n",
            "M078004_R78_4_19\n",
            "M078004_R78_4_20\n",
            "M078004_R78_4_21\n",
            "M078004_R78_4_22\n",
            "M078004_R78_4_23\n",
            "M078004_R78_4_24\n",
            "M078004_R78_4_25\n",
            "M078004_R78_4_27\n",
            "M078004_R78_4_28\n",
            "M078004_R78_4_29\n",
            "M078004_R78_4_30\n",
            "M078005_R78_5_01\n",
            "M078005_R78_5_02\n",
            "M078005_R78_5_03\n",
            "M078005_R78_5_04\n",
            "M078005_R78_5_05\n",
            "M078005_R78_5_06\n",
            "M078005_R78_5_07\n",
            "M078005_R78_5_08\n",
            "M078005_R78_5_10\n",
            "M078005_R78_5_11\n",
            "M078005_R78_5_12\n",
            "M078005_R78_5_13\n",
            "M078005_R78_5_14\n",
            "M078005_R78_5_15\n",
            "M078005_R78_5_16\n",
            "M078005_R78_5_17\n",
            "M078005_R78_5_18\n",
            "M078005_R78_5_19\n",
            "M078005_R78_5_21\n",
            "M078005_R78_5_22\n",
            "M078005_R78_5_23\n",
            "M078005_R78_5_24\n",
            "M078005_R78_5_26\n",
            "M078005_R78_5_27\n",
            "M078005_R78_5_28\n",
            "M078005_R78_5_29\n",
            "M078005_R78_5_30\n",
            "M078006_R78_6_01\n",
            "M078006_R78_6_02\n",
            "M078006_R78_6_03\n",
            "M078006_R78_6_04\n",
            "M078006_R78_6_05\n",
            "M078006_R78_6_06\n",
            "M078006_R78_6_07\n",
            "M078006_R78_6_08\n",
            "M078006_R78_6_09\n",
            "M078006_R78_6_10\n",
            "M078006_R78_6_11\n",
            "M078006_R78_6_12\n",
            "M078006_R78_6_13\n",
            "M078006_R78_6_14\n",
            "M078006_R78_6_15\n",
            "M078006_R78_6_16\n",
            "M078006_R78_6_17\n",
            "M078006_R78_6_18\n",
            "M078006_R78_6_19\n",
            "M078006_R78_6_20\n",
            "M078006_R78_6_22\n",
            "M078006_R78_6_23\n",
            "M078006_R78_6_24\n",
            "M078006_R78_6_25\n",
            "M078006_R78_6_26\n",
            "M078006_R78_6_27\n",
            "M078006_R78_6_28\n",
            "M078006_R78_6_29\n",
            "M078006_R78_6_30\n",
            "M078007_R78_7_01\n",
            "M078007_R78_7_02\n",
            "M078007_R78_7_03\n",
            "M078007_R78_7_04\n",
            "M078007_R78_7_05\n",
            "M078007_R78_7_06\n",
            "M078007_R78_7_07\n",
            "M078007_R78_7_08\n",
            "M078007_R78_7_09\n",
            "M078007_R78_7_10\n",
            "M078007_R78_7_11\n",
            "M078007_R78_7_12\n",
            "M078007_R78_7_13\n",
            "M078007_R78_7_14\n",
            "M078007_R78_7_15\n",
            "M078007_R78_7_16\n",
            "M078007_R78_7_17\n",
            "M078007_R78_7_19\n",
            "M078007_R78_7_21\n",
            "M078007_R78_7_22\n",
            "M078007_R78_7_23\n",
            "M078007_R78_7_24\n",
            "M078007_R78_7_25\n",
            "M078007_R78_7_26\n",
            "M078007_R78_7_27\n",
            "M078007_R78_7_28\n",
            "M078007_R78_7_29\n",
            "M078007_R78_7_30\n",
            "M078008_R78_8_01\n",
            "M078008_R78_8_02\n",
            "M078008_R78_8_03\n",
            "M078008_R78_8_04\n",
            "M078008_R78_8_05\n",
            "M078008_R78_8_06\n",
            "M078008_R78_8_07\n",
            "M078008_R78_8_08\n",
            "M078008_R78_8_09\n",
            "M078008_R78_8_10\n",
            "M078008_R78_8_11\n",
            "M078008_R78_8_12\n",
            "M078008_R78_8_13\n",
            "M078008_R78_8_14\n",
            "M078008_R78_8_15\n",
            "M078008_R78_8_16\n",
            "M078008_R78_8_17\n",
            "M078008_R78_8_18\n",
            "M078008_R78_8_19\n",
            "M078008_R78_8_20\n",
            "M078008_R78_8_21\n",
            "M078008_R78_8_22\n",
            "M078008_R78_8_23\n",
            "M078008_R78_8_24\n",
            "M078008_R78_8_25\n",
            "M078008_R78_8_26\n",
            "M078008_R78_8_27\n",
            "M078008_R78_8_28\n",
            "M078008_R78_8_29\n",
            "M078008_R78_8_30\n",
            "M078009_R78_9_01\n",
            "M078009_R78_9_02\n",
            "M078009_R78_9_03\n",
            "M078009_R78_9_04\n",
            "M078009_R78_9_05\n",
            "M078009_R78_9_06\n",
            "M078009_R78_9_07\n",
            "M078009_R78_9_08\n",
            "M078009_R78_9_09\n",
            "M078009_R78_9_10\n",
            "M078009_R78_9_11\n",
            "M078009_R78_9_12\n",
            "M078009_R78_9_13\n",
            "M078009_R78_9_14\n",
            "M078009_R78_9_15\n",
            "M078009_R78_9_16\n",
            "M078009_R78_9_19\n",
            "M078009_R78_9_20\n",
            "M078009_R78_9_21\n",
            "M078009_R78_9_22\n",
            "M078009_R78_9_23\n",
            "M078009_R78_9_25\n",
            "M078009_R78_9_26\n",
            "M078009_R78_9_27\n",
            "M078009_R78_9_29\n",
            "M078009_R78_9_30\n",
            "M078010_R78_10_01\n",
            "M078010_R78_10_02\n",
            "M078010_R78_10_03\n",
            "M078010_R78_10_05\n",
            "M078010_R78_10_06\n",
            "M078010_R78_10_07\n",
            "M078010_R78_10_08\n",
            "M078010_R78_10_10\n",
            "M078010_R78_10_11\n",
            "M078010_R78_10_12\n",
            "M078010_R78_10_13\n",
            "M078010_R78_10_14\n",
            "M078010_R78_10_15\n",
            "M078010_R78_10_16\n",
            "M078010_R78_10_17\n",
            "M078010_R78_10_18\n",
            "M078010_R78_10_19\n",
            "M078010_R78_10_20\n",
            "M078010_R78_10_21\n",
            "M078010_R78_10_22\n",
            "M078010_R78_10_23\n",
            "M078010_R78_10_25\n",
            "M078010_R78_10_27\n",
            "M078010_R78_10_28\n",
            "M078010_R78_10_29\n",
            "M078010_R78_10_30\n",
            "M078011_R78_11_01\n",
            "M078011_R78_11_02\n",
            "M078011_R78_11_03\n",
            "M078011_R78_11_04\n",
            "M078011_R78_11_05\n",
            "M078011_R78_11_06\n",
            "M078011_R78_11_07\n",
            "M078011_R78_11_08\n",
            "M078011_R78_11_09\n",
            "M078011_R78_11_10\n",
            "M078011_R78_11_11\n",
            "M078011_R78_11_12\n",
            "M078011_R78_11_13\n",
            "M078011_R78_11_15\n",
            "M078011_R78_11_16\n",
            "M078011_R78_11_17\n",
            "M078011_R78_11_18\n",
            "M078011_R78_11_19\n",
            "M078011_R78_11_20\n",
            "M078011_R78_11_21\n",
            "M078011_R78_11_22\n",
            "M078011_R78_11_24\n",
            "M078011_R78_11_25\n",
            "M078011_R78_11_26\n",
            "M078011_R78_11_27\n",
            "M078011_R78_11_28\n",
            "M078012_R78_12_01\n",
            "M078012_R78_12_02\n",
            "M078012_R78_12_03\n",
            "M078012_R78_12_04\n",
            "M078012_R78_12_05\n",
            "M078012_R78_12_06\n",
            "M078012_R78_12_07\n",
            "M078012_R78_12_08\n",
            "M078012_R78_12_09\n",
            "M078012_R78_12_10\n",
            "M078012_R78_12_11\n",
            "M078012_R78_12_12\n",
            "M078012_R78_12_13\n",
            "M078012_R78_12_14\n",
            "M078012_R78_12_15\n",
            "M078012_R78_12_16\n",
            "M078012_R78_12_17\n",
            "M078012_R78_12_18\n",
            "M078012_R78_12_19\n",
            "M078012_R78_12_20\n",
            "M078012_R78_12_21\n",
            "M078012_R78_12_22\n",
            "M078012_R78_12_26\n",
            "M078012_R78_12_27\n",
            "M078012_R78_12_28\n",
            "M078013_R78_13_01\n",
            "M078013_R78_13_02\n",
            "M078013_R78_13_03\n",
            "M078013_R78_13_04\n",
            "M078013_R78_13_05\n",
            "M078013_R78_13_06\n",
            "M078013_R78_13_10\n",
            "M078013_R78_13_11\n",
            "M078013_R78_13_12\n",
            "M078013_R78_13_13\n",
            "M078013_R78_13_14\n",
            "M078013_R78_13_15\n",
            "M078013_R78_13_16\n",
            "M078013_R78_13_17\n",
            "M078013_R78_13_18\n",
            "M078013_R78_13_19\n",
            "M078013_R78_13_20\n",
            "M078013_R78_13_21\n",
            "M078013_R78_13_22\n",
            "M078013_R78_13_23\n",
            "M078013_R78_13_24\n",
            "M078013_R78_13_25\n",
            "M078013_R78_13_26\n",
            "M078013_R78_13_27\n",
            "M078013_R78_13_28\n",
            "M078013_R78_13_29\n",
            "M078013_R78_13_30\n",
            "M078014_R78_14_01\n",
            "M078014_R78_14_02\n",
            "M078014_R78_14_03\n",
            "M078014_R78_14_04\n",
            "M078014_R78_14_05\n",
            "M078014_R78_14_06\n",
            "M078014_R78_14_07\n",
            "M078014_R78_14_08\n",
            "M078014_R78_14_09\n",
            "M078014_R78_14_10\n",
            "M078014_R78_14_11\n",
            "M078014_R78_14_12\n",
            "M078014_R78_14_13\n",
            "M078014_R78_14_14\n",
            "M078014_R78_14_15\n",
            "M078014_R78_14_16\n",
            "M078014_R78_14_17\n",
            "M078014_R78_14_18\n",
            "M078014_R78_14_19\n",
            "M078014_R78_14_20\n",
            "M078014_R78_14_21\n",
            "M078014_R78_14_22\n",
            "M078014_R78_14_23\n",
            "M078014_R78_14_24\n",
            "M078014_R78_14_26\n",
            "M078014_R78_14_27\n",
            "M078014_R78_14_28\n",
            "M078014_R78_14_29\n",
            "M078014_R78_14_30\n",
            "M078015_R78_15_02\n",
            "M078015_R78_15_03\n",
            "M078015_R78_15_04\n",
            "M078015_R78_15_05\n",
            "M078015_R78_15_07\n",
            "M078015_R78_15_08\n",
            "M078015_R78_15_09\n",
            "M078015_R78_15_11\n",
            "M078015_R78_15_12\n",
            "M078015_R78_15_13\n",
            "M078015_R78_15_14\n",
            "M078015_R78_15_15\n",
            "M078015_R78_15_16\n",
            "M078015_R78_15_20\n",
            "M078015_R78_15_21\n",
            "M078015_R78_15_22\n",
            "M078015_R78_15_23\n",
            "M078015_R78_15_24\n",
            "M078015_R78_15_25\n",
            "M078015_R78_15_26\n",
            "M078015_R78_15_27\n",
            "M078015_R78_15_28\n",
            "M078015_R78_15_29\n",
            "M078015_R78_15_30\n",
            "M078016_R78_16_01\n",
            "M078016_R78_16_03\n",
            "M078016_R78_16_04\n",
            "M078016_R78_16_05\n",
            "M078016_R78_16_06\n",
            "M078016_R78_16_07\n",
            "M078016_R78_16_08\n",
            "M078016_R78_16_09\n",
            "M078016_R78_16_10\n",
            "M078016_R78_16_11\n",
            "M078016_R78_16_12\n",
            "M078016_R78_16_13\n",
            "M078016_R78_16_14\n",
            "M078016_R78_16_15\n",
            "M078016_R78_16_16\n",
            "M078016_R78_16_17\n",
            "M078016_R78_16_18\n",
            "M078016_R78_16_19\n",
            "M078016_R78_16_20\n",
            "M078016_R78_16_21\n",
            "M078016_R78_16_23\n",
            "M078016_R78_16_24\n",
            "M078016_R78_16_25\n",
            "M078016_R78_16_26\n",
            "M078016_R78_16_27\n",
            "M078016_R78_16_28\n",
            "M078016_R78_16_29\n",
            "M078016_R78_16_30\n",
            "M078017_R78_17_01\n",
            "M078017_R78_17_02\n",
            "M078017_R78_17_03\n",
            "M078017_R78_17_04\n",
            "M078017_R78_17_06\n",
            "M078017_R78_17_07\n",
            "M078017_R78_17_08\n",
            "M078017_R78_17_09\n",
            "M078017_R78_17_10\n",
            "M078017_R78_17_11\n",
            "M078017_R78_17_12\n",
            "M078017_R78_17_13\n",
            "M078017_R78_17_14\n",
            "M078017_R78_17_15\n",
            "M078017_R78_17_16\n",
            "M078017_R78_17_17\n",
            "M078017_R78_17_18\n",
            "M078017_R78_17_19\n",
            "M078017_R78_17_20\n",
            "M078017_R78_17_21\n",
            "M078017_R78_17_22\n",
            "M078017_R78_17_23\n",
            "M078017_R78_17_25\n",
            "M078017_R78_17_26\n",
            "M078017_R78_17_27\n",
            "M078017_R78_17_28\n",
            "M078017_R78_17_29\n",
            "M078017_R78_17_30\n",
            "M078018_R78_18_01\n",
            "M078018_R78_18_02\n",
            "M078018_R78_18_03\n",
            "M078018_R78_18_04\n",
            "M078018_R78_18_05\n",
            "M078018_R78_18_06\n",
            "M078018_R78_18_07\n",
            "M078018_R78_18_09\n",
            "M078018_R78_18_10\n",
            "M078018_R78_18_11\n",
            "M078018_R78_18_12\n",
            "M078018_R78_18_13\n",
            "M078018_R78_18_14\n",
            "M078018_R78_18_15\n",
            "M078018_R78_18_16\n",
            "M078018_R78_18_17\n",
            "M078018_R78_18_18\n",
            "M078018_R78_18_19\n",
            "M078018_R78_18_20\n",
            "M078018_R78_18_21\n",
            "M078018_R78_18_22\n",
            "M078018_R78_18_23\n",
            "M078018_R78_18_24\n",
            "M078018_R78_18_26\n",
            "M078018_R78_18_27\n",
            "M078018_R78_18_28\n",
            "M078018_R78_18_29\n",
            "M078018_R78_18_30\n",
            "M078019_R78_19_01\n",
            "M078019_R78_19_02\n",
            "M078019_R78_19_03\n",
            "M078019_R78_19_04\n",
            "M078019_R78_19_05\n",
            "M078019_R78_19_07\n",
            "M078019_R78_19_08\n",
            "M078019_R78_19_09\n",
            "M078019_R78_19_10\n",
            "M078019_R78_19_11\n",
            "M078019_R78_19_12\n",
            "M078019_R78_19_13\n",
            "M078019_R78_19_14\n",
            "M078019_R78_19_15\n",
            "M078019_R78_19_16\n",
            "M078019_R78_19_17\n",
            "M078019_R78_19_18\n",
            "M078019_R78_19_19\n",
            "M078019_R78_19_21\n",
            "M078019_R78_19_22\n",
            "M078019_R78_19_23\n",
            "M078019_R78_19_24\n",
            "M078019_R78_19_25\n",
            "M078019_R78_19_26\n",
            "M078019_R78_19_27\n",
            "M078019_R78_19_28\n",
            "M078019_R78_19_29\n",
            "M078020_R78_20_01\n",
            "M078020_R78_20_02\n",
            "M078020_R78_20_03\n",
            "M078020_R78_20_04\n",
            "M078020_R78_20_05\n",
            "M078020_R78_20_06\n",
            "M078020_R78_20_07\n",
            "M078020_R78_20_08\n",
            "M078020_R78_20_09\n",
            "M078020_R78_20_10\n",
            "M078020_R78_20_11\n",
            "M078020_R78_20_14\n",
            "M078020_R78_20_15\n",
            "M078020_R78_20_16\n",
            "M078020_R78_20_17\n",
            "M078020_R78_20_18\n",
            "M078020_R78_20_19\n",
            "M078020_R78_20_20\n",
            "M078020_R78_20_21\n",
            "M078020_R78_20_22\n",
            "M078020_R78_20_23\n",
            "M078020_R78_20_24\n",
            "M078020_R78_20_25\n",
            "M078020_R78_20_26\n",
            "M078020_R78_20_27\n",
            "M078020_R78_20_28\n",
            "M078020_R78_20_30\n",
            "M078021_R78_21_01\n",
            "M078021_R78_21_02\n",
            "M078021_R78_21_03\n",
            "M078021_R78_21_04\n",
            "M078021_R78_21_06\n",
            "M078021_R78_21_07\n",
            "M078021_R78_21_08\n",
            "M078021_R78_21_09\n",
            "M078021_R78_21_10\n",
            "M078021_R78_21_11\n",
            "M078021_R78_21_13\n",
            "M078021_R78_21_15\n",
            "M078021_R78_21_16\n",
            "M078021_R78_21_17\n",
            "M078021_R78_21_18\n",
            "M078021_R78_21_19\n",
            "M078021_R78_21_20\n",
            "M078021_R78_21_21\n",
            "M078021_R78_21_22\n",
            "M078021_R78_21_23\n",
            "M078021_R78_21_24\n",
            "M078021_R78_21_26\n",
            "M078021_R78_21_27\n",
            "M078021_R78_21_28\n",
            "M078021_R78_21_29\n",
            "M078021_R78_21_30\n",
            "M078022_R78_22_01\n",
            "M078022_R78_22_02\n",
            "M078022_R78_22_03\n",
            "M078022_R78_22_04\n",
            "M078022_R78_22_05\n",
            "M078022_R78_22_06\n",
            "M078022_R78_22_07\n",
            "M078022_R78_22_08\n",
            "M078022_R78_22_09\n",
            "M078022_R78_22_10\n",
            "M078022_R78_22_11\n",
            "M078022_R78_22_13\n",
            "M078022_R78_22_14\n",
            "M078022_R78_22_15\n",
            "M078022_R78_22_16\n",
            "M078022_R78_22_17\n",
            "M078022_R78_22_18\n",
            "M078022_R78_22_19\n",
            "M078022_R78_22_20\n",
            "M078022_R78_22_21\n",
            "M078022_R78_22_22\n",
            "M078022_R78_22_23\n",
            "M078022_R78_22_24\n",
            "M078022_R78_22_25\n",
            "M078022_R78_22_26\n",
            "M078022_R78_22_27\n",
            "M078022_R78_22_28\n",
            "M078022_R78_22_29\n",
            "M078022_R78_22_30\n",
            "M078023_R78_23_01\n",
            "M078023_R78_23_02\n",
            "M078023_R78_23_03\n",
            "M078023_R78_23_05\n",
            "M078023_R78_23_06\n",
            "M078023_R78_23_07\n",
            "M078023_R78_23_08\n",
            "M078023_R78_23_09\n",
            "M078023_R78_23_10\n",
            "M078023_R78_23_11\n",
            "M078023_R78_23_13\n",
            "M078023_R78_23_14\n",
            "M078023_R78_23_15\n",
            "M078023_R78_23_16\n",
            "M078023_R78_23_17\n",
            "M078023_R78_23_18\n",
            "M078023_R78_23_19\n",
            "M078023_R78_23_20\n",
            "M078023_R78_23_21\n",
            "M078023_R78_23_22\n",
            "M078023_R78_23_23\n",
            "M078023_R78_23_24\n",
            "M078023_R78_23_25\n",
            "M078023_R78_23_26\n",
            "M078023_R78_23_27\n",
            "M078023_R78_23_28\n",
            "M078023_R78_23_29\n",
            "M078023_R78_23_30\n",
            "M078024_R78_24_01\n",
            "M078024_R78_24_02\n",
            "M078024_R78_24_03\n",
            "M078024_R78_24_04\n",
            "M078024_R78_24_05\n",
            "M078024_R78_24_07\n",
            "M078024_R78_24_08\n",
            "M078024_R78_24_09\n",
            "M078024_R78_24_10\n",
            "M078024_R78_24_11\n",
            "M078024_R78_24_12\n",
            "M078024_R78_24_13\n",
            "M078024_R78_24_14\n",
            "M078024_R78_24_15\n",
            "M078024_R78_24_16\n",
            "M078024_R78_24_17\n",
            "M078024_R78_24_18\n",
            "M078024_R78_24_19\n",
            "M078024_R78_24_20\n",
            "M078024_R78_24_21\n",
            "M078024_R78_24_22\n",
            "M078024_R78_24_23\n",
            "M078024_R78_24_24\n",
            "M078024_R78_24_25\n",
            "M078024_R78_24_27\n",
            "M078024_R78_24_28\n",
            "M078024_R78_24_29\n",
            "M078024_R78_24_30\n",
            "M078025_R78_25_01\n",
            "M078025_R78_25_02\n",
            "M078025_R78_25_03\n",
            "M078025_R78_25_04\n",
            "M078025_R78_25_06\n",
            "M078025_R78_25_08\n",
            "M078025_R78_25_09\n",
            "M078025_R78_25_11\n",
            "M078025_R78_25_12\n",
            "M078025_R78_25_13\n",
            "M078025_R78_25_14\n",
            "M078025_R78_25_15\n",
            "M078025_R78_25_16\n",
            "M078025_R78_25_17\n",
            "M078025_R78_25_18\n",
            "M078025_R78_25_19\n",
            "M078025_R78_25_20\n",
            "M078025_R78_25_21\n",
            "M078025_R78_25_22\n",
            "M078025_R78_25_23\n",
            "M078025_R78_25_25\n",
            "M078025_R78_25_26\n",
            "M078025_R78_25_27\n",
            "M078025_R78_25_28\n",
            "M078025_R78_25_29\n",
            "M078026_R78_26_01\n",
            "M078026_R78_26_02\n",
            "M078026_R78_26_03\n",
            "M078026_R78_26_04\n",
            "M078026_R78_26_05\n",
            "M078026_R78_26_07\n",
            "M078026_R78_26_08\n",
            "M078026_R78_26_09\n",
            "M078026_R78_26_10\n",
            "M078026_R78_26_11\n",
            "M078026_R78_26_12\n",
            "M078026_R78_26_13\n",
            "M078026_R78_26_14\n",
            "M078026_R78_26_15\n",
            "M078026_R78_26_16\n",
            "M078026_R78_26_17\n",
            "M078026_R78_26_18\n",
            "M078026_R78_26_19\n",
            "M078026_R78_26_20\n",
            "M078026_R78_26_21\n",
            "M078026_R78_26_22\n",
            "M078026_R78_26_23\n",
            "M078026_R78_26_24\n",
            "M078026_R78_26_25\n",
            "M078026_R78_26_27\n",
            "M078026_R78_26_28\n",
            "M078026_R78_26_29\n",
            "M078026_R78_26_30\n",
            "M078027_R78_27_01\n",
            "M078027_R78_27_02\n",
            "M078027_R78_27_03\n",
            "M078027_R78_27_04\n",
            "M078027_R78_27_05\n",
            "M078027_R78_27_06\n",
            "M078027_R78_27_07\n",
            "M078027_R78_27_08\n",
            "M078027_R78_27_09\n",
            "M078027_R78_27_10\n",
            "M078027_R78_27_11\n",
            "M078027_R78_27_12\n",
            "M078027_R78_27_13\n",
            "M078027_R78_27_14\n",
            "M078027_R78_27_15\n",
            "M078027_R78_27_16\n",
            "M078027_R78_27_17\n",
            "M078027_R78_27_18\n",
            "M078027_R78_27_19\n",
            "M078027_R78_27_20\n",
            "M078027_R78_27_21\n",
            "M078027_R78_27_22\n",
            "M078027_R78_27_23\n",
            "M078027_R78_27_24\n",
            "M078027_R78_27_25\n",
            "M078027_R78_27_26\n",
            "M078027_R78_27_28\n",
            "M078027_R78_27_29\n",
            "M078027_R78_27_30\n",
            "M078028_R78_28_01\n",
            "M078028_R78_28_02\n",
            "M078028_R78_28_03\n",
            "M078028_R78_28_04\n",
            "M078028_R78_28_05\n",
            "M078028_R78_28_06\n",
            "M078028_R78_28_07\n",
            "M078028_R78_28_08\n",
            "M078028_R78_28_09\n",
            "M078028_R78_28_10\n",
            "M078028_R78_28_11\n",
            "M078028_R78_28_12\n",
            "M078028_R78_28_13\n",
            "M078028_R78_28_14\n",
            "M078028_R78_28_15\n",
            "M078028_R78_28_16\n",
            "M078028_R78_28_17\n",
            "M078028_R78_28_18\n",
            "M078028_R78_28_19\n",
            "M078028_R78_28_20\n",
            "M078028_R78_28_21\n",
            "M078028_R78_28_22\n",
            "M078028_R78_28_23\n",
            "M078028_R78_28_24\n",
            "M078028_R78_28_25\n",
            "M078028_R78_28_26\n",
            "M078028_R78_28_27\n",
            "M078028_R78_28_28\n",
            "M078028_R78_28_29\n",
            "M078028_R78_28_30\n",
            "M078029_R78_29_01\n",
            "M078029_R78_29_02\n",
            "M078029_R78_29_03\n",
            "M078029_R78_29_04\n",
            "M078029_R78_29_05\n",
            "M078029_R78_29_06\n",
            "M078029_R78_29_07\n",
            "M078029_R78_29_08\n",
            "M078029_R78_29_09\n",
            "M078029_R78_29_10\n",
            "M078029_R78_29_11\n",
            "M078029_R78_29_12\n",
            "M078029_R78_29_13\n",
            "M078029_R78_29_14\n",
            "M078029_R78_29_15\n",
            "M078029_R78_29_16\n",
            "M078029_R78_29_17\n",
            "M078029_R78_29_18\n",
            "M078029_R78_29_19\n",
            "M078029_R78_29_20\n",
            "M078029_R78_29_21\n",
            "M078029_R78_29_22\n",
            "M078029_R78_29_23\n",
            "M078029_R78_29_25\n",
            "M078029_R78_29_26\n",
            "M078029_R78_29_27\n",
            "M078029_R78_29_28\n",
            "M078029_R78_29_29\n",
            "M078030_R78_30_01\n",
            "M078030_R78_30_02\n",
            "M078030_R78_30_03\n",
            "M078030_R78_30_04\n",
            "M078030_R78_30_05\n",
            "M078030_R78_30_06\n",
            "M078030_R78_30_07\n",
            "M078030_R78_30_08\n",
            "M078030_R78_30_09\n",
            "M078030_R78_30_10\n",
            "M078030_R78_30_11\n",
            "M078030_R78_30_13\n",
            "M078030_R78_30_14\n",
            "M078030_R78_30_15\n",
            "M078030_R78_30_16\n",
            "M078030_R78_30_17\n",
            "M078030_R78_30_18\n",
            "M078030_R78_30_21\n",
            "M078030_R78_30_22\n",
            "M078030_R78_30_24\n",
            "M078030_R78_30_25\n",
            "M078030_R78_30_26\n",
            "M078030_R78_30_27\n",
            "M078030_R78_30_28\n",
            "M078030_R78_30_29\n",
            "M078030_R78_30_30\n",
            "M078031_R78_31_01\n",
            "M078031_R78_31_03\n",
            "M078031_R78_31_04\n",
            "M078031_R78_31_05\n",
            "M078031_R78_31_06\n",
            "M078031_R78_31_07\n",
            "M078031_R78_31_08\n",
            "M078031_R78_31_09\n",
            "M078031_R78_31_11\n",
            "M078031_R78_31_12\n",
            "M078031_R78_31_13\n",
            "M078031_R78_31_14\n",
            "M078031_R78_31_15\n",
            "M078031_R78_31_16\n",
            "M078031_R78_31_17\n",
            "M078031_R78_31_18\n",
            "M078031_R78_31_19\n",
            "M078031_R78_31_20\n",
            "M078031_R78_31_21\n",
            "M078031_R78_31_22\n",
            "M078031_R78_31_23\n",
            "M078031_R78_31_24\n",
            "M078031_R78_31_25\n",
            "M078031_R78_31_26\n",
            "M078031_R78_31_27\n",
            "M078031_R78_31_28\n",
            "M078031_R78_31_29\n",
            "M078031_R78_31_30\n",
            "M078032_R78_32_01\n",
            "M078032_R78_32_02\n",
            "M078032_R78_32_03\n",
            "M078032_R78_32_04\n",
            "M078032_R78_32_06\n",
            "M078032_R78_32_07\n",
            "M078032_R78_32_08\n",
            "M078032_R78_32_09\n",
            "M078032_R78_32_10\n",
            "M078032_R78_32_11\n",
            "M078032_R78_32_12\n",
            "M078032_R78_32_13\n",
            "M078032_R78_32_14\n",
            "M078032_R78_32_15\n",
            "M078032_R78_32_16\n",
            "M078032_R78_32_18\n",
            "M078032_R78_32_19\n",
            "M078032_R78_32_21\n",
            "M078032_R78_32_22\n",
            "M078032_R78_32_23\n",
            "M078032_R78_32_24\n",
            "M078032_R78_32_25\n",
            "M078032_R78_32_26\n",
            "M078032_R78_32_27\n",
            "M078032_R78_32_28\n",
            "M078032_R78_32_29\n",
            "M078032_R78_32_30\n",
            "M078033_R78_33_02\n",
            "M078033_R78_33_03\n",
            "M078033_R78_33_04\n",
            "M078033_R78_33_05\n",
            "M078033_R78_33_06\n",
            "M078033_R78_33_07\n",
            "M078033_R78_33_08\n",
            "M078033_R78_33_09\n",
            "M078033_R78_33_10\n",
            "M078033_R78_33_11\n",
            "M078033_R78_33_12\n",
            "M078033_R78_33_13\n",
            "M078033_R78_33_14\n",
            "M078033_R78_33_15\n",
            "M078033_R78_33_16\n",
            "M078033_R78_33_17\n",
            "M078033_R78_33_19\n",
            "M078033_R78_33_20\n",
            "M078033_R78_33_21\n",
            "M078033_R78_33_23\n",
            "M078033_R78_33_24\n",
            "M078033_R78_33_25\n",
            "M078033_R78_33_26\n",
            "M078033_R78_33_27\n",
            "M078033_R78_33_28\n",
            "M078033_R78_33_29\n",
            "M078033_R78_33_30\n",
            "M078034_R78_34_01\n",
            "M078034_R78_34_02\n",
            "M078034_R78_34_03\n",
            "M078034_R78_34_04\n",
            "M078034_R78_34_05\n",
            "M078034_R78_34_06\n",
            "M078034_R78_34_07\n",
            "M078034_R78_34_08\n",
            "M078034_R78_34_09\n",
            "M078034_R78_34_10\n",
            "M078034_R78_34_11\n",
            "M078034_R78_34_12\n",
            "M078034_R78_34_13\n",
            "M078034_R78_34_14\n",
            "M078034_R78_34_15\n",
            "M078034_R78_34_17\n",
            "M078034_R78_34_18\n",
            "M078034_R78_34_19\n",
            "M078034_R78_34_20\n",
            "M078034_R78_34_21\n",
            "M078034_R78_34_22\n",
            "M078034_R78_34_23\n",
            "M078034_R78_34_24\n",
            "M078034_R78_34_26\n",
            "M078034_R78_34_27\n",
            "M078034_R78_34_29\n",
            "M078034_R78_34_30\n",
            "M078035_R78_35_01\n",
            "M078035_R78_35_02\n",
            "M078035_R78_35_04\n",
            "M078035_R78_35_05\n",
            "M078035_R78_35_06\n",
            "M078035_R78_35_07\n",
            "M078035_R78_35_08\n",
            "M078035_R78_35_09\n",
            "M078035_R78_35_10\n",
            "M078035_R78_35_11\n",
            "M078035_R78_35_12\n",
            "M078035_R78_35_13\n",
            "M078035_R78_35_14\n",
            "M078035_R78_35_15\n",
            "M078035_R78_35_16\n",
            "M078035_R78_35_17\n",
            "M078035_R78_35_18\n",
            "M078035_R78_35_19\n",
            "M078035_R78_35_20\n",
            "M078035_R78_35_21\n",
            "M078035_R78_35_22\n",
            "M078035_R78_35_23\n",
            "M078035_R78_35_24\n",
            "M078035_R78_35_25\n",
            "M078035_R78_35_26\n",
            "M078035_R78_35_27\n",
            "M078035_R78_35_28\n",
            "M078035_R78_35_29\n",
            "M078035_R78_35_30\n",
            "M078036_R78_36_01\n",
            "M078036_R78_36_02\n",
            "M078036_R78_36_04\n",
            "M078036_R78_36_05\n",
            "M078036_R78_36_06\n",
            "M078036_R78_36_07\n",
            "M078036_R78_36_08\n",
            "M078036_R78_36_09\n",
            "M078036_R78_36_10\n",
            "M078036_R78_36_11\n",
            "M078036_R78_36_12\n",
            "M078036_R78_36_13\n",
            "M078036_R78_36_14\n",
            "M078036_R78_36_15\n",
            "M078036_R78_36_16\n",
            "M078036_R78_36_17\n",
            "M078036_R78_36_18\n",
            "M078036_R78_36_19\n",
            "M078036_R78_36_20\n",
            "M078036_R78_36_21\n",
            "M078036_R78_36_22\n",
            "M078036_R78_36_23\n",
            "M078036_R78_36_24\n",
            "M078036_R78_36_25\n",
            "M078036_R78_36_26\n",
            "M078036_R78_36_27\n",
            "M078036_R78_36_28\n",
            "M078036_R78_36_29\n",
            "M078036_R78_36_30\n",
            "M078037_R78_37_03\n",
            "M078037_R78_37_04\n",
            "M078037_R78_37_07\n",
            "M078037_R78_37_08\n",
            "M078037_R78_37_09\n",
            "M078037_R78_37_10\n",
            "M078037_R78_37_11\n",
            "M078037_R78_37_12\n",
            "M078037_R78_37_13\n",
            "M078037_R78_37_14\n",
            "M078037_R78_37_15\n",
            "M078037_R78_37_16\n",
            "M078037_R78_37_17\n",
            "M078037_R78_37_18\n",
            "M078037_R78_37_19\n",
            "M078037_R78_37_20\n",
            "M078037_R78_37_21\n",
            "M078037_R78_37_22\n",
            "M078037_R78_37_23\n",
            "M078037_R78_37_24\n",
            "M078037_R78_37_25\n",
            "M078037_R78_37_26\n",
            "M078037_R78_37_27\n",
            "M078037_R78_37_28\n",
            "M078037_R78_37_29\n",
            "M078037_R78_37_30\n",
            "M078038_R78_38_01\n",
            "M078038_R78_38_02\n",
            "M078038_R78_38_03\n",
            "M078038_R78_38_04\n",
            "M078038_R78_38_05\n",
            "M078038_R78_38_06\n",
            "M078038_R78_38_07\n",
            "M078038_R78_38_08\n",
            "M078038_R78_38_09\n",
            "M078038_R78_38_10\n",
            "M078038_R78_38_11\n",
            "M078038_R78_38_12\n",
            "M078038_R78_38_13\n",
            "M078038_R78_38_14\n",
            "M078038_R78_38_16\n",
            "M078038_R78_38_17\n",
            "M078038_R78_38_18\n",
            "M078038_R78_38_19\n",
            "M078038_R78_38_20\n",
            "M078038_R78_38_21\n",
            "M078038_R78_38_22\n",
            "M078038_R78_38_23\n",
            "M078038_R78_38_24\n",
            "M078038_R78_38_26\n",
            "M078038_R78_38_27\n",
            "M078038_R78_38_28\n",
            "M078038_R78_38_29\n",
            "M078038_R78_38_30\n",
            "M094001_R94_1_01\n",
            "M094001_R94_1_02\n",
            "M094001_R94_1_03\n",
            "M094001_R94_1_05\n",
            "M094001_R94_1_06\n",
            "M094001_R94_1_07\n",
            "M094001_R94_1_08\n",
            "M094001_R94_1_09\n",
            "M094001_R94_1_10\n",
            "M094001_R94_1_11\n",
            "M094001_R94_1_12\n",
            "M094001_R94_1_13\n",
            "M094001_R94_1_14\n",
            "M094001_R94_1_15\n",
            "M094001_R94_1_16\n",
            "M094001_R94_1_17\n",
            "M094001_R94_1_18\n",
            "M094001_R94_1_19\n",
            "M094001_R94_1_20\n",
            "M094001_R94_1_21\n",
            "M094001_R94_1_22\n",
            "M094001_R94_1_23\n",
            "M094001_R94_1_24\n",
            "M094001_R94_1_25\n",
            "M094001_R94_1_26\n",
            "M094001_R94_1_27\n",
            "M094001_R94_1_28\n",
            "M094001_R94_1_30\n",
            "M094002_R94_2_01\n",
            "M094002_R94_2_02\n",
            "M094002_R94_2_03\n",
            "M094002_R94_2_04\n",
            "M094002_R94_2_05\n",
            "M094002_R94_2_06\n",
            "M094002_R94_2_07\n",
            "M094002_R94_2_08\n",
            "M094002_R94_2_09\n",
            "M094002_R94_2_10\n",
            "M094002_R94_2_11\n",
            "M094002_R94_2_12\n",
            "M094002_R94_2_13\n",
            "M094002_R94_2_14\n",
            "M094002_R94_2_15\n",
            "M094002_R94_2_17\n",
            "M094002_R94_2_18\n",
            "M094002_R94_2_20\n",
            "M094002_R94_2_21\n",
            "M094002_R94_2_23\n",
            "M094002_R94_2_25\n",
            "M094002_R94_2_26\n",
            "M094002_R94_2_27\n",
            "M094002_R94_2_28\n",
            "M094002_R94_2_29\n",
            "M094002_R94_2_30\n",
            "M094003_R94_3_01\n",
            "M094003_R94_3_03\n",
            "M094003_R94_3_04\n",
            "M094003_R94_3_05\n",
            "M094003_R94_3_06\n",
            "M094003_R94_3_07\n",
            "M094003_R94_3_08\n",
            "M094003_R94_3_09\n",
            "M094003_R94_3_11\n",
            "M094003_R94_3_12\n",
            "M094003_R94_3_13\n",
            "M094003_R94_3_14\n",
            "M094003_R94_3_15\n",
            "M094003_R94_3_17\n",
            "M094003_R94_3_18\n",
            "M094003_R94_3_19\n",
            "M094003_R94_3_20\n",
            "M094003_R94_3_21\n",
            "M094003_R94_3_22\n",
            "M094003_R94_3_23\n",
            "M094003_R94_3_24\n",
            "M094003_R94_3_25\n",
            "M094003_R94_3_26\n",
            "M094003_R94_3_27\n",
            "M094003_R94_3_28\n",
            "M094003_R94_3_29\n",
            "M094003_R94_3_30\n",
            "M094004_R94_4_01\n",
            "M094004_R94_4_02\n",
            "M094004_R94_4_03\n",
            "M094004_R94_4_04\n",
            "M094004_R94_4_05\n",
            "M094004_R94_4_06\n",
            "M094004_R94_4_07\n",
            "M094004_R94_4_08\n",
            "M094004_R94_4_09\n",
            "M094004_R94_4_10\n",
            "M094004_R94_4_11\n",
            "M094004_R94_4_12\n",
            "M094004_R94_4_13\n",
            "M094004_R94_4_14\n",
            "M094004_R94_4_15\n",
            "M094004_R94_4_16\n",
            "M094004_R94_4_17\n",
            "M094004_R94_4_18\n",
            "M094004_R94_4_21\n",
            "M094004_R94_4_22\n",
            "M094004_R94_4_23\n",
            "M094004_R94_4_24\n",
            "M094004_R94_4_25\n",
            "M094004_R94_4_26\n",
            "M094004_R94_4_28\n",
            "M094004_R94_4_29\n",
            "M094004_R94_4_30\n",
            "M094005_R94_5_01\n",
            "M094005_R94_5_03\n",
            "M094005_R94_5_04\n",
            "M094005_R94_5_05\n",
            "M094005_R94_5_06\n",
            "M094005_R94_5_07\n",
            "M094005_R94_5_08\n",
            "M094005_R94_5_09\n",
            "M094005_R94_5_10\n",
            "M094005_R94_5_12\n",
            "M094005_R94_5_14\n",
            "M094005_R94_5_15\n",
            "M094005_R94_5_16\n",
            "M094005_R94_5_17\n",
            "M094005_R94_5_18\n",
            "M094005_R94_5_19\n",
            "M094005_R94_5_20\n",
            "M094005_R94_5_21\n",
            "M094005_R94_5_22\n",
            "M094005_R94_5_23\n",
            "M094005_R94_5_24\n",
            "M094005_R94_5_25\n",
            "M094005_R94_5_26\n",
            "M094005_R94_5_27\n",
            "M094005_R94_5_28\n",
            "M094005_R94_5_29\n",
            "M094005_R94_5_30\n",
            "M094006_R94_6_01\n",
            "M094006_R94_6_02\n",
            "M094006_R94_6_03\n",
            "M094006_R94_6_04\n",
            "M094006_R94_6_05\n",
            "M094006_R94_6_06\n",
            "M094006_R94_6_07\n",
            "M094006_R94_6_08\n",
            "M094006_R94_6_09\n",
            "M094006_R94_6_10\n",
            "M094006_R94_6_11\n",
            "M094006_R94_6_12\n",
            "M094006_R94_6_13\n",
            "M094006_R94_6_14\n",
            "M094006_R94_6_15\n",
            "M094006_R94_6_16\n",
            "M094006_R94_6_17\n",
            "M094006_R94_6_18\n",
            "M094006_R94_6_19\n",
            "M094006_R94_6_20\n",
            "M094006_R94_6_21\n",
            "M094006_R94_6_23\n",
            "M094006_R94_6_24\n",
            "M094006_R94_6_25\n",
            "M094006_R94_6_26\n",
            "M094006_R94_6_27\n",
            "M094006_R94_6_28\n",
            "M094006_R94_6_29\n",
            "M094006_R94_6_30\n",
            "M094007_R94_7_01\n",
            "M094007_R94_7_02\n",
            "M094007_R94_7_03\n",
            "M094007_R94_7_04\n",
            "M094007_R94_7_05\n",
            "M094007_R94_7_06\n",
            "M094007_R94_7_07\n",
            "M094007_R94_7_08\n",
            "M094007_R94_7_09\n",
            "M094007_R94_7_10\n",
            "M094007_R94_7_11\n",
            "M094007_R94_7_12\n",
            "M094007_R94_7_13\n",
            "M094007_R94_7_14\n",
            "M094007_R94_7_15\n",
            "M094007_R94_7_16\n",
            "M094007_R94_7_17\n",
            "M094007_R94_7_18\n",
            "M094007_R94_7_19\n",
            "M094007_R94_7_20\n",
            "M094007_R94_7_21\n",
            "M094007_R94_7_22\n",
            "M094007_R94_7_23\n",
            "M094007_R94_7_25\n",
            "M094007_R94_7_27\n",
            "M094007_R94_7_28\n",
            "M094007_R94_7_29\n",
            "R94_7_07\n"
          ]
        }
      ]
    },
    {
      "cell_type": "code",
      "source": [
        "!awk '/_R/ {print}' /content/speakers_train.txt"
      ],
      "metadata": {
        "colab": {
          "base_uri": "https://localhost:8080/"
        },
        "id": "hE12GzZqknWH",
        "outputId": "532a916c-f8f5-43e2-8f0d-ec0709133fa5"
      },
      "execution_count": null,
      "outputs": [
        {
          "output_type": "stream",
          "name": "stdout",
          "text": [
            "awk: line 1: syntax error at or near in\n"
          ]
        }
      ]
    },
    {
      "cell_type": "code",
      "source": [
        "!basename /content/speakers_train.txt"
      ],
      "metadata": {
        "colab": {
          "base_uri": "https://localhost:8080/"
        },
        "id": "azkh5i4fmdsF",
        "outputId": "fe8f9418-2c92-4f77-99f5-5590f6fd65ee"
      },
      "execution_count": null,
      "outputs": [
        {
          "output_type": "stream",
          "name": "stdout",
          "text": [
            "speakers_train.txt\n"
          ]
        }
      ]
    },
    {
      "cell_type": "code",
      "source": [
        "dir=\"/content\"\n",
        "while read -r f; do\n",
        "    echo \"$f\"\n",
        "done < <(find \"$dir\" -printf \"%k KB %p\\n\" | sort -nr)\n"
      ],
      "metadata": {
        "colab": {
          "base_uri": "https://localhost:8080/",
          "height": 142
        },
        "id": "asy1-lmUnxwS",
        "outputId": "5d96ce85-416a-40d3-db28-5774a2f71ee9"
      },
      "execution_count": null,
      "outputs": [
        {
          "output_type": "error",
          "ename": "SyntaxError",
          "evalue": "ignored",
          "traceback": [
            "\u001b[0;36m  File \u001b[0;32m\"<ipython-input-33-0843b776a9d3>\"\u001b[0;36m, line \u001b[0;32m2\u001b[0m\n\u001b[0;31m    while read -r f; do\u001b[0m\n\u001b[0m                  ^\u001b[0m\n\u001b[0;31mSyntaxError\u001b[0m\u001b[0;31m:\u001b[0m invalid syntax\n"
          ]
        }
      ]
    },
    {
      "cell_type": "code",
      "source": [
        "dir=\"/content\"\n",
        "while read -r f; do\n",
        "   echo f\n",
        "done < <(!find dir -printf \"%k KB %p\\n\" | sort -nr)"
      ],
      "metadata": {
        "colab": {
          "base_uri": "https://localhost:8080/",
          "height": 141
        },
        "id": "OERa6oNioLDy",
        "outputId": "09bb5012-796e-49da-a748-86503849fe9f"
      },
      "execution_count": null,
      "outputs": [
        {
          "output_type": "error",
          "ename": "SyntaxError",
          "evalue": "ignored",
          "traceback": [
            "\u001b[0;36m  File \u001b[0;32m\"<ipython-input-36-dbc65916a2b8>\"\u001b[0;36m, line \u001b[0;32m2\u001b[0m\n\u001b[0;31m    while read -r f; do\u001b[0m\n\u001b[0m                  ^\u001b[0m\n\u001b[0;31mSyntaxError\u001b[0m\u001b[0;31m:\u001b[0m invalid syntax\n"
          ]
        }
      ]
    },
    {
      "cell_type": "code",
      "source": [
        "\n",
        "!pip install -q install.kaldi"
      ],
      "metadata": {
        "colab": {
          "base_uri": "https://localhost:8080/"
        },
        "id": "KG9OrXEElpJj",
        "outputId": "f632902d-8e6e-4fc1-80ef-fff8e227132c"
      },
      "execution_count": null,
      "outputs": [
        {
          "output_type": "stream",
          "name": "stdout",
          "text": [
            "\u001b[31mERROR: Could not find a version that satisfies the requirement install.kaldi (from versions: none)\u001b[0m\u001b[31m\n",
            "\u001b[0m\u001b[31mERROR: No matching distribution found for install.kaldi\u001b[0m\u001b[31m\n",
            "\u001b[0m"
          ]
        }
      ]
    },
    {
      "cell_type": "code",
      "source": [
        "!pip install sox libtool"
      ],
      "metadata": {
        "colab": {
          "base_uri": "https://localhost:8080/"
        },
        "id": "xUY67IU86a6-",
        "outputId": "1bf40ef6-98f1-4d97-f5b2-2fa52dc4f05a"
      },
      "execution_count": null,
      "outputs": [
        {
          "output_type": "stream",
          "name": "stdout",
          "text": [
            "Collecting sox\n",
            "  Downloading sox-1.4.1-py2.py3-none-any.whl (39 kB)\n",
            "Collecting libtool\n",
            "  Downloading libtool-1.1.0-py3-none-any.whl (12 kB)\n",
            "Requirement already satisfied: numpy>=1.9.0 in /usr/local/lib/python3.10/dist-packages (from sox) (1.23.5)\n",
            "Collecting Markdown-Editor (from libtool)\n",
            "  Downloading Markdown-Editor-1.0.7.tar.gz (549 kB)\n",
            "\u001b[2K     \u001b[90m━━━━━━━━━━━━━━━━━━━━━━━━━━━━━━━━━━━━━━━━\u001b[0m \u001b[32m549.1/549.1 kB\u001b[0m \u001b[31m18.4 MB/s\u001b[0m eta \u001b[36m0:00:00\u001b[0m\n",
            "\u001b[?25h  Preparing metadata (setup.py) ... \u001b[?25l\u001b[?25hdone\n",
            "Requirement already satisfied: requests in /usr/local/lib/python3.10/dist-packages (from libtool) (2.31.0)\n",
            "Requirement already satisfied: setuptools in /usr/local/lib/python3.10/dist-packages (from libtool) (67.7.2)\n",
            "Requirement already satisfied: wheel in /usr/local/lib/python3.10/dist-packages (from libtool) (0.41.2)\n",
            "Collecting twine (from libtool)\n",
            "  Downloading twine-4.0.2-py3-none-any.whl (36 kB)\n",
            "Requirement already satisfied: Markdown in /usr/local/lib/python3.10/dist-packages (from Markdown-Editor->libtool) (3.5)\n",
            "Requirement already satisfied: Pygments in /usr/local/lib/python3.10/dist-packages (from Markdown-Editor->libtool) (2.16.1)\n",
            "Collecting bottle (from Markdown-Editor->libtool)\n",
            "  Downloading bottle-0.12.25-py3-none-any.whl (90 kB)\n",
            "\u001b[2K     \u001b[90m━━━━━━━━━━━━━━━━━━━━━━━━━━━━━━━━━━━━━━━━\u001b[0m \u001b[32m90.2/90.2 kB\u001b[0m \u001b[31m11.0 MB/s\u001b[0m eta \u001b[36m0:00:00\u001b[0m\n",
            "\u001b[?25hCollecting pymdown-extensions<8 (from Markdown-Editor->libtool)\n",
            "  Downloading pymdown_extensions-7.1-py2.py3-none-any.whl (205 kB)\n",
            "\u001b[2K     \u001b[90m━━━━━━━━━━━━━━━━━━━━━━━━━━━━━━━━━━━━━━━━\u001b[0m \u001b[32m205.1/205.1 kB\u001b[0m \u001b[31m19.0 MB/s\u001b[0m eta \u001b[36m0:00:00\u001b[0m\n",
            "\u001b[?25hRequirement already satisfied: charset-normalizer<4,>=2 in /usr/local/lib/python3.10/dist-packages (from requests->libtool) (3.3.0)\n",
            "Requirement already satisfied: idna<4,>=2.5 in /usr/local/lib/python3.10/dist-packages (from requests->libtool) (3.4)\n",
            "Requirement already satisfied: urllib3<3,>=1.21.1 in /usr/local/lib/python3.10/dist-packages (from requests->libtool) (2.0.6)\n",
            "Requirement already satisfied: certifi>=2017.4.17 in /usr/local/lib/python3.10/dist-packages (from requests->libtool) (2023.7.22)\n",
            "Collecting pkginfo>=1.8.1 (from twine->libtool)\n",
            "  Downloading pkginfo-1.9.6-py3-none-any.whl (30 kB)\n",
            "Collecting readme-renderer>=35.0 (from twine->libtool)\n",
            "  Downloading readme_renderer-42.0-py3-none-any.whl (13 kB)\n",
            "Collecting requests-toolbelt!=0.9.0,>=0.8.0 (from twine->libtool)\n",
            "  Downloading requests_toolbelt-1.0.0-py2.py3-none-any.whl (54 kB)\n",
            "\u001b[2K     \u001b[90m━━━━━━━━━━━━━━━━━━━━━━━━━━━━━━━━━━━━━━━━\u001b[0m \u001b[32m54.5/54.5 kB\u001b[0m \u001b[31m6.9 MB/s\u001b[0m eta \u001b[36m0:00:00\u001b[0m\n",
            "\u001b[?25hRequirement already satisfied: importlib-metadata>=3.6 in /usr/local/lib/python3.10/dist-packages (from twine->libtool) (6.8.0)\n",
            "Requirement already satisfied: keyring>=15.1 in /usr/lib/python3/dist-packages (from twine->libtool) (23.5.0)\n",
            "Collecting rfc3986>=1.4.0 (from twine->libtool)\n",
            "  Downloading rfc3986-2.0.0-py2.py3-none-any.whl (31 kB)\n",
            "Requirement already satisfied: rich>=12.0.0 in /usr/local/lib/python3.10/dist-packages (from twine->libtool) (13.6.0)\n",
            "Requirement already satisfied: zipp>=0.5 in /usr/local/lib/python3.10/dist-packages (from importlib-metadata>=3.6->twine->libtool) (3.17.0)\n",
            "Collecting nh3>=0.2.14 (from readme-renderer>=35.0->twine->libtool)\n",
            "  Downloading nh3-0.2.14-cp37-abi3-manylinux_2_17_x86_64.manylinux2014_x86_64.whl (1.7 MB)\n",
            "\u001b[2K     \u001b[90m━━━━━━━━━━━━━━━━━━━━━━━━━━━━━━━━━━━━━━━━\u001b[0m \u001b[32m1.7/1.7 MB\u001b[0m \u001b[31m63.8 MB/s\u001b[0m eta \u001b[36m0:00:00\u001b[0m\n",
            "\u001b[?25hRequirement already satisfied: docutils>=0.13.1 in /usr/local/lib/python3.10/dist-packages (from readme-renderer>=35.0->twine->libtool) (0.18.1)\n",
            "Requirement already satisfied: markdown-it-py>=2.2.0 in /usr/local/lib/python3.10/dist-packages (from rich>=12.0.0->twine->libtool) (3.0.0)\n",
            "Requirement already satisfied: mdurl~=0.1 in /usr/local/lib/python3.10/dist-packages (from markdown-it-py>=2.2.0->rich>=12.0.0->twine->libtool) (0.1.2)\n",
            "Building wheels for collected packages: Markdown-Editor\n",
            "  Building wheel for Markdown-Editor (setup.py) ... \u001b[?25l\u001b[?25hdone\n",
            "  Created wheel for Markdown-Editor: filename=Markdown_Editor-1.0.7-py2.py3-none-any.whl size=557757 sha256=ffc638a7d00274453e04cb3118459aa58736f3cc075eb5616aab2ec0daeff310\n",
            "  Stored in directory: /root/.cache/pip/wheels/37/9a/9e/bac45da273c99d25a8160519afcaec8ec888f84a80f0f42f09\n",
            "Successfully built Markdown-Editor\n",
            "Installing collected packages: nh3, bottle, sox, rfc3986, readme-renderer, pymdown-extensions, pkginfo, requests-toolbelt, Markdown-Editor, twine, libtool\n",
            "Successfully installed Markdown-Editor-1.0.7 bottle-0.12.25 libtool-1.1.0 nh3-0.2.14 pkginfo-1.9.6 pymdown-extensions-7.1 readme-renderer-42.0 requests-toolbelt-1.0.0 rfc3986-2.0.0 sox-1.4.1 twine-4.0.2\n"
          ]
        }
      ]
    },
    {
      "cell_type": "code",
      "source": [
        "!pip install subversion"
      ],
      "metadata": {
        "colab": {
          "base_uri": "https://localhost:8080/"
        },
        "id": "5-AVKRda66mP",
        "outputId": "9c7f0fa3-9b9d-4270-f0b1-bd0af1ccbfa9"
      },
      "execution_count": null,
      "outputs": [
        {
          "output_type": "stream",
          "name": "stdout",
          "text": [
            "\u001b[31mERROR: Could not find a version that satisfies the requirement subversion (from versions: none)\u001b[0m\u001b[31m\n",
            "\u001b[0m\u001b[31mERROR: No matching distribution found for subversion\u001b[0m\u001b[31m\n",
            "\u001b[0m"
          ]
        }
      ]
    },
    {
      "cell_type": "code",
      "source": [
        "!pip install kora -q kora install.kaldi"
      ],
      "metadata": {
        "colab": {
          "base_uri": "https://localhost:8080/"
        },
        "id": "qDyvWDzGl0f6",
        "outputId": "5ff798e5-d749-449c-e445-69a0057732a9"
      },
      "execution_count": null,
      "outputs": [
        {
          "output_type": "stream",
          "name": "stdout",
          "text": [
            "\u001b[31mERROR: Could not find a version that satisfies the requirement install.kaldi (from versions: none)\u001b[0m\u001b[31m\n",
            "\u001b[0m\u001b[31mERROR: No matching distribution found for install.kaldi\u001b[0m\u001b[31m\n",
            "\u001b[0m"
          ]
        }
      ]
    },
    {
      "cell_type": "code",
      "source": [
        "!find /content -name '*.txt' | while IFS= !read -r -d file; do\n",
        " !print file\n",
        "done"
      ],
      "metadata": {
        "colab": {
          "base_uri": "https://localhost:8080/",
          "height": 141
        },
        "id": "L9NgRMSeqLlE",
        "outputId": "4a4fb706-2ff7-4ba7-9db1-91cc3fb5bcdc"
      },
      "execution_count": null,
      "outputs": [
        {
          "output_type": "error",
          "ename": "IndentationError",
          "evalue": "ignored",
          "traceback": [
            "\u001b[0;36m  File \u001b[0;32m\"<ipython-input-48-60862c23d715>\"\u001b[0;36m, line \u001b[0;32m2\u001b[0m\n\u001b[0;31m    get_ipython().system('print file')\u001b[0m\n\u001b[0m    ^\u001b[0m\n\u001b[0;31mIndentationError\u001b[0m\u001b[0;31m:\u001b[0m unexpected indent\n"
          ]
        }
      ]
    },
    {
      "cell_type": "code",
      "source": [
        "for d in (!find . -mindepth 1 -maxdepth 1 -type l -or -type d);\n",
        "  echo !basename d;"
      ],
      "metadata": {
        "colab": {
          "base_uri": "https://localhost:8080/",
          "height": 142
        },
        "id": "L1I6L0DnKzGR",
        "outputId": "b6866184-c536-4898-cf69-86f3a4e115fe"
      },
      "execution_count": null,
      "outputs": [
        {
          "output_type": "error",
          "ename": "SyntaxError",
          "evalue": "ignored",
          "traceback": [
            "\u001b[0;36m  File \u001b[0;32m\"<ipython-input-1-a98e117547e1>\"\u001b[0;36m, line \u001b[0;32m1\u001b[0m\n\u001b[0;31m    for d in (!find . -mindepth 1 -maxdepth 1 -type l -or -type d);\u001b[0m\n\u001b[0m              ^\u001b[0m\n\u001b[0;31mSyntaxError\u001b[0m\u001b[0;31m:\u001b[0m invalid syntax\n"
          ]
        }
      ]
    },
    {
      "cell_type": "code",
      "source": [
        "for d in !find . -mindepth 1 -maxdepth 1 -type l -or -type d;\n",
        "  echo !basename d;"
      ],
      "metadata": {
        "colab": {
          "base_uri": "https://localhost:8080/",
          "height": 142
        },
        "id": "atJe1xLBLp0D",
        "outputId": "33984ec4-a81b-43ef-d9af-d5af67293c5f"
      },
      "execution_count": null,
      "outputs": [
        {
          "output_type": "error",
          "ename": "SyntaxError",
          "evalue": "ignored",
          "traceback": [
            "\u001b[0;36m  File \u001b[0;32m\"<ipython-input-2-02bf309de71e>\"\u001b[0;36m, line \u001b[0;32m1\u001b[0m\n\u001b[0;31m    for d in !find . -mindepth 1 -maxdepth 1 -type l -or -type d;\u001b[0m\n\u001b[0m             ^\u001b[0m\n\u001b[0;31mSyntaxError\u001b[0m\u001b[0;31m:\u001b[0m invalid syntax\n"
          ]
        }
      ]
    },
    {
      "cell_type": "code",
      "source": [
        "!find . -mindepth 1 -maxdepth 1 -type l -or -type d | !basename"
      ],
      "metadata": {
        "colab": {
          "base_uri": "https://localhost:8080/"
        },
        "id": "OyuZSQDmMtmr",
        "outputId": "1ea37859-599f-4877-84a7-6c0af8b87b36"
      },
      "execution_count": null,
      "outputs": [
        {
          "output_type": "stream",
          "name": "stdout",
          "text": [
            "/bin/bash: line 1: !basename: command not found\n"
          ]
        }
      ]
    },
    {
      "cell_type": "code",
      "source": [
        "!find . -mindepth 1 -maxdepth 1 -type l -or -type d |"
      ],
      "metadata": {
        "colab": {
          "base_uri": "https://localhost:8080/"
        },
        "id": "EslXhJ1pNEGa",
        "outputId": "7468e333-4bc5-4778-ab32-93d0b2caf519"
      },
      "execution_count": null,
      "outputs": [
        {
          "output_type": "stream",
          "name": "stdout",
          "text": [
            "/bin/bash: line 1: xyz: command not found\n"
          ]
        }
      ]
    },
    {
      "cell_type": "code",
      "source": [
        "!awk 'BEGIN {FS=\"-\"} NR==FNR{arr[$1]; next;} ($1 in arr)' \\\n",
        "  /content/speakers_train.txt | sort > /content/dir_train.txt"
      ],
      "metadata": {
        "id": "9NqP0MKOOqlR"
      },
      "execution_count": null,
      "outputs": []
    },
    {
      "cell_type": "code",
      "source": [
        "!head /content/dir_train.txt"
      ],
      "metadata": {
        "id": "_wmx0IemPZ5T"
      },
      "execution_count": null,
      "outputs": []
    },
    {
      "cell_type": "code",
      "source": [
        "!pip install kora -q"
      ],
      "metadata": {
        "colab": {
          "base_uri": "https://localhost:8080/"
        },
        "id": "nx1CM3gbyWEN",
        "outputId": "7d534dd0-0366-4132-ceab-f0d64a89416b"
      },
      "execution_count": null,
      "outputs": [
        {
          "output_type": "stream",
          "name": "stdout",
          "text": [
            "\u001b[?25l     \u001b[90m━━━━━━━━━━━━━━━━━━━━━━━━━━━━━━━━━━━━━━━━\u001b[0m \u001b[32m0.0/57.7 kB\u001b[0m \u001b[31m?\u001b[0m eta \u001b[36m-:--:--\u001b[0m\r\u001b[2K     \u001b[90m━━━━━━━━━━━━━━━━━━━━━━━━━━━━━━━━━━━━━━━━\u001b[0m \u001b[32m57.7/57.7 kB\u001b[0m \u001b[31m1.8 MB/s\u001b[0m eta \u001b[36m0:00:00\u001b[0m\n",
            "\u001b[?25h\u001b[?25l     \u001b[90m━━━━━━━━━━━━━━━━━━━━━━━━━━━━━━━━━━━━━━━━\u001b[0m \u001b[32m0.0/1.6 MB\u001b[0m \u001b[31m?\u001b[0m eta \u001b[36m-:--:--\u001b[0m\r\u001b[2K     \u001b[91m━━━━━━━━━━━━━━━━━━━━━━━━━━━━━━━━━━━━━━━\u001b[0m\u001b[91m╸\u001b[0m \u001b[32m1.6/1.6 MB\u001b[0m \u001b[31m50.8 MB/s\u001b[0m eta \u001b[36m0:00:01\u001b[0m\r\u001b[2K     \u001b[90m━━━━━━━━━━━━━━━━━━━━━━━━━━━━━━━━━━━━━━━━\u001b[0m \u001b[32m1.6/1.6 MB\u001b[0m \u001b[31m30.7 MB/s\u001b[0m eta \u001b[36m0:00:00\u001b[0m\n",
            "\u001b[?25h"
          ]
        }
      ]
    },
    {
      "cell_type": "code",
      "source": [
        "import kora.install.kaldi"
      ],
      "metadata": {
        "id": "YQvUHqTeygDe"
      },
      "execution_count": null,
      "outputs": []
    },
    {
      "cell_type": "code",
      "source": [
        "!ls /opt/kaldi"
      ],
      "metadata": {
        "colab": {
          "base_uri": "https://localhost:8080/"
        },
        "id": "Cjq8fcb4yy-P",
        "outputId": "8ecae622-7429-42db-f924-ec5da114944b"
      },
      "execution_count": null,
      "outputs": [
        {
          "output_type": "stream",
          "name": "stdout",
          "text": [
            "cmake  CMakeLists.txt  COPYING\tdocker\tegs  INSTALL  misc  README.md  scripts\tsrc  tools  windows\n"
          ]
        }
      ]
    },
    {
      "cell_type": "code",
      "source": [
        "!cd /opt/kaldi/tools"
      ],
      "metadata": {
        "id": "YfL53--xz9Ed"
      },
      "execution_count": null,
      "outputs": []
    },
    {
      "cell_type": "code",
      "source": [
        "extras/check_dependencies.sh"
      ],
      "metadata": {
        "colab": {
          "base_uri": "https://localhost:8080/",
          "height": 211
        },
        "id": "CMT79LeB0U3z",
        "outputId": "07765c6f-e28d-4fb2-c354-60d0298ebcdd"
      },
      "execution_count": null,
      "outputs": [
        {
          "output_type": "error",
          "ename": "NameError",
          "evalue": "ignored",
          "traceback": [
            "\u001b[0;31m---------------------------------------------------------------------------\u001b[0m",
            "\u001b[0;31mNameError\u001b[0m                                 Traceback (most recent call last)",
            "\u001b[0;32m<ipython-input-5-ae0366c9e634>\u001b[0m in \u001b[0;36m<cell line: 1>\u001b[0;34m()\u001b[0m\n\u001b[0;32m----> 1\u001b[0;31m \u001b[0mextras\u001b[0m\u001b[0;34m/\u001b[0m\u001b[0mcheck_dependencies\u001b[0m\u001b[0;34m.\u001b[0m\u001b[0msh\u001b[0m\u001b[0;34m\u001b[0m\u001b[0;34m\u001b[0m\u001b[0m\n\u001b[0m",
            "\u001b[0;31mNameError\u001b[0m: name 'extras' is not defined"
          ]
        }
      ]
    },
    {
      "cell_type": "code",
      "source": [
        "!pwd"
      ],
      "metadata": {
        "colab": {
          "base_uri": "https://localhost:8080/"
        },
        "id": "k3i3AFaz0Zo9",
        "outputId": "efbe18a2-5142-460e-a1d9-55b285f2bb2a"
      },
      "execution_count": null,
      "outputs": [
        {
          "output_type": "stream",
          "name": "stdout",
          "text": [
            "/opt/kaldi/tools\n"
          ]
        }
      ]
    },
    {
      "cell_type": "code",
      "source": [
        "!make"
      ],
      "metadata": {
        "colab": {
          "base_uri": "https://localhost:8080/"
        },
        "id": "gBQ0ZQb-3ZrX",
        "outputId": "27caa2cd-3bba-4aa2-cb7e-7b90c2530df5"
      },
      "execution_count": null,
      "outputs": [
        {
          "output_type": "stream",
          "name": "stdout",
          "text": [
            "extras/check_dependencies.sh\n",
            "extras/check_dependencies.sh: sox is not installed.\n",
            "extras/check_dependencies.sh: neither libtoolize nor glibtoolize is installed\n",
            "extras/check_dependencies.sh: subversion is not installed\n",
            "extras/check_dependencies.sh: python2.7 is not installed\n",
            "extras/check_dependencies.sh: Intel MKL is not installed. Run extras/install_mkl.sh to install it.\n",
            " ... You can also use other matrix algebra libraries. For information, see:\n",
            " ...   http://kaldi-asr.org/doc/matrixwrap.html\n",
            "extras/check_dependencies.sh: Some prerequisites are missing; install them using the command:\n",
            "  sudo apt-get install sox libtool subversion python2.7\n",
            "make: *** [Makefile:38: check_required_programs] Error 1\n"
          ]
        }
      ]
    },
    {
      "cell_type": "code",
      "source": [
        "!make CXX="
      ],
      "metadata": {
        "id": "hjtYONVl44-E",
        "outputId": "c0d40fcf-ebdf-4a58-ae6d-6bca7e00f2eb",
        "colab": {
          "base_uri": "https://localhost:8080/"
        }
      },
      "execution_count": null,
      "outputs": [
        {
          "output_type": "stream",
          "name": "stdout",
          "text": [
            "extras/check_dependencies.sh\n",
            "extras/check_dependencies.sh: Compiler 'g++-4.8' is not installed.\n",
            "extras/check_dependencies.sh: You need g++ >= 4.8.3, Apple Xcode >= 5.0 or clang >= 3.3.\n",
            "extras/check_dependencies.sh: sox is not installed.\n",
            "extras/check_dependencies.sh: neither libtoolize nor glibtoolize is installed\n",
            "extras/check_dependencies.sh: subversion is not installed\n",
            "extras/check_dependencies.sh: python2.7 is not installed\n",
            "extras/check_dependencies.sh: Intel MKL is not installed. Run extras/install_mkl.sh to install it.\n",
            " ... You can also use other matrix algebra libraries. For information, see:\n",
            " ...   http://kaldi-asr.org/doc/matrixwrap.html\n",
            "extras/check_dependencies.sh: Some prerequisites are missing; install them using the command:\n",
            "  sudo apt-get install g++ sox libtool subversion python2.7\n",
            "make: *** [Makefile:38: check_required_programs] Error 1\n"
          ]
        }
      ]
    },
    {
      "cell_type": "code",
      "source": [
        "!pip install g++-4.8"
      ],
      "metadata": {
        "colab": {
          "base_uri": "https://localhost:8080/"
        },
        "id": "PTv6VSPe7r-6",
        "outputId": "0f274983-a28c-4dfc-b2e6-c8837543d89a"
      },
      "execution_count": null,
      "outputs": [
        {
          "output_type": "stream",
          "name": "stdout",
          "text": [
            "\u001b[31mERROR: Invalid requirement: 'g++-4.8'\u001b[0m\u001b[31m\n",
            "\u001b[0m"
          ]
        }
      ]
    },
    {
      "cell_type": "code",
      "source": [
        "!pip install gcc"
      ],
      "metadata": {
        "colab": {
          "base_uri": "https://localhost:8080/"
        },
        "id": "pBt7ZrtQ8sIR",
        "outputId": "e3bc13bd-1269-4f4b-859e-9300264377e3"
      },
      "execution_count": null,
      "outputs": [
        {
          "output_type": "stream",
          "name": "stdout",
          "text": [
            "\u001b[31mERROR: Could not find a version that satisfies the requirement gcc (from versions: none)\u001b[0m\u001b[31m\n",
            "\u001b[0m\u001b[31mERROR: No matching distribution found for gcc\u001b[0m\u001b[31m\n",
            "\u001b[0m"
          ]
        }
      ]
    },
    {
      "cell_type": "code",
      "source": [
        "!pip install build-essential"
      ],
      "metadata": {
        "colab": {
          "base_uri": "https://localhost:8080/"
        },
        "id": "SRSQ86BR9N-Q",
        "outputId": "023b13d2-2a21-4e4c-f312-155c960bf397"
      },
      "execution_count": null,
      "outputs": [
        {
          "output_type": "stream",
          "name": "stdout",
          "text": [
            "\u001b[31mERROR: Could not find a version that satisfies the requirement build-essential (from versions: none)\u001b[0m\u001b[31m\n",
            "\u001b[0m\u001b[31mERROR: No matching distribution found for build-essential\u001b[0m\u001b[31m\n",
            "\u001b[0m"
          ]
        }
      ]
    },
    {
      "cell_type": "code",
      "source": [
        "!gcc --version"
      ],
      "metadata": {
        "colab": {
          "base_uri": "https://localhost:8080/"
        },
        "id": "tHTcLz4L9m6x",
        "outputId": "cefd9294-ee39-42db-e86b-a9bcfe69f1fa"
      },
      "execution_count": null,
      "outputs": [
        {
          "output_type": "stream",
          "name": "stdout",
          "text": [
            "gcc (Ubuntu 11.4.0-1ubuntu1~22.04) 11.4.0\n",
            "Copyright (C) 2021 Free Software Foundation, Inc.\n",
            "This is free software; see the source for copying conditions.  There is NO\n",
            "warranty; not even for MERCHANTABILITY or FITNESS FOR A PARTICULAR PURPOSE.\n",
            "\n"
          ]
        }
      ]
    },
    {
      "cell_type": "code",
      "source": [
        "!pip install clang"
      ],
      "metadata": {
        "colab": {
          "base_uri": "https://localhost:8080/"
        },
        "id": "16kKP-IB7ZNS",
        "outputId": "10f85ea1-b291-4596-8c74-f046f73e0e58"
      },
      "execution_count": null,
      "outputs": [
        {
          "output_type": "stream",
          "name": "stdout",
          "text": [
            "Collecting clang\n",
            "  Downloading clang-16.0.1.1-py3-none-any.whl (31 kB)\n",
            "Installing collected packages: clang\n",
            "Successfully installed clang-16.0.1.1\n"
          ]
        }
      ]
    },
    {
      "cell_type": "code",
      "source": [
        "cd"
      ],
      "metadata": {
        "id": "GkCIosLh2N1z"
      },
      "execution_count": null,
      "outputs": []
    },
    {
      "cell_type": "code",
      "source": [
        "%cd /opt/kaldi/tools"
      ],
      "metadata": {
        "colab": {
          "base_uri": "https://localhost:8080/"
        },
        "id": "yF3ZidEP2Rl2",
        "outputId": "060c3ad3-2079-4c60-c868-414ed99078dd"
      },
      "execution_count": null,
      "outputs": [
        {
          "output_type": "stream",
          "name": "stdout",
          "text": [
            "/opt/kaldi/tools\n"
          ]
        }
      ]
    },
    {
      "cell_type": "code",
      "source": [
        "extras/check_dependencies.sh"
      ],
      "metadata": {
        "colab": {
          "base_uri": "https://localhost:8080/",
          "height": 211
        },
        "id": "RgH4E-ry2b5T",
        "outputId": "609d8a56-78da-4b4e-fc7d-80972a1769d7"
      },
      "execution_count": null,
      "outputs": [
        {
          "output_type": "error",
          "ename": "NameError",
          "evalue": "ignored",
          "traceback": [
            "\u001b[0;31m---------------------------------------------------------------------------\u001b[0m",
            "\u001b[0;31mNameError\u001b[0m                                 Traceback (most recent call last)",
            "\u001b[0;32m<ipython-input-16-ae0366c9e634>\u001b[0m in \u001b[0;36m<cell line: 1>\u001b[0;34m()\u001b[0m\n\u001b[0;32m----> 1\u001b[0;31m \u001b[0mextras\u001b[0m\u001b[0;34m/\u001b[0m\u001b[0mcheck_dependencies\u001b[0m\u001b[0;34m.\u001b[0m\u001b[0msh\u001b[0m\u001b[0;34m\u001b[0m\u001b[0;34m\u001b[0m\u001b[0m\n\u001b[0m",
            "\u001b[0;31mNameError\u001b[0m: name 'extras' is not defined"
          ]
        }
      ]
    },
    {
      "cell_type": "code",
      "source": [
        "!gcc extras/check_dependencies.sh"
      ],
      "metadata": {
        "colab": {
          "base_uri": "https://localhost:8080/"
        },
        "id": "jC3Y_MDZ3Duk",
        "outputId": "052ff598-92e5-4154-a927-6d488efb2e02"
      },
      "execution_count": null,
      "outputs": [
        {
          "output_type": "stream",
          "name": "stdout",
          "text": [
            "/usr/bin/ld:extras/check_dependencies.sh: file format not recognized; treating as linker script\n",
            "/usr/bin/ld:extras/check_dependencies.sh:3: syntax error\n",
            "collect2: error: ld returned 1 exit status\n"
          ]
        }
      ]
    },
    {
      "cell_type": "code",
      "source": [
        "!pip install g"
      ],
      "metadata": {
        "colab": {
          "base_uri": "https://localhost:8080/"
        },
        "id": "LRrw8qdT-qq3",
        "outputId": "88a29d1e-9313-4775-cd78-15da50e24f4c"
      },
      "execution_count": null,
      "outputs": [
        {
          "output_type": "stream",
          "name": "stdout",
          "text": [
            "Collecting g\n",
            "  Downloading g-0.0.2-py3-none-any.whl (4.2 kB)\n",
            "Installing collected packages: g\n",
            "Successfully installed g-0.0.2\n"
          ]
        }
      ]
    },
    {
      "cell_type": "code",
      "source": [
        "check_dependencies.sh"
      ],
      "metadata": {
        "colab": {
          "base_uri": "https://localhost:8080/",
          "height": 211
        },
        "id": "KZW86DYj1vHh",
        "outputId": "a2589af4-a3f3-4cc3-fd1a-692b15ef2fad"
      },
      "execution_count": null,
      "outputs": [
        {
          "output_type": "error",
          "ename": "NameError",
          "evalue": "ignored",
          "traceback": [
            "\u001b[0;31m---------------------------------------------------------------------------\u001b[0m",
            "\u001b[0;31mNameError\u001b[0m                                 Traceback (most recent call last)",
            "\u001b[0;32m<ipython-input-13-91deab616ec4>\u001b[0m in \u001b[0;36m<cell line: 1>\u001b[0;34m()\u001b[0m\n\u001b[0;32m----> 1\u001b[0;31m \u001b[0mcheck_dependencies\u001b[0m\u001b[0;34m.\u001b[0m\u001b[0msh\u001b[0m\u001b[0;34m\u001b[0m\u001b[0;34m\u001b[0m\u001b[0m\n\u001b[0m",
            "\u001b[0;31mNameError\u001b[0m: name 'check_dependencies' is not defined"
          ]
        }
      ]
    },
    {
      "cell_type": "code",
      "source": [
        "%cd /opt/kaldi/tools/extras"
      ],
      "metadata": {
        "colab": {
          "base_uri": "https://localhost:8080/"
        },
        "id": "AvdynZS11j7F",
        "outputId": "fc585921-576f-478e-d614-a7e3302d5e05"
      },
      "execution_count": null,
      "outputs": [
        {
          "output_type": "stream",
          "name": "stdout",
          "text": [
            "/opt/kaldi/tools/extras\n"
          ]
        }
      ]
    },
    {
      "cell_type": "code",
      "source": [
        "/opt/kaldi/tools/extras/check_dependencies.sh"
      ],
      "metadata": {
        "colab": {
          "base_uri": "https://localhost:8080/",
          "height": 211
        },
        "id": "0OmBA0Gi1AK_",
        "outputId": "ece38be9-ca21-49f9-d0d9-fe5d4e9575bd"
      },
      "execution_count": null,
      "outputs": [
        {
          "output_type": "error",
          "ename": "NameError",
          "evalue": "ignored",
          "traceback": [
            "\u001b[0;31m---------------------------------------------------------------------------\u001b[0m",
            "\u001b[0;31mNameError\u001b[0m                                 Traceback (most recent call last)",
            "\u001b[0;32m<ipython-input-8-1028b8b952fe>\u001b[0m in \u001b[0;36m<cell line: 1>\u001b[0;34m()\u001b[0m\n\u001b[0;32m----> 1\u001b[0;31m \u001b[0mopt\u001b[0m\u001b[0;34m/\u001b[0m\u001b[0mkaldi\u001b[0m\u001b[0;34m/\u001b[0m\u001b[0mtools\u001b[0m\u001b[0;34m/\u001b[0m\u001b[0mextras\u001b[0m\u001b[0;34m/\u001b[0m\u001b[0mcheck_dependencies\u001b[0m\u001b[0;34m.\u001b[0m\u001b[0msh\u001b[0m\u001b[0;34m(\u001b[0m\u001b[0;34m)\u001b[0m\u001b[0;34m\u001b[0m\u001b[0;34m\u001b[0m\u001b[0m\n\u001b[0m",
            "\u001b[0;31mNameError\u001b[0m: name 'opt' is not defined"
          ]
        }
      ]
    },
    {
      "cell_type": "code",
      "source": [
        "!cd /opt/kaldi/tools/extras"
      ],
      "metadata": {
        "id": "mmyrxg0O1WRT"
      },
      "execution_count": null,
      "outputs": []
    },
    {
      "cell_type": "code",
      "source": [
        "!awk 'BEGIN {FS=\"-\"} NR==FNR{arr[$1]; next;} ($1 in arr)' \\\n",
        "  /content/speakers_train.txt - | sort > /content/dir_train.txt"
      ],
      "metadata": {
        "id": "R5NTcsdMP7wW"
      },
      "execution_count": null,
      "outputs": []
    },
    {
      "cell_type": "code",
      "source": [
        "WC"
      ],
      "metadata": {
        "id": "k0r--Leo7ZEo"
      },
      "execution_count": null,
      "outputs": []
    },
    {
      "cell_type": "code",
      "source": [
        "!tar -xvZf /content/srilm-1.7.3.tar.gz -C /content"
      ],
      "metadata": {
        "colab": {
          "base_uri": "https://localhost:8080/"
        },
        "id": "b7UCpimfXA-n",
        "outputId": "59b26f4e-36ac-4b1e-a299-3a4f0d023f23"
      },
      "execution_count": null,
      "outputs": [
        {
          "output_type": "stream",
          "name": "stdout",
          "text": [
            "tar (child): compress: Cannot exec: No such file or directory\n",
            "tar (child): Error is not recoverable: exiting now\n",
            "tar: Child returned status 2\n",
            "tar: Error is not recoverable: exiting now\n"
          ]
        }
      ]
    },
    {
      "cell_type": "code",
      "source": [
        "!tar xvZf /content/srilm-1.7.3.tar.gz -C /content/"
      ],
      "metadata": {
        "id": "8g84xylxXlT4",
        "outputId": "9d69ebaf-6c62-48b2-f67e-4288431e99be",
        "colab": {
          "base_uri": "https://localhost:8080/"
        }
      },
      "execution_count": null,
      "outputs": [
        {
          "output_type": "stream",
          "name": "stdout",
          "text": [
            "tar (child): compress: Cannot exec: No such file or directory\n",
            "tar (child): Error is not recoverable: exiting now\n",
            "tar: Child returned status 2\n",
            "tar: Error is not recoverable: exiting now\n"
          ]
        }
      ]
    }
  ]
}